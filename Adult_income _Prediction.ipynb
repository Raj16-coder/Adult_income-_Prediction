{
 "cells": [
  {
   "cell_type": "markdown",
   "id": "22d2c2a5-38b9-47f5-b96a-428524f54327",
   "metadata": {},
   "source": [
    "#### Problem Statement:\n",
    "\n",
    "The Adult Occupation dataset aims to predict whether an individual’s income \n",
    "exceeds $50K per year based on demographic and employment-related attributes."
   ]
  },
  {
   "cell_type": "code",
   "execution_count": 1,
   "id": "085bc2ab-992e-4949-a0f0-4fd2e3a8a4df",
   "metadata": {},
   "outputs": [],
   "source": [
    "import pandas as pd\n",
    "import numpy as np\n",
    "import warnings\n",
    "warnings.filterwarnings('ignore')\n",
    "import seaborn as sns\n",
    "import matplotlib.pyplot as plt"
   ]
  },
  {
   "cell_type": "code",
   "execution_count": 2,
   "id": "c4184c16-f915-4948-a072-af749f95ebd2",
   "metadata": {},
   "outputs": [
    {
     "data": {
      "text/html": [
       "<div>\n",
       "<style scoped>\n",
       "    .dataframe tbody tr th:only-of-type {\n",
       "        vertical-align: middle;\n",
       "    }\n",
       "\n",
       "    .dataframe tbody tr th {\n",
       "        vertical-align: top;\n",
       "    }\n",
       "\n",
       "    .dataframe thead th {\n",
       "        text-align: right;\n",
       "    }\n",
       "</style>\n",
       "<table border=\"1\" class=\"dataframe\">\n",
       "  <thead>\n",
       "    <tr style=\"text-align: right;\">\n",
       "      <th></th>\n",
       "      <th>x</th>\n",
       "      <th>age</th>\n",
       "      <th>workclass</th>\n",
       "      <th>fnlwgt</th>\n",
       "      <th>education</th>\n",
       "      <th>educational-num</th>\n",
       "      <th>marital-status</th>\n",
       "      <th>occupation</th>\n",
       "      <th>relationship</th>\n",
       "      <th>race</th>\n",
       "      <th>gender</th>\n",
       "      <th>capital-gain</th>\n",
       "      <th>capital-loss</th>\n",
       "      <th>hours-per-week</th>\n",
       "      <th>native-country</th>\n",
       "      <th>income</th>\n",
       "    </tr>\n",
       "  </thead>\n",
       "  <tbody>\n",
       "    <tr>\n",
       "      <th>0</th>\n",
       "      <td>1</td>\n",
       "      <td>25</td>\n",
       "      <td>Private</td>\n",
       "      <td>226802</td>\n",
       "      <td>11th</td>\n",
       "      <td>7</td>\n",
       "      <td>Never-married</td>\n",
       "      <td>Machine-op-inspct</td>\n",
       "      <td>Own-child</td>\n",
       "      <td>Black</td>\n",
       "      <td>Male</td>\n",
       "      <td>0</td>\n",
       "      <td>0</td>\n",
       "      <td>40</td>\n",
       "      <td>United-States</td>\n",
       "      <td>&lt;=50K</td>\n",
       "    </tr>\n",
       "    <tr>\n",
       "      <th>1</th>\n",
       "      <td>2</td>\n",
       "      <td>38</td>\n",
       "      <td>Private</td>\n",
       "      <td>89814</td>\n",
       "      <td>HS-grad</td>\n",
       "      <td>9</td>\n",
       "      <td>Married-civ-spouse</td>\n",
       "      <td>Farming-fishing</td>\n",
       "      <td>Husband</td>\n",
       "      <td>White</td>\n",
       "      <td>Male</td>\n",
       "      <td>0</td>\n",
       "      <td>0</td>\n",
       "      <td>50</td>\n",
       "      <td>United-States</td>\n",
       "      <td>&lt;=50K</td>\n",
       "    </tr>\n",
       "    <tr>\n",
       "      <th>2</th>\n",
       "      <td>3</td>\n",
       "      <td>28</td>\n",
       "      <td>Local-gov</td>\n",
       "      <td>336951</td>\n",
       "      <td>Assoc-acdm</td>\n",
       "      <td>12</td>\n",
       "      <td>Married-civ-spouse</td>\n",
       "      <td>Protective-serv</td>\n",
       "      <td>Husband</td>\n",
       "      <td>White</td>\n",
       "      <td>Male</td>\n",
       "      <td>0</td>\n",
       "      <td>0</td>\n",
       "      <td>40</td>\n",
       "      <td>United-States</td>\n",
       "      <td>&gt;50K</td>\n",
       "    </tr>\n",
       "    <tr>\n",
       "      <th>3</th>\n",
       "      <td>4</td>\n",
       "      <td>44</td>\n",
       "      <td>Private</td>\n",
       "      <td>160323</td>\n",
       "      <td>Some-college</td>\n",
       "      <td>10</td>\n",
       "      <td>Married-civ-spouse</td>\n",
       "      <td>Machine-op-inspct</td>\n",
       "      <td>Husband</td>\n",
       "      <td>Black</td>\n",
       "      <td>Male</td>\n",
       "      <td>7688</td>\n",
       "      <td>0</td>\n",
       "      <td>40</td>\n",
       "      <td>United-States</td>\n",
       "      <td>&gt;50K</td>\n",
       "    </tr>\n",
       "    <tr>\n",
       "      <th>4</th>\n",
       "      <td>5</td>\n",
       "      <td>18</td>\n",
       "      <td>?</td>\n",
       "      <td>103497</td>\n",
       "      <td>Some-college</td>\n",
       "      <td>10</td>\n",
       "      <td>Never-married</td>\n",
       "      <td>?</td>\n",
       "      <td>Own-child</td>\n",
       "      <td>White</td>\n",
       "      <td>Female</td>\n",
       "      <td>0</td>\n",
       "      <td>0</td>\n",
       "      <td>30</td>\n",
       "      <td>United-States</td>\n",
       "      <td>&lt;=50K</td>\n",
       "    </tr>\n",
       "    <tr>\n",
       "      <th>...</th>\n",
       "      <td>...</td>\n",
       "      <td>...</td>\n",
       "      <td>...</td>\n",
       "      <td>...</td>\n",
       "      <td>...</td>\n",
       "      <td>...</td>\n",
       "      <td>...</td>\n",
       "      <td>...</td>\n",
       "      <td>...</td>\n",
       "      <td>...</td>\n",
       "      <td>...</td>\n",
       "      <td>...</td>\n",
       "      <td>...</td>\n",
       "      <td>...</td>\n",
       "      <td>...</td>\n",
       "      <td>...</td>\n",
       "    </tr>\n",
       "    <tr>\n",
       "      <th>48837</th>\n",
       "      <td>48838</td>\n",
       "      <td>27</td>\n",
       "      <td>Private</td>\n",
       "      <td>257302</td>\n",
       "      <td>Assoc-acdm</td>\n",
       "      <td>12</td>\n",
       "      <td>Married-civ-spouse</td>\n",
       "      <td>Tech-support</td>\n",
       "      <td>Wife</td>\n",
       "      <td>White</td>\n",
       "      <td>Female</td>\n",
       "      <td>0</td>\n",
       "      <td>0</td>\n",
       "      <td>38</td>\n",
       "      <td>United-States</td>\n",
       "      <td>&lt;=50K</td>\n",
       "    </tr>\n",
       "    <tr>\n",
       "      <th>48838</th>\n",
       "      <td>48839</td>\n",
       "      <td>40</td>\n",
       "      <td>Private</td>\n",
       "      <td>154374</td>\n",
       "      <td>HS-grad</td>\n",
       "      <td>9</td>\n",
       "      <td>Married-civ-spouse</td>\n",
       "      <td>Machine-op-inspct</td>\n",
       "      <td>Husband</td>\n",
       "      <td>White</td>\n",
       "      <td>Male</td>\n",
       "      <td>0</td>\n",
       "      <td>0</td>\n",
       "      <td>40</td>\n",
       "      <td>United-States</td>\n",
       "      <td>&gt;50K</td>\n",
       "    </tr>\n",
       "    <tr>\n",
       "      <th>48839</th>\n",
       "      <td>48840</td>\n",
       "      <td>58</td>\n",
       "      <td>Private</td>\n",
       "      <td>151910</td>\n",
       "      <td>HS-grad</td>\n",
       "      <td>9</td>\n",
       "      <td>Widowed</td>\n",
       "      <td>Adm-clerical</td>\n",
       "      <td>Unmarried</td>\n",
       "      <td>White</td>\n",
       "      <td>Female</td>\n",
       "      <td>0</td>\n",
       "      <td>0</td>\n",
       "      <td>40</td>\n",
       "      <td>United-States</td>\n",
       "      <td>&lt;=50K</td>\n",
       "    </tr>\n",
       "    <tr>\n",
       "      <th>48840</th>\n",
       "      <td>48841</td>\n",
       "      <td>22</td>\n",
       "      <td>Private</td>\n",
       "      <td>201490</td>\n",
       "      <td>HS-grad</td>\n",
       "      <td>9</td>\n",
       "      <td>Never-married</td>\n",
       "      <td>Adm-clerical</td>\n",
       "      <td>Own-child</td>\n",
       "      <td>White</td>\n",
       "      <td>Male</td>\n",
       "      <td>0</td>\n",
       "      <td>0</td>\n",
       "      <td>20</td>\n",
       "      <td>United-States</td>\n",
       "      <td>&lt;=50K</td>\n",
       "    </tr>\n",
       "    <tr>\n",
       "      <th>48841</th>\n",
       "      <td>48842</td>\n",
       "      <td>52</td>\n",
       "      <td>Self-emp-inc</td>\n",
       "      <td>287927</td>\n",
       "      <td>HS-grad</td>\n",
       "      <td>9</td>\n",
       "      <td>Married-civ-spouse</td>\n",
       "      <td>Exec-managerial</td>\n",
       "      <td>Wife</td>\n",
       "      <td>White</td>\n",
       "      <td>Female</td>\n",
       "      <td>15024</td>\n",
       "      <td>0</td>\n",
       "      <td>40</td>\n",
       "      <td>United-States</td>\n",
       "      <td>&gt;50K</td>\n",
       "    </tr>\n",
       "  </tbody>\n",
       "</table>\n",
       "<p>48842 rows × 16 columns</p>\n",
       "</div>"
      ],
      "text/plain": [
       "           x  age     workclass  fnlwgt     education  educational-num  \\\n",
       "0          1   25       Private  226802          11th                7   \n",
       "1          2   38       Private   89814       HS-grad                9   \n",
       "2          3   28     Local-gov  336951    Assoc-acdm               12   \n",
       "3          4   44       Private  160323  Some-college               10   \n",
       "4          5   18             ?  103497  Some-college               10   \n",
       "...      ...  ...           ...     ...           ...              ...   \n",
       "48837  48838   27       Private  257302    Assoc-acdm               12   \n",
       "48838  48839   40       Private  154374       HS-grad                9   \n",
       "48839  48840   58       Private  151910       HS-grad                9   \n",
       "48840  48841   22       Private  201490       HS-grad                9   \n",
       "48841  48842   52  Self-emp-inc  287927       HS-grad                9   \n",
       "\n",
       "           marital-status         occupation relationship   race  gender  \\\n",
       "0           Never-married  Machine-op-inspct    Own-child  Black    Male   \n",
       "1      Married-civ-spouse    Farming-fishing      Husband  White    Male   \n",
       "2      Married-civ-spouse    Protective-serv      Husband  White    Male   \n",
       "3      Married-civ-spouse  Machine-op-inspct      Husband  Black    Male   \n",
       "4           Never-married                  ?    Own-child  White  Female   \n",
       "...                   ...                ...          ...    ...     ...   \n",
       "48837  Married-civ-spouse       Tech-support         Wife  White  Female   \n",
       "48838  Married-civ-spouse  Machine-op-inspct      Husband  White    Male   \n",
       "48839             Widowed       Adm-clerical    Unmarried  White  Female   \n",
       "48840       Never-married       Adm-clerical    Own-child  White    Male   \n",
       "48841  Married-civ-spouse    Exec-managerial         Wife  White  Female   \n",
       "\n",
       "       capital-gain  capital-loss  hours-per-week native-country income  \n",
       "0                 0             0              40  United-States  <=50K  \n",
       "1                 0             0              50  United-States  <=50K  \n",
       "2                 0             0              40  United-States   >50K  \n",
       "3              7688             0              40  United-States   >50K  \n",
       "4                 0             0              30  United-States  <=50K  \n",
       "...             ...           ...             ...            ...    ...  \n",
       "48837             0             0              38  United-States  <=50K  \n",
       "48838             0             0              40  United-States   >50K  \n",
       "48839             0             0              40  United-States  <=50K  \n",
       "48840             0             0              20  United-States  <=50K  \n",
       "48841         15024             0              40  United-States   >50K  \n",
       "\n",
       "[48842 rows x 16 columns]"
      ]
     },
     "execution_count": 2,
     "metadata": {},
     "output_type": "execute_result"
    }
   ],
   "source": [
    "Adult=pd.read_csv(\"DA projects/adult_data.csv\") \n",
    "Adult"
   ]
  },
  {
   "cell_type": "code",
   "execution_count": 3,
   "id": "9f00f980-4b50-47bb-8032-f2a248830d77",
   "metadata": {},
   "outputs": [
    {
     "data": {
      "text/plain": [
       "(48842, 16)"
      ]
     },
     "execution_count": 3,
     "metadata": {},
     "output_type": "execute_result"
    }
   ],
   "source": [
    "Adult.shape"
   ]
  },
  {
   "cell_type": "code",
   "execution_count": 4,
   "id": "c497ff72-8d60-4039-a367-2d9d8a25a26e",
   "metadata": {},
   "outputs": [
    {
     "data": {
      "text/html": [
       "<div>\n",
       "<style scoped>\n",
       "    .dataframe tbody tr th:only-of-type {\n",
       "        vertical-align: middle;\n",
       "    }\n",
       "\n",
       "    .dataframe tbody tr th {\n",
       "        vertical-align: top;\n",
       "    }\n",
       "\n",
       "    .dataframe thead th {\n",
       "        text-align: right;\n",
       "    }\n",
       "</style>\n",
       "<table border=\"1\" class=\"dataframe\">\n",
       "  <thead>\n",
       "    <tr style=\"text-align: right;\">\n",
       "      <th></th>\n",
       "      <th>x</th>\n",
       "      <th>age</th>\n",
       "      <th>workclass</th>\n",
       "      <th>fnlwgt</th>\n",
       "      <th>education</th>\n",
       "      <th>educational-num</th>\n",
       "      <th>marital-status</th>\n",
       "      <th>occupation</th>\n",
       "      <th>relationship</th>\n",
       "      <th>race</th>\n",
       "      <th>gender</th>\n",
       "      <th>capital-gain</th>\n",
       "      <th>capital-loss</th>\n",
       "      <th>hours-per-week</th>\n",
       "      <th>native-country</th>\n",
       "      <th>income</th>\n",
       "    </tr>\n",
       "  </thead>\n",
       "  <tbody>\n",
       "    <tr>\n",
       "      <th>0</th>\n",
       "      <td>1</td>\n",
       "      <td>25</td>\n",
       "      <td>Private</td>\n",
       "      <td>226802</td>\n",
       "      <td>11th</td>\n",
       "      <td>7</td>\n",
       "      <td>Never-married</td>\n",
       "      <td>Machine-op-inspct</td>\n",
       "      <td>Own-child</td>\n",
       "      <td>Black</td>\n",
       "      <td>Male</td>\n",
       "      <td>0</td>\n",
       "      <td>0</td>\n",
       "      <td>40</td>\n",
       "      <td>United-States</td>\n",
       "      <td>&lt;=50K</td>\n",
       "    </tr>\n",
       "    <tr>\n",
       "      <th>1</th>\n",
       "      <td>2</td>\n",
       "      <td>38</td>\n",
       "      <td>Private</td>\n",
       "      <td>89814</td>\n",
       "      <td>HS-grad</td>\n",
       "      <td>9</td>\n",
       "      <td>Married-civ-spouse</td>\n",
       "      <td>Farming-fishing</td>\n",
       "      <td>Husband</td>\n",
       "      <td>White</td>\n",
       "      <td>Male</td>\n",
       "      <td>0</td>\n",
       "      <td>0</td>\n",
       "      <td>50</td>\n",
       "      <td>United-States</td>\n",
       "      <td>&lt;=50K</td>\n",
       "    </tr>\n",
       "    <tr>\n",
       "      <th>2</th>\n",
       "      <td>3</td>\n",
       "      <td>28</td>\n",
       "      <td>Local-gov</td>\n",
       "      <td>336951</td>\n",
       "      <td>Assoc-acdm</td>\n",
       "      <td>12</td>\n",
       "      <td>Married-civ-spouse</td>\n",
       "      <td>Protective-serv</td>\n",
       "      <td>Husband</td>\n",
       "      <td>White</td>\n",
       "      <td>Male</td>\n",
       "      <td>0</td>\n",
       "      <td>0</td>\n",
       "      <td>40</td>\n",
       "      <td>United-States</td>\n",
       "      <td>&gt;50K</td>\n",
       "    </tr>\n",
       "    <tr>\n",
       "      <th>3</th>\n",
       "      <td>4</td>\n",
       "      <td>44</td>\n",
       "      <td>Private</td>\n",
       "      <td>160323</td>\n",
       "      <td>Some-college</td>\n",
       "      <td>10</td>\n",
       "      <td>Married-civ-spouse</td>\n",
       "      <td>Machine-op-inspct</td>\n",
       "      <td>Husband</td>\n",
       "      <td>Black</td>\n",
       "      <td>Male</td>\n",
       "      <td>7688</td>\n",
       "      <td>0</td>\n",
       "      <td>40</td>\n",
       "      <td>United-States</td>\n",
       "      <td>&gt;50K</td>\n",
       "    </tr>\n",
       "    <tr>\n",
       "      <th>4</th>\n",
       "      <td>5</td>\n",
       "      <td>18</td>\n",
       "      <td>?</td>\n",
       "      <td>103497</td>\n",
       "      <td>Some-college</td>\n",
       "      <td>10</td>\n",
       "      <td>Never-married</td>\n",
       "      <td>?</td>\n",
       "      <td>Own-child</td>\n",
       "      <td>White</td>\n",
       "      <td>Female</td>\n",
       "      <td>0</td>\n",
       "      <td>0</td>\n",
       "      <td>30</td>\n",
       "      <td>United-States</td>\n",
       "      <td>&lt;=50K</td>\n",
       "    </tr>\n",
       "  </tbody>\n",
       "</table>\n",
       "</div>"
      ],
      "text/plain": [
       "   x  age  workclass  fnlwgt     education  educational-num  \\\n",
       "0  1   25    Private  226802          11th                7   \n",
       "1  2   38    Private   89814       HS-grad                9   \n",
       "2  3   28  Local-gov  336951    Assoc-acdm               12   \n",
       "3  4   44    Private  160323  Some-college               10   \n",
       "4  5   18          ?  103497  Some-college               10   \n",
       "\n",
       "       marital-status         occupation relationship   race  gender  \\\n",
       "0       Never-married  Machine-op-inspct    Own-child  Black    Male   \n",
       "1  Married-civ-spouse    Farming-fishing      Husband  White    Male   \n",
       "2  Married-civ-spouse    Protective-serv      Husband  White    Male   \n",
       "3  Married-civ-spouse  Machine-op-inspct      Husband  Black    Male   \n",
       "4       Never-married                  ?    Own-child  White  Female   \n",
       "\n",
       "   capital-gain  capital-loss  hours-per-week native-country income  \n",
       "0             0             0              40  United-States  <=50K  \n",
       "1             0             0              50  United-States  <=50K  \n",
       "2             0             0              40  United-States   >50K  \n",
       "3          7688             0              40  United-States   >50K  \n",
       "4             0             0              30  United-States  <=50K  "
      ]
     },
     "execution_count": 4,
     "metadata": {},
     "output_type": "execute_result"
    }
   ],
   "source": [
    "Adult.head()"
   ]
  },
  {
   "cell_type": "code",
   "execution_count": 5,
   "id": "485cf469-1e4e-455a-9803-ae47d66e99cf",
   "metadata": {},
   "outputs": [
    {
     "data": {
      "text/html": [
       "<div>\n",
       "<style scoped>\n",
       "    .dataframe tbody tr th:only-of-type {\n",
       "        vertical-align: middle;\n",
       "    }\n",
       "\n",
       "    .dataframe tbody tr th {\n",
       "        vertical-align: top;\n",
       "    }\n",
       "\n",
       "    .dataframe thead th {\n",
       "        text-align: right;\n",
       "    }\n",
       "</style>\n",
       "<table border=\"1\" class=\"dataframe\">\n",
       "  <thead>\n",
       "    <tr style=\"text-align: right;\">\n",
       "      <th></th>\n",
       "      <th>x</th>\n",
       "      <th>age</th>\n",
       "      <th>workclass</th>\n",
       "      <th>fnlwgt</th>\n",
       "      <th>education</th>\n",
       "      <th>educational-num</th>\n",
       "      <th>marital-status</th>\n",
       "      <th>occupation</th>\n",
       "      <th>relationship</th>\n",
       "      <th>race</th>\n",
       "      <th>gender</th>\n",
       "      <th>capital-gain</th>\n",
       "      <th>capital-loss</th>\n",
       "      <th>hours-per-week</th>\n",
       "      <th>native-country</th>\n",
       "      <th>income</th>\n",
       "    </tr>\n",
       "  </thead>\n",
       "  <tbody>\n",
       "    <tr>\n",
       "      <th>48837</th>\n",
       "      <td>48838</td>\n",
       "      <td>27</td>\n",
       "      <td>Private</td>\n",
       "      <td>257302</td>\n",
       "      <td>Assoc-acdm</td>\n",
       "      <td>12</td>\n",
       "      <td>Married-civ-spouse</td>\n",
       "      <td>Tech-support</td>\n",
       "      <td>Wife</td>\n",
       "      <td>White</td>\n",
       "      <td>Female</td>\n",
       "      <td>0</td>\n",
       "      <td>0</td>\n",
       "      <td>38</td>\n",
       "      <td>United-States</td>\n",
       "      <td>&lt;=50K</td>\n",
       "    </tr>\n",
       "    <tr>\n",
       "      <th>48838</th>\n",
       "      <td>48839</td>\n",
       "      <td>40</td>\n",
       "      <td>Private</td>\n",
       "      <td>154374</td>\n",
       "      <td>HS-grad</td>\n",
       "      <td>9</td>\n",
       "      <td>Married-civ-spouse</td>\n",
       "      <td>Machine-op-inspct</td>\n",
       "      <td>Husband</td>\n",
       "      <td>White</td>\n",
       "      <td>Male</td>\n",
       "      <td>0</td>\n",
       "      <td>0</td>\n",
       "      <td>40</td>\n",
       "      <td>United-States</td>\n",
       "      <td>&gt;50K</td>\n",
       "    </tr>\n",
       "    <tr>\n",
       "      <th>48839</th>\n",
       "      <td>48840</td>\n",
       "      <td>58</td>\n",
       "      <td>Private</td>\n",
       "      <td>151910</td>\n",
       "      <td>HS-grad</td>\n",
       "      <td>9</td>\n",
       "      <td>Widowed</td>\n",
       "      <td>Adm-clerical</td>\n",
       "      <td>Unmarried</td>\n",
       "      <td>White</td>\n",
       "      <td>Female</td>\n",
       "      <td>0</td>\n",
       "      <td>0</td>\n",
       "      <td>40</td>\n",
       "      <td>United-States</td>\n",
       "      <td>&lt;=50K</td>\n",
       "    </tr>\n",
       "    <tr>\n",
       "      <th>48840</th>\n",
       "      <td>48841</td>\n",
       "      <td>22</td>\n",
       "      <td>Private</td>\n",
       "      <td>201490</td>\n",
       "      <td>HS-grad</td>\n",
       "      <td>9</td>\n",
       "      <td>Never-married</td>\n",
       "      <td>Adm-clerical</td>\n",
       "      <td>Own-child</td>\n",
       "      <td>White</td>\n",
       "      <td>Male</td>\n",
       "      <td>0</td>\n",
       "      <td>0</td>\n",
       "      <td>20</td>\n",
       "      <td>United-States</td>\n",
       "      <td>&lt;=50K</td>\n",
       "    </tr>\n",
       "    <tr>\n",
       "      <th>48841</th>\n",
       "      <td>48842</td>\n",
       "      <td>52</td>\n",
       "      <td>Self-emp-inc</td>\n",
       "      <td>287927</td>\n",
       "      <td>HS-grad</td>\n",
       "      <td>9</td>\n",
       "      <td>Married-civ-spouse</td>\n",
       "      <td>Exec-managerial</td>\n",
       "      <td>Wife</td>\n",
       "      <td>White</td>\n",
       "      <td>Female</td>\n",
       "      <td>15024</td>\n",
       "      <td>0</td>\n",
       "      <td>40</td>\n",
       "      <td>United-States</td>\n",
       "      <td>&gt;50K</td>\n",
       "    </tr>\n",
       "  </tbody>\n",
       "</table>\n",
       "</div>"
      ],
      "text/plain": [
       "           x  age     workclass  fnlwgt   education  educational-num  \\\n",
       "48837  48838   27       Private  257302  Assoc-acdm               12   \n",
       "48838  48839   40       Private  154374     HS-grad                9   \n",
       "48839  48840   58       Private  151910     HS-grad                9   \n",
       "48840  48841   22       Private  201490     HS-grad                9   \n",
       "48841  48842   52  Self-emp-inc  287927     HS-grad                9   \n",
       "\n",
       "           marital-status         occupation relationship   race  gender  \\\n",
       "48837  Married-civ-spouse       Tech-support         Wife  White  Female   \n",
       "48838  Married-civ-spouse  Machine-op-inspct      Husband  White    Male   \n",
       "48839             Widowed       Adm-clerical    Unmarried  White  Female   \n",
       "48840       Never-married       Adm-clerical    Own-child  White    Male   \n",
       "48841  Married-civ-spouse    Exec-managerial         Wife  White  Female   \n",
       "\n",
       "       capital-gain  capital-loss  hours-per-week native-country income  \n",
       "48837             0             0              38  United-States  <=50K  \n",
       "48838             0             0              40  United-States   >50K  \n",
       "48839             0             0              40  United-States  <=50K  \n",
       "48840             0             0              20  United-States  <=50K  \n",
       "48841         15024             0              40  United-States   >50K  "
      ]
     },
     "execution_count": 5,
     "metadata": {},
     "output_type": "execute_result"
    }
   ],
   "source": [
    "Adult.tail(5)"
   ]
  },
  {
   "cell_type": "code",
   "execution_count": 6,
   "id": "f84cf493-1cb5-4bb8-a79d-6ae37b566b07",
   "metadata": {},
   "outputs": [],
   "source": [
    "Adult.drop_duplicates(inplace=True)"
   ]
  },
  {
   "cell_type": "code",
   "execution_count": 7,
   "id": "c56b01ce-80b7-4111-b2e1-fa65c6f3c414",
   "metadata": {},
   "outputs": [
    {
     "data": {
      "text/plain": [
       "(48842, 16)"
      ]
     },
     "execution_count": 7,
     "metadata": {},
     "output_type": "execute_result"
    }
   ],
   "source": [
    "Adult.shape"
   ]
  },
  {
   "cell_type": "code",
   "execution_count": 8,
   "id": "c8a8d9e0-eeb2-40be-a6c1-fdaa76a9d46b",
   "metadata": {},
   "outputs": [
    {
     "data": {
      "text/plain": [
       "x                   int64\n",
       "age                 int64\n",
       "workclass          object\n",
       "fnlwgt              int64\n",
       "education          object\n",
       "educational-num     int64\n",
       "marital-status     object\n",
       "occupation         object\n",
       "relationship       object\n",
       "race               object\n",
       "gender             object\n",
       "capital-gain        int64\n",
       "capital-loss        int64\n",
       "hours-per-week      int64\n",
       "native-country     object\n",
       "income             object\n",
       "dtype: object"
      ]
     },
     "execution_count": 8,
     "metadata": {},
     "output_type": "execute_result"
    }
   ],
   "source": [
    "Adult.dtypes"
   ]
  },
  {
   "cell_type": "code",
   "execution_count": 9,
   "id": "3d0b291c-cfce-419f-87f3-0048cb0f272f",
   "metadata": {},
   "outputs": [
    {
     "data": {
      "text/plain": [
       "x                  0\n",
       "age                0\n",
       "workclass          0\n",
       "fnlwgt             0\n",
       "education          0\n",
       "educational-num    0\n",
       "marital-status     0\n",
       "occupation         0\n",
       "relationship       0\n",
       "race               0\n",
       "gender             0\n",
       "capital-gain       0\n",
       "capital-loss       0\n",
       "hours-per-week     0\n",
       "native-country     0\n",
       "income             0\n",
       "dtype: int64"
      ]
     },
     "execution_count": 9,
     "metadata": {},
     "output_type": "execute_result"
    }
   ],
   "source": [
    "Adult.isnull().sum()      #No missing values"
   ]
  },
  {
   "cell_type": "markdown",
   "id": "fc87a763-aace-490a-85fb-bcca22fc4a62",
   "metadata": {},
   "source": [
    "### Data type conversion"
   ]
  },
  {
   "cell_type": "code",
   "execution_count": 10,
   "id": "9e6c82f3-b7c5-4383-8a0b-bc81332f3380",
   "metadata": {},
   "outputs": [
    {
     "data": {
      "text/plain": [
       "x                   int64\n",
       "age                 int64\n",
       "workclass          object\n",
       "fnlwgt              int64\n",
       "education          object\n",
       "educational-num     int64\n",
       "marital-status     object\n",
       "occupation         object\n",
       "relationship       object\n",
       "race               object\n",
       "gender             object\n",
       "capital-gain        int64\n",
       "capital-loss        int64\n",
       "hours-per-week      int64\n",
       "native-country     object\n",
       "income             object\n",
       "dtype: object"
      ]
     },
     "execution_count": 10,
     "metadata": {},
     "output_type": "execute_result"
    }
   ],
   "source": [
    "Adult.dtypes"
   ]
  },
  {
   "cell_type": "code",
   "execution_count": null,
   "id": "c5110356-aeb3-4bbd-9521-25a2380f3c16",
   "metadata": {},
   "outputs": [],
   "source": []
  },
  {
   "cell_type": "code",
   "execution_count": 11,
   "id": "ef49936e-d003-49a1-86c9-649e31d5f276",
   "metadata": {},
   "outputs": [],
   "source": [
    "Adult=Adult.rename(columns={\"marital-status\":\"marital_status\"})\n",
    "Adult=Adult.rename(columns={\"native-country\":\"native_country\"})\n",
    "Adult=Adult.rename(columns={\"educational-num\":\"educational_num\"})\n",
    "Adult=Adult.rename(columns={\"capital-gain\":\"capital_gain\"})\n",
    "Adult=Adult.rename(columns={\"capital-loss\":\"capital_loss\"})\n",
    "Adult=Adult.rename(columns={\"hours-per-week\":\"hours_per_week\"})"
   ]
  },
  {
   "cell_type": "code",
   "execution_count": 12,
   "id": "21c03733-e0ad-44db-99e8-7b0a0ac08032",
   "metadata": {},
   "outputs": [],
   "source": [
    "from sklearn.preprocessing import LabelEncoder\n",
    "le=LabelEncoder()"
   ]
  },
  {
   "cell_type": "code",
   "execution_count": 13,
   "id": "12ea974f-1051-4b6d-bf09-f51c2b763844",
   "metadata": {},
   "outputs": [],
   "source": [
    "Adult.workclass=le.fit_transform(Adult.workclass)\n",
    "Adult.education=le.fit_transform(Adult.education)\n",
    "Adult.marital_status=le.fit_transform(Adult.marital_status)\n",
    "Adult.occupation=le.fit_transform(Adult.occupation)\n",
    "Adult.relationship=le.fit_transform(Adult.relationship)\n",
    "Adult.race=le.fit_transform(Adult.race)\n",
    "Adult.gender=le.fit_transform(Adult.gender)\n",
    "Adult.native_country=le.fit_transform(Adult.native_country)\n",
    "Adult.income=le.fit_transform(Adult.income)"
   ]
  },
  {
   "cell_type": "code",
   "execution_count": 14,
   "id": "a292082e-297f-4eae-9ed5-1b44cc697ba4",
   "metadata": {},
   "outputs": [
    {
     "data": {
      "text/html": [
       "<div>\n",
       "<style scoped>\n",
       "    .dataframe tbody tr th:only-of-type {\n",
       "        vertical-align: middle;\n",
       "    }\n",
       "\n",
       "    .dataframe tbody tr th {\n",
       "        vertical-align: top;\n",
       "    }\n",
       "\n",
       "    .dataframe thead th {\n",
       "        text-align: right;\n",
       "    }\n",
       "</style>\n",
       "<table border=\"1\" class=\"dataframe\">\n",
       "  <thead>\n",
       "    <tr style=\"text-align: right;\">\n",
       "      <th></th>\n",
       "      <th>x</th>\n",
       "      <th>age</th>\n",
       "      <th>workclass</th>\n",
       "      <th>fnlwgt</th>\n",
       "      <th>education</th>\n",
       "      <th>educational_num</th>\n",
       "      <th>marital_status</th>\n",
       "      <th>occupation</th>\n",
       "      <th>relationship</th>\n",
       "      <th>race</th>\n",
       "      <th>gender</th>\n",
       "      <th>capital_gain</th>\n",
       "      <th>capital_loss</th>\n",
       "      <th>hours_per_week</th>\n",
       "      <th>native_country</th>\n",
       "      <th>income</th>\n",
       "    </tr>\n",
       "  </thead>\n",
       "  <tbody>\n",
       "    <tr>\n",
       "      <th>0</th>\n",
       "      <td>1</td>\n",
       "      <td>25</td>\n",
       "      <td>4</td>\n",
       "      <td>226802</td>\n",
       "      <td>1</td>\n",
       "      <td>7</td>\n",
       "      <td>4</td>\n",
       "      <td>7</td>\n",
       "      <td>3</td>\n",
       "      <td>2</td>\n",
       "      <td>1</td>\n",
       "      <td>0</td>\n",
       "      <td>0</td>\n",
       "      <td>40</td>\n",
       "      <td>39</td>\n",
       "      <td>0</td>\n",
       "    </tr>\n",
       "    <tr>\n",
       "      <th>1</th>\n",
       "      <td>2</td>\n",
       "      <td>38</td>\n",
       "      <td>4</td>\n",
       "      <td>89814</td>\n",
       "      <td>11</td>\n",
       "      <td>9</td>\n",
       "      <td>2</td>\n",
       "      <td>5</td>\n",
       "      <td>0</td>\n",
       "      <td>4</td>\n",
       "      <td>1</td>\n",
       "      <td>0</td>\n",
       "      <td>0</td>\n",
       "      <td>50</td>\n",
       "      <td>39</td>\n",
       "      <td>0</td>\n",
       "    </tr>\n",
       "    <tr>\n",
       "      <th>2</th>\n",
       "      <td>3</td>\n",
       "      <td>28</td>\n",
       "      <td>2</td>\n",
       "      <td>336951</td>\n",
       "      <td>7</td>\n",
       "      <td>12</td>\n",
       "      <td>2</td>\n",
       "      <td>11</td>\n",
       "      <td>0</td>\n",
       "      <td>4</td>\n",
       "      <td>1</td>\n",
       "      <td>0</td>\n",
       "      <td>0</td>\n",
       "      <td>40</td>\n",
       "      <td>39</td>\n",
       "      <td>1</td>\n",
       "    </tr>\n",
       "    <tr>\n",
       "      <th>3</th>\n",
       "      <td>4</td>\n",
       "      <td>44</td>\n",
       "      <td>4</td>\n",
       "      <td>160323</td>\n",
       "      <td>15</td>\n",
       "      <td>10</td>\n",
       "      <td>2</td>\n",
       "      <td>7</td>\n",
       "      <td>0</td>\n",
       "      <td>2</td>\n",
       "      <td>1</td>\n",
       "      <td>7688</td>\n",
       "      <td>0</td>\n",
       "      <td>40</td>\n",
       "      <td>39</td>\n",
       "      <td>1</td>\n",
       "    </tr>\n",
       "    <tr>\n",
       "      <th>4</th>\n",
       "      <td>5</td>\n",
       "      <td>18</td>\n",
       "      <td>0</td>\n",
       "      <td>103497</td>\n",
       "      <td>15</td>\n",
       "      <td>10</td>\n",
       "      <td>4</td>\n",
       "      <td>0</td>\n",
       "      <td>3</td>\n",
       "      <td>4</td>\n",
       "      <td>0</td>\n",
       "      <td>0</td>\n",
       "      <td>0</td>\n",
       "      <td>30</td>\n",
       "      <td>39</td>\n",
       "      <td>0</td>\n",
       "    </tr>\n",
       "  </tbody>\n",
       "</table>\n",
       "</div>"
      ],
      "text/plain": [
       "   x  age  workclass  fnlwgt  education  educational_num  marital_status  \\\n",
       "0  1   25          4  226802          1                7               4   \n",
       "1  2   38          4   89814         11                9               2   \n",
       "2  3   28          2  336951          7               12               2   \n",
       "3  4   44          4  160323         15               10               2   \n",
       "4  5   18          0  103497         15               10               4   \n",
       "\n",
       "   occupation  relationship  race  gender  capital_gain  capital_loss  \\\n",
       "0           7             3     2       1             0             0   \n",
       "1           5             0     4       1             0             0   \n",
       "2          11             0     4       1             0             0   \n",
       "3           7             0     2       1          7688             0   \n",
       "4           0             3     4       0             0             0   \n",
       "\n",
       "   hours_per_week  native_country  income  \n",
       "0              40              39       0  \n",
       "1              50              39       0  \n",
       "2              40              39       1  \n",
       "3              40              39       1  \n",
       "4              30              39       0  "
      ]
     },
     "execution_count": 14,
     "metadata": {},
     "output_type": "execute_result"
    }
   ],
   "source": [
    "Adult.head()"
   ]
  },
  {
   "cell_type": "markdown",
   "id": "d99f83e0-d1d3-4c9a-9b96-91fd2a8b2326",
   "metadata": {},
   "source": [
    "### Visualization"
   ]
  },
  {
   "cell_type": "code",
   "execution_count": 15,
   "id": "14ec24e3-95c4-4a91-b012-e09abaa0af12",
   "metadata": {},
   "outputs": [
    {
     "data": {
      "text/plain": [
       "<Axes: xlabel='gender', ylabel='hours_per_week'>"
      ]
     },
     "execution_count": 15,
     "metadata": {},
     "output_type": "execute_result"
    },
    {
     "data": {
      "image/png": "[encoded data removed]",
      "text/plain": [
       "<Figure size 640x480 with 1 Axes>"
      ]
     },
     "metadata": {},
     "output_type": "display_data"
    }
   ],
   "source": [
    "sns.barplot(x=\"gender\",y=\"hours_per_week\",data=Adult)"
   ]
  },
  {
   "cell_type": "markdown",
   "id": "32815622-a1be-44af-9bf1-c39760595c3c",
   "metadata": {},
   "source": [
    "#### males works hours per week is greater than female ."
   ]
  },
  {
   "cell_type": "code",
   "execution_count": 16,
   "id": "d2946074-5755-431a-8a52-167a554ccfbd",
   "metadata": {},
   "outputs": [
    {
     "data": {
      "text/plain": [
       "<Axes: xlabel='income', ylabel='count'>"
      ]
     },
     "execution_count": 16,
     "metadata": {},
     "output_type": "execute_result"
    },
    {
     "data": {
      "image/png": "[encoded data removed]",
      "text/plain": [
       "<Figure size 640x480 with 1 Axes>"
      ]
     },
     "metadata": {},
     "output_type": "display_data"
    }
   ],
   "source": [
    "sns.countplot(x=\"income\",data=Adult)"
   ]
  },
  {
   "cell_type": "markdown",
   "id": "e8f60291-748b-40e9-8d55-7fa877ea1499",
   "metadata": {},
   "source": [
    "#### income 0 == <=50K is more than 1 means== >50K"
   ]
  },
  {
   "cell_type": "code",
   "execution_count": 17,
   "id": "2818eb9c-6c59-439d-a543-05924762b5ce",
   "metadata": {},
   "outputs": [
    {
     "data": {
      "text/plain": [
       "<Axes: xlabel='income', ylabel='Density'>"
      ]
     },
     "execution_count": 17,
     "metadata": {},
     "output_type": "execute_result"
    },
    {
     "data": {
      "image/png": "[encoded data removed]",
      "text/plain": [
       "<Figure size 640x480 with 1 Axes>"
      ]
     },
     "metadata": {},
     "output_type": "display_data"
    }
   ],
   "source": [
    "sns.kdeplot(data=Adult,x=\"income\",hue=\"gender\",fill=True,alpha=0.6,linewidth=1.5)"
   ]
  },
  {
   "cell_type": "markdown",
   "id": "cee90d86-cadc-4cda-8535-1b8bd71f5aa0",
   "metadata": {},
   "source": [
    "#### Male income is more than female "
   ]
  },
  {
   "cell_type": "code",
   "execution_count": 18,
   "id": "0a9a9b30-28e8-4ee4-a8f3-1fdb7a05ede1",
   "metadata": {},
   "outputs": [
    {
     "data": {
      "text/html": [
       "<div>\n",
       "<style scoped>\n",
       "    .dataframe tbody tr th:only-of-type {\n",
       "        vertical-align: middle;\n",
       "    }\n",
       "\n",
       "    .dataframe tbody tr th {\n",
       "        vertical-align: top;\n",
       "    }\n",
       "\n",
       "    .dataframe thead th {\n",
       "        text-align: right;\n",
       "    }\n",
       "</style>\n",
       "<table border=\"1\" class=\"dataframe\">\n",
       "  <thead>\n",
       "    <tr style=\"text-align: right;\">\n",
       "      <th></th>\n",
       "      <th>x</th>\n",
       "      <th>age</th>\n",
       "      <th>workclass</th>\n",
       "      <th>fnlwgt</th>\n",
       "      <th>education</th>\n",
       "      <th>educational_num</th>\n",
       "      <th>marital_status</th>\n",
       "      <th>occupation</th>\n",
       "      <th>relationship</th>\n",
       "      <th>race</th>\n",
       "      <th>gender</th>\n",
       "      <th>capital_gain</th>\n",
       "      <th>capital_loss</th>\n",
       "      <th>hours_per_week</th>\n",
       "      <th>native_country</th>\n",
       "      <th>income</th>\n",
       "    </tr>\n",
       "  </thead>\n",
       "  <tbody>\n",
       "    <tr>\n",
       "      <th>x</th>\n",
       "      <td>1.000000</td>\n",
       "      <td>-0.003973</td>\n",
       "      <td>-0.002106</td>\n",
       "      <td>0.001435</td>\n",
       "      <td>-0.000137</td>\n",
       "      <td>0.001213</td>\n",
       "      <td>-0.006673</td>\n",
       "      <td>-0.000618</td>\n",
       "      <td>-0.001028</td>\n",
       "      <td>-0.005392</td>\n",
       "      <td>0.000464</td>\n",
       "      <td>-0.000532</td>\n",
       "      <td>-0.001139</td>\n",
       "      <td>0.001497</td>\n",
       "      <td>-0.004497</td>\n",
       "      <td>0.006795</td>\n",
       "    </tr>\n",
       "    <tr>\n",
       "      <th>age</th>\n",
       "      <td>-0.003973</td>\n",
       "      <td>1.000000</td>\n",
       "      <td>0.017526</td>\n",
       "      <td>-0.076628</td>\n",
       "      <td>-0.015058</td>\n",
       "      <td>0.030940</td>\n",
       "      <td>-0.263978</td>\n",
       "      <td>-0.014259</td>\n",
       "      <td>-0.263383</td>\n",
       "      <td>0.028421</td>\n",
       "      <td>0.088120</td>\n",
       "      <td>0.077229</td>\n",
       "      <td>0.056944</td>\n",
       "      <td>0.071558</td>\n",
       "      <td>-0.002861</td>\n",
       "      <td>0.230369</td>\n",
       "    </tr>\n",
       "    <tr>\n",
       "      <th>workclass</th>\n",
       "      <td>-0.002106</td>\n",
       "      <td>0.017526</td>\n",
       "      <td>1.000000</td>\n",
       "      <td>-0.016546</td>\n",
       "      <td>0.017187</td>\n",
       "      <td>0.055918</td>\n",
       "      <td>-0.068441</td>\n",
       "      <td>0.260005</td>\n",
       "      <td>-0.092365</td>\n",
       "      <td>0.052932</td>\n",
       "      <td>0.091223</td>\n",
       "      <td>0.036044</td>\n",
       "      <td>0.010880</td>\n",
       "      <td>0.141283</td>\n",
       "      <td>-0.008631</td>\n",
       "      <td>0.052674</td>\n",
       "    </tr>\n",
       "    <tr>\n",
       "      <th>fnlwgt</th>\n",
       "      <td>0.001435</td>\n",
       "      <td>-0.076628</td>\n",
       "      <td>-0.016546</td>\n",
       "      <td>1.000000</td>\n",
       "      <td>-0.022570</td>\n",
       "      <td>-0.038761</td>\n",
       "      <td>0.029851</td>\n",
       "      <td>0.000860</td>\n",
       "      <td>0.009092</td>\n",
       "      <td>-0.027062</td>\n",
       "      <td>0.027739</td>\n",
       "      <td>-0.003706</td>\n",
       "      <td>-0.004366</td>\n",
       "      <td>-0.013519</td>\n",
       "      <td>-0.048680</td>\n",
       "      <td>-0.006339</td>\n",
       "    </tr>\n",
       "    <tr>\n",
       "      <th>education</th>\n",
       "      <td>-0.000137</td>\n",
       "      <td>-0.015058</td>\n",
       "      <td>0.017187</td>\n",
       "      <td>-0.022570</td>\n",
       "      <td>1.000000</td>\n",
       "      <td>0.359668</td>\n",
       "      <td>-0.037417</td>\n",
       "      <td>-0.020972</td>\n",
       "      <td>-0.010758</td>\n",
       "      <td>0.013250</td>\n",
       "      <td>-0.027041</td>\n",
       "      <td>0.028928</td>\n",
       "      <td>0.017638</td>\n",
       "      <td>0.057659</td>\n",
       "      <td>0.061469</td>\n",
       "      <td>0.080091</td>\n",
       "    </tr>\n",
       "    <tr>\n",
       "      <th>educational_num</th>\n",
       "      <td>0.001213</td>\n",
       "      <td>0.030940</td>\n",
       "      <td>0.055918</td>\n",
       "      <td>-0.038761</td>\n",
       "      <td>0.359668</td>\n",
       "      <td>1.000000</td>\n",
       "      <td>-0.069992</td>\n",
       "      <td>0.112265</td>\n",
       "      <td>-0.090534</td>\n",
       "      <td>0.029239</td>\n",
       "      <td>0.009328</td>\n",
       "      <td>0.125146</td>\n",
       "      <td>0.080972</td>\n",
       "      <td>0.143689</td>\n",
       "      <td>0.049107</td>\n",
       "      <td>0.332613</td>\n",
       "    </tr>\n",
       "    <tr>\n",
       "      <th>marital_status</th>\n",
       "      <td>-0.006673</td>\n",
       "      <td>-0.263978</td>\n",
       "      <td>-0.068441</td>\n",
       "      <td>0.029851</td>\n",
       "      <td>-0.037417</td>\n",
       "      <td>-0.069992</td>\n",
       "      <td>1.000000</td>\n",
       "      <td>-0.017179</td>\n",
       "      <td>0.187800</td>\n",
       "      <td>-0.070104</td>\n",
       "      <td>-0.127479</td>\n",
       "      <td>-0.043969</td>\n",
       "      <td>-0.033872</td>\n",
       "      <td>-0.185567</td>\n",
       "      <td>-0.021375</td>\n",
       "      <td>-0.199072</td>\n",
       "    </tr>\n",
       "    <tr>\n",
       "      <th>occupation</th>\n",
       "      <td>-0.000618</td>\n",
       "      <td>-0.014259</td>\n",
       "      <td>0.260005</td>\n",
       "      <td>0.000860</td>\n",
       "      <td>-0.020972</td>\n",
       "      <td>0.112265</td>\n",
       "      <td>-0.017179</td>\n",
       "      <td>1.000000</td>\n",
       "      <td>-0.076356</td>\n",
       "      <td>0.005671</td>\n",
       "      <td>0.075081</td>\n",
       "      <td>0.024163</td>\n",
       "      <td>0.017180</td>\n",
       "      <td>0.079986</td>\n",
       "      <td>-0.013424</td>\n",
       "      <td>0.076722</td>\n",
       "    </tr>\n",
       "    <tr>\n",
       "      <th>relationship</th>\n",
       "      <td>-0.001028</td>\n",
       "      <td>-0.263383</td>\n",
       "      <td>-0.092365</td>\n",
       "      <td>0.009092</td>\n",
       "      <td>-0.010758</td>\n",
       "      <td>-0.090534</td>\n",
       "      <td>0.187800</td>\n",
       "      <td>-0.076356</td>\n",
       "      <td>1.000000</td>\n",
       "      <td>-0.117041</td>\n",
       "      <td>-0.579797</td>\n",
       "      <td>-0.056510</td>\n",
       "      <td>-0.057201</td>\n",
       "      <td>-0.250400</td>\n",
       "      <td>-0.003962</td>\n",
       "      <td>-0.253214</td>\n",
       "    </tr>\n",
       "    <tr>\n",
       "      <th>race</th>\n",
       "      <td>-0.005392</td>\n",
       "      <td>0.028421</td>\n",
       "      <td>0.052932</td>\n",
       "      <td>-0.027062</td>\n",
       "      <td>0.013250</td>\n",
       "      <td>0.029239</td>\n",
       "      <td>-0.070104</td>\n",
       "      <td>0.005671</td>\n",
       "      <td>-0.117041</td>\n",
       "      <td>1.000000</td>\n",
       "      <td>0.086734</td>\n",
       "      <td>0.011581</td>\n",
       "      <td>0.018595</td>\n",
       "      <td>0.039694</td>\n",
       "      <td>0.138231</td>\n",
       "      <td>0.070934</td>\n",
       "    </tr>\n",
       "    <tr>\n",
       "      <th>gender</th>\n",
       "      <td>0.000464</td>\n",
       "      <td>0.088120</td>\n",
       "      <td>0.091223</td>\n",
       "      <td>0.027739</td>\n",
       "      <td>-0.027041</td>\n",
       "      <td>0.009328</td>\n",
       "      <td>-0.127479</td>\n",
       "      <td>0.075081</td>\n",
       "      <td>-0.579797</td>\n",
       "      <td>0.086734</td>\n",
       "      <td>1.000000</td>\n",
       "      <td>0.047094</td>\n",
       "      <td>0.045480</td>\n",
       "      <td>0.228560</td>\n",
       "      <td>-0.009780</td>\n",
       "      <td>0.214628</td>\n",
       "    </tr>\n",
       "    <tr>\n",
       "      <th>capital_gain</th>\n",
       "      <td>-0.000532</td>\n",
       "      <td>0.077229</td>\n",
       "      <td>0.036044</td>\n",
       "      <td>-0.003706</td>\n",
       "      <td>0.028928</td>\n",
       "      <td>0.125146</td>\n",
       "      <td>-0.043969</td>\n",
       "      <td>0.024163</td>\n",
       "      <td>-0.056510</td>\n",
       "      <td>0.011581</td>\n",
       "      <td>0.047094</td>\n",
       "      <td>1.000000</td>\n",
       "      <td>-0.031441</td>\n",
       "      <td>0.082157</td>\n",
       "      <td>-0.001816</td>\n",
       "      <td>0.223013</td>\n",
       "    </tr>\n",
       "    <tr>\n",
       "      <th>capital_loss</th>\n",
       "      <td>-0.001139</td>\n",
       "      <td>0.056944</td>\n",
       "      <td>0.010880</td>\n",
       "      <td>-0.004366</td>\n",
       "      <td>0.017638</td>\n",
       "      <td>0.080972</td>\n",
       "      <td>-0.033872</td>\n",
       "      <td>0.017180</td>\n",
       "      <td>-0.057201</td>\n",
       "      <td>0.018595</td>\n",
       "      <td>0.045480</td>\n",
       "      <td>-0.031441</td>\n",
       "      <td>1.000000</td>\n",
       "      <td>0.054467</td>\n",
       "      <td>0.003449</td>\n",
       "      <td>0.147554</td>\n",
       "    </tr>\n",
       "    <tr>\n",
       "      <th>hours_per_week</th>\n",
       "      <td>0.001497</td>\n",
       "      <td>0.071558</td>\n",
       "      <td>0.141283</td>\n",
       "      <td>-0.013519</td>\n",
       "      <td>0.057659</td>\n",
       "      <td>0.143689</td>\n",
       "      <td>-0.185567</td>\n",
       "      <td>0.079986</td>\n",
       "      <td>-0.250400</td>\n",
       "      <td>0.039694</td>\n",
       "      <td>0.228560</td>\n",
       "      <td>0.082157</td>\n",
       "      <td>0.054467</td>\n",
       "      <td>1.000000</td>\n",
       "      <td>0.000705</td>\n",
       "      <td>0.227687</td>\n",
       "    </tr>\n",
       "    <tr>\n",
       "      <th>native_country</th>\n",
       "      <td>-0.004497</td>\n",
       "      <td>-0.002861</td>\n",
       "      <td>-0.008631</td>\n",
       "      <td>-0.048680</td>\n",
       "      <td>0.061469</td>\n",
       "      <td>0.049107</td>\n",
       "      <td>-0.021375</td>\n",
       "      <td>-0.013424</td>\n",
       "      <td>-0.003962</td>\n",
       "      <td>0.138231</td>\n",
       "      <td>-0.009780</td>\n",
       "      <td>-0.001816</td>\n",
       "      <td>0.003449</td>\n",
       "      <td>0.000705</td>\n",
       "      <td>1.000000</td>\n",
       "      <td>0.012210</td>\n",
       "    </tr>\n",
       "    <tr>\n",
       "      <th>income</th>\n",
       "      <td>0.006795</td>\n",
       "      <td>0.230369</td>\n",
       "      <td>0.052674</td>\n",
       "      <td>-0.006339</td>\n",
       "      <td>0.080091</td>\n",
       "      <td>0.332613</td>\n",
       "      <td>-0.199072</td>\n",
       "      <td>0.076722</td>\n",
       "      <td>-0.253214</td>\n",
       "      <td>0.070934</td>\n",
       "      <td>0.214628</td>\n",
       "      <td>0.223013</td>\n",
       "      <td>0.147554</td>\n",
       "      <td>0.227687</td>\n",
       "      <td>0.012210</td>\n",
       "      <td>1.000000</td>\n",
       "    </tr>\n",
       "  </tbody>\n",
       "</table>\n",
       "</div>"
      ],
      "text/plain": [
       "                        x       age  workclass    fnlwgt  education  \\\n",
       "x                1.000000 -0.003973  -0.002106  0.001435  -0.000137   \n",
       "age             -0.003973  1.000000   0.017526 -0.076628  -0.015058   \n",
       "workclass       -0.002106  0.017526   1.000000 -0.016546   0.017187   \n",
       "fnlwgt           0.001435 -0.076628  -0.016546  1.000000  -0.022570   \n",
       "education       -0.000137 -0.015058   0.017187 -0.022570   1.000000   \n",
       "educational_num  0.001213  0.030940   0.055918 -0.038761   0.359668   \n",
       "marital_status  -0.006673 -0.263978  -0.068441  0.029851  -0.037417   \n",
       "occupation      -0.000618 -0.014259   0.260005  0.000860  -0.020972   \n",
       "relationship    -0.001028 -0.263383  -0.092365  0.009092  -0.010758   \n",
       "race            -0.005392  0.028421   0.052932 -0.027062   0.013250   \n",
       "gender           0.000464  0.088120   0.091223  0.027739  -0.027041   \n",
       "capital_gain    -0.000532  0.077229   0.036044 -0.003706   0.028928   \n",
       "capital_loss    -0.001139  0.056944   0.010880 -0.004366   0.017638   \n",
       "hours_per_week   0.001497  0.071558   0.141283 -0.013519   0.057659   \n",
       "native_country  -0.004497 -0.002861  -0.008631 -0.048680   0.061469   \n",
       "income           0.006795  0.230369   0.052674 -0.006339   0.080091   \n",
       "\n",
       "                 educational_num  marital_status  occupation  relationship  \\\n",
       "x                       0.001213       -0.006673   -0.000618     -0.001028   \n",
       "age                     0.030940       -0.263978   -0.014259     -0.263383   \n",
       "workclass               0.055918       -0.068441    0.260005     -0.092365   \n",
       "fnlwgt                 -0.038761        0.029851    0.000860      0.009092   \n",
       "education               0.359668       -0.037417   -0.020972     -0.010758   \n",
       "educational_num         1.000000       -0.069992    0.112265     -0.090534   \n",
       "marital_status         -0.069992        1.000000   -0.017179      0.187800   \n",
       "occupation              0.112265       -0.017179    1.000000     -0.076356   \n",
       "relationship           -0.090534        0.187800   -0.076356      1.000000   \n",
       "race                    0.029239       -0.070104    0.005671     -0.117041   \n",
       "gender                  0.009328       -0.127479    0.075081     -0.579797   \n",
       "capital_gain            0.125146       -0.043969    0.024163     -0.056510   \n",
       "capital_loss            0.080972       -0.033872    0.017180     -0.057201   \n",
       "hours_per_week          0.143689       -0.185567    0.079986     -0.250400   \n",
       "native_country          0.049107       -0.021375   -0.013424     -0.003962   \n",
       "income                  0.332613       -0.199072    0.076722     -0.253214   \n",
       "\n",
       "                     race    gender  capital_gain  capital_loss  \\\n",
       "x               -0.005392  0.000464     -0.000532     -0.001139   \n",
       "age              0.028421  0.088120      0.077229      0.056944   \n",
       "workclass        0.052932  0.091223      0.036044      0.010880   \n",
       "fnlwgt          -0.027062  0.027739     -0.003706     -0.004366   \n",
       "education        0.013250 -0.027041      0.028928      0.017638   \n",
       "educational_num  0.029239  0.009328      0.125146      0.080972   \n",
       "marital_status  -0.070104 -0.127479     -0.043969     -0.033872   \n",
       "occupation       0.005671  0.075081      0.024163      0.017180   \n",
       "relationship    -0.117041 -0.579797     -0.056510     -0.057201   \n",
       "race             1.000000  0.086734      0.011581      0.018595   \n",
       "gender           0.086734  1.000000      0.047094      0.045480   \n",
       "capital_gain     0.011581  0.047094      1.000000     -0.031441   \n",
       "capital_loss     0.018595  0.045480     -0.031441      1.000000   \n",
       "hours_per_week   0.039694  0.228560      0.082157      0.054467   \n",
       "native_country   0.138231 -0.009780     -0.001816      0.003449   \n",
       "income           0.070934  0.214628      0.223013      0.147554   \n",
       "\n",
       "                 hours_per_week  native_country    income  \n",
       "x                      0.001497       -0.004497  0.006795  \n",
       "age                    0.071558       -0.002861  0.230369  \n",
       "workclass              0.141283       -0.008631  0.052674  \n",
       "fnlwgt                -0.013519       -0.048680 -0.006339  \n",
       "education              0.057659        0.061469  0.080091  \n",
       "educational_num        0.143689        0.049107  0.332613  \n",
       "marital_status        -0.185567       -0.021375 -0.199072  \n",
       "occupation             0.079986       -0.013424  0.076722  \n",
       "relationship          -0.250400       -0.003962 -0.253214  \n",
       "race                   0.039694        0.138231  0.070934  \n",
       "gender                 0.228560       -0.009780  0.214628  \n",
       "capital_gain           0.082157       -0.001816  0.223013  \n",
       "capital_loss           0.054467        0.003449  0.147554  \n",
       "hours_per_week         1.000000        0.000705  0.227687  \n",
       "native_country         0.000705        1.000000  0.012210  \n",
       "income                 0.227687        0.012210  1.000000  "
      ]
     },
     "execution_count": 18,
     "metadata": {},
     "output_type": "execute_result"
    }
   ],
   "source": [
    "d1=Adult.corr()\n",
    "d1"
   ]
  },
  {
   "cell_type": "code",
   "execution_count": 19,
   "id": "c320171d-3a99-4f6a-a8f3-c57ea1e1664e",
   "metadata": {},
   "outputs": [
    {
     "data": {
      "image/png": "[encoded data removed]",
      "text/plain": [
       "<Figure size 1500x1000 with 2 Axes>"
      ]
     },
     "metadata": {},
     "output_type": "display_data"
    }
   ],
   "source": [
    "plt.figure(figsize=[15,10])\n",
    "heatmap=sns.heatmap(d1,linewidth=1,annot=True,cmap=plt.cm.Blues)"
   ]
  },
  {
   "cell_type": "markdown",
   "id": "37d075b7-adfc-4f43-9591-50938edca4c4",
   "metadata": {},
   "source": [
    "### train and test split"
   ]
  },
  {
   "cell_type": "code",
   "execution_count": 20,
   "id": "8f1af95b-a078-4894-b53c-0b74ad476989",
   "metadata": {},
   "outputs": [
    {
     "data": {
      "text/plain": [
       "((48842, 15), (48842,))"
      ]
     },
     "execution_count": 20,
     "metadata": {},
     "output_type": "execute_result"
    }
   ],
   "source": [
    "x=Adult.iloc[:,0:15]\n",
    "y=Adult.iloc[:,-1]\n",
    "x.shape,y.shape"
   ]
  },
  {
   "cell_type": "code",
   "execution_count": 21,
   "id": "0de6f719-e619-47c3-a6fd-7e1a816e91bb",
   "metadata": {},
   "outputs": [],
   "source": [
    "from sklearn.model_selection import train_test_split"
   ]
  },
  {
   "cell_type": "code",
   "execution_count": 22,
   "id": "33cee4f7-c426-4fe2-b4d6-8a9727e115c1",
   "metadata": {},
   "outputs": [],
   "source": [
    "ad_x_train,ad_x_test,ad_y_train,ad_y_test=train_test_split(x,y,test_size=0.2,random_state=101)"
   ]
  },
  {
   "cell_type": "code",
   "execution_count": 23,
   "id": "ac8ccc9a-c981-46c0-9f1b-bc6649b11fa0",
   "metadata": {},
   "outputs": [
    {
     "data": {
      "text/plain": [
       "((39073, 15), (9769, 15), (39073,), (9769,))"
      ]
     },
     "execution_count": 23,
     "metadata": {},
     "output_type": "execute_result"
    }
   ],
   "source": [
    "ad_x_train.shape,ad_x_test.shape,ad_y_train.shape,ad_y_test.shape"
   ]
  },
  {
   "cell_type": "markdown",
   "id": "1c40696a-d9a4-4bd0-b420-c8ffab8cce0e",
   "metadata": {},
   "source": [
    "### Logistic Regression"
   ]
  },
  {
   "cell_type": "code",
   "execution_count": 24,
   "id": "759146c5-8ce1-4a4b-90e4-45857efe2433",
   "metadata": {},
   "outputs": [],
   "source": [
    "from sklearn.linear_model  import LogisticRegression\n",
    "lg=LogisticRegression()"
   ]
  },
  {
   "cell_type": "code",
   "execution_count": 25,
   "id": "286160b0-b316-45ae-8e62-d888d4909f58",
   "metadata": {},
   "outputs": [
    {
     "data": {
      "text/html": [
       "<style>#sk-container-id-1 {color: black;background-color: white;}#sk-container-id-1 pre{padding: 0;}#sk-container-id-1 div.sk-toggleable {background-color: white;}#sk-container-id-1 label.sk-toggleable__label {cursor: pointer;display: block;width: 100%;margin-bottom: 0;padding: 0.3em;box-sizing: border-box;text-align: center;}#sk-container-id-1 label.sk-toggleable__label-arrow:before {content: \"▸\";float: left;margin-right: 0.25em;color: #696969;}#sk-container-id-1 label.sk-toggleable__label-arrow:hover:before {color: black;}#sk-container-id-1 div.sk-estimator:hover label.sk-toggleable__label-arrow:before {color: black;}#sk-container-id-1 div.sk-toggleable__content {max-height: 0;max-width: 0;overflow: hidden;text-align: left;background-color: #f0f8ff;}#sk-container-id-1 div.sk-toggleable__content pre {margin: 0.2em;color: black;border-radius: 0.25em;background-color: #f0f8ff;}#sk-container-id-1 input.sk-toggleable__control:checked~div.sk-toggleable__content {max-height: 200px;max-width: 100%;overflow: auto;}#sk-container-id-1 input.sk-toggleable__control:checked~label.sk-toggleable__label-arrow:before {content: \"▾\";}#sk-container-id-1 div.sk-estimator input.sk-toggleable__control:checked~label.sk-toggleable__label {background-color: #d4ebff;}#sk-container-id-1 div.sk-label input.sk-toggleable__control:checked~label.sk-toggleable__label {background-color: #d4ebff;}#sk-container-id-1 input.sk-hidden--visually {border: 0;clip: rect(1px 1px 1px 1px);clip: rect(1px, 1px, 1px, 1px);height: 1px;margin: -1px;overflow: hidden;padding: 0;position: absolute;width: 1px;}#sk-container-id-1 div.sk-estimator {font-family: monospace;background-color: #f0f8ff;border: 1px dotted black;border-radius: 0.25em;box-sizing: border-box;margin-bottom: 0.5em;}#sk-container-id-1 div.sk-estimator:hover {background-color: #d4ebff;}#sk-container-id-1 div.sk-parallel-item::after {content: \"\";width: 100%;border-bottom: 1px solid gray;flex-grow: 1;}#sk-container-id-1 div.sk-label:hover label.sk-toggleable__label {background-color: #d4ebff;}#sk-container-id-1 div.sk-serial::before {content: \"\";position: absolute;border-left: 1px solid gray;box-sizing: border-box;top: 0;bottom: 0;left: 50%;z-index: 0;}#sk-container-id-1 div.sk-serial {display: flex;flex-direction: column;align-items: center;background-color: white;padding-right: 0.2em;padding-left: 0.2em;position: relative;}#sk-container-id-1 div.sk-item {position: relative;z-index: 1;}#sk-container-id-1 div.sk-parallel {display: flex;align-items: stretch;justify-content: center;background-color: white;position: relative;}#sk-container-id-1 div.sk-item::before, #sk-container-id-1 div.sk-parallel-item::before {content: \"\";position: absolute;border-left: 1px solid gray;box-sizing: border-box;top: 0;bottom: 0;left: 50%;z-index: -1;}#sk-container-id-1 div.sk-parallel-item {display: flex;flex-direction: column;z-index: 1;position: relative;background-color: white;}#sk-container-id-1 div.sk-parallel-item:first-child::after {align-self: flex-end;width: 50%;}#sk-container-id-1 div.sk-parallel-item:last-child::after {align-self: flex-start;width: 50%;}#sk-container-id-1 div.sk-parallel-item:only-child::after {width: 0;}#sk-container-id-1 div.sk-dashed-wrapped {border: 1px dashed gray;margin: 0 0.4em 0.5em 0.4em;box-sizing: border-box;padding-bottom: 0.4em;background-color: white;}#sk-container-id-1 div.sk-label label {font-family: monospace;font-weight: bold;display: inline-block;line-height: 1.2em;}#sk-container-id-1 div.sk-label-container {text-align: center;}#sk-container-id-1 div.sk-container {/* jupyter's `normalize.less` sets `[hidden] { display: none; }` but bootstrap.min.css set `[hidden] { display: none !important; }` so we also need the `!important` here to be able to override the default hidden behavior on the sphinx rendered scikit-learn.org. See: https://github.com/scikit-learn/scikit-learn/issues/21755 */display: inline-block !important;position: relative;}#sk-container-id-1 div.sk-text-repr-fallback {display: none;}</style><div id=\"sk-container-id-1\" class=\"sk-top-container\"><div class=\"sk-text-repr-fallback\"><pre>LogisticRegression()</pre><b>In a Jupyter environment, please rerun this cell to show the HTML representation or trust the notebook. <br />On GitHub, the HTML representation is unable to render, please try loading this page with nbviewer.org.</b></div><div class=\"sk-container\" hidden><div class=\"sk-item\"><div class=\"sk-estimator sk-toggleable\"><input class=\"sk-toggleable__control sk-hidden--visually\" id=\"sk-estimator-id-1\" type=\"checkbox\" checked><label for=\"sk-estimator-id-1\" class=\"sk-toggleable__label sk-toggleable__label-arrow\">LogisticRegression</label><div class=\"sk-toggleable__content\"><pre>LogisticRegression()</pre></div></div></div></div></div>"
      ],
      "text/plain": [
       "LogisticRegression()"
      ]
     },
     "execution_count": 25,
     "metadata": {},
     "output_type": "execute_result"
    }
   ],
   "source": [
    "lg.fit(ad_x_train,ad_y_train)"
   ]
  },
  {
   "cell_type": "code",
   "execution_count": 26,
   "id": "6d30d3fa-2fda-4e5f-938b-8e76884a4763",
   "metadata": {},
   "outputs": [],
   "source": [
    "p1=lg.predict(ad_x_test)\n",
    "#p1"
   ]
  },
  {
   "cell_type": "code",
   "execution_count": 27,
   "id": "f2f39a0e-1640-44be-80f4-66b012305ea4",
   "metadata": {},
   "outputs": [],
   "source": [
    "p_value=lg.predict_proba(ad_x_test)\n",
    "#p_value"
   ]
  },
  {
   "cell_type": "code",
   "execution_count": 28,
   "id": "08bad0fb-b820-43fa-99df-2b11d801ae08",
   "metadata": {},
   "outputs": [],
   "source": [
    "from sklearn.metrics import confusion_matrix"
   ]
  },
  {
   "cell_type": "code",
   "execution_count": 29,
   "id": "b3293961-4c69-41dc-8a82-afbf319e5593",
   "metadata": {},
   "outputs": [
    {
     "data": {
      "text/plain": [
       "array([[7009, 1701],\n",
       "       [ 393,  666]], dtype=int64)"
      ]
     },
     "execution_count": 29,
     "metadata": {},
     "output_type": "execute_result"
    }
   ],
   "source": [
    "cm=confusion_matrix(p1,ad_y_test)\n",
    "cm"
   ]
  },
  {
   "cell_type": "code",
   "execution_count": 30,
   "id": "0d55ccf6-128c-450e-bc56-01dc2fde433c",
   "metadata": {},
   "outputs": [],
   "source": [
    "TN, FP, FN, TP = cm.ravel()"
   ]
  },
  {
   "cell_type": "code",
   "execution_count": 31,
   "id": "5be349fc-e4ac-45f7-ac56-9dc6c58991fc",
   "metadata": {},
   "outputs": [
    {
     "data": {
      "text/plain": [
       "0.2813688212927757"
      ]
     },
     "execution_count": 31,
     "metadata": {},
     "output_type": "execute_result"
    }
   ],
   "source": [
    "lp = TP / (TP + FP)\n",
    "lp"
   ]
  },
  {
   "cell_type": "code",
   "execution_count": 32,
   "id": "b6affaf1-71c5-4157-a1f3-5ef54bf54f27",
   "metadata": {},
   "outputs": [
    {
     "data": {
      "text/plain": [
       "0.6288951841359773"
      ]
     },
     "execution_count": 32,
     "metadata": {},
     "output_type": "execute_result"
    }
   ],
   "source": [
    "lr = TP / (TP + FN)\n",
    "lr"
   ]
  },
  {
   "cell_type": "code",
   "execution_count": 33,
   "id": "ece3b8a6-9dd8-4038-ad11-4e18a0092e17",
   "metadata": {},
   "outputs": [
    {
     "data": {
      "text/plain": [
       "0.3887915936952715"
      ]
     },
     "execution_count": 33,
     "metadata": {},
     "output_type": "execute_result"
    }
   ],
   "source": [
    "lf1 = 2 * (lp * lr) / (lp + lr)\n",
    "lf1"
   ]
  },
  {
   "cell_type": "code",
   "execution_count": 34,
   "id": "97caa5ab-aceb-4729-bdf0-ed64ec4daaef",
   "metadata": {},
   "outputs": [
    {
     "data": {
      "text/plain": [
       "78.56484798853516"
      ]
     },
     "execution_count": 34,
     "metadata": {},
     "output_type": "execute_result"
    }
   ],
   "source": [
    "ac=cm.diagonal().sum()/cm.sum()*100\n",
    "ac  "
   ]
  },
  {
   "cell_type": "code",
   "execution_count": 35,
   "id": "7c665135-9275-493b-a6b3-c3f8e44a9e9e",
   "metadata": {},
   "outputs": [
    {
     "name": "stdout",
     "output_type": "stream",
     "text": [
      "              precision    recall  f1-score   support\n",
      "\n",
      "           0       0.95      0.80      0.87      8710\n",
      "           1       0.28      0.63      0.39      1059\n",
      "\n",
      "    accuracy                           0.79      9769\n",
      "   macro avg       0.61      0.72      0.63      9769\n",
      "weighted avg       0.87      0.79      0.82      9769\n",
      "\n"
     ]
    }
   ],
   "source": [
    "from sklearn.metrics import classification_report\n",
    "print(classification_report(p1,ad_y_test))"
   ]
  },
  {
   "cell_type": "markdown",
   "id": "a4d00141-871d-4dd3-891a-ffc2af1d7d76",
   "metadata": {},
   "source": [
    "### Decision Tree"
   ]
  },
  {
   "cell_type": "code",
   "execution_count": 36,
   "id": "b6279881-cc83-4705-b42a-f6f1b23190f4",
   "metadata": {},
   "outputs": [],
   "source": [
    "from sklearn.tree import DecisionTreeClassifier\n",
    "dt=DecisionTreeClassifier()"
   ]
  },
  {
   "cell_type": "code",
   "execution_count": 37,
   "id": "c204d029-02d7-46be-aa3c-11f63fd951f7",
   "metadata": {},
   "outputs": [
    {
     "data": {
      "text/html": [
       "<style>#sk-container-id-2 {color: black;background-color: white;}#sk-container-id-2 pre{padding: 0;}#sk-container-id-2 div.sk-toggleable {background-color: white;}#sk-container-id-2 label.sk-toggleable__label {cursor: pointer;display: block;width: 100%;margin-bottom: 0;padding: 0.3em;box-sizing: border-box;text-align: center;}#sk-container-id-2 label.sk-toggleable__label-arrow:before {content: \"▸\";float: left;margin-right: 0.25em;color: #696969;}#sk-container-id-2 label.sk-toggleable__label-arrow:hover:before {color: black;}#sk-container-id-2 div.sk-estimator:hover label.sk-toggleable__label-arrow:before {color: black;}#sk-container-id-2 div.sk-toggleable__content {max-height: 0;max-width: 0;overflow: hidden;text-align: left;background-color: #f0f8ff;}#sk-container-id-2 div.sk-toggleable__content pre {margin: 0.2em;color: black;border-radius: 0.25em;background-color: #f0f8ff;}#sk-container-id-2 input.sk-toggleable__control:checked~div.sk-toggleable__content {max-height: 200px;max-width: 100%;overflow: auto;}#sk-container-id-2 input.sk-toggleable__control:checked~label.sk-toggleable__label-arrow:before {content: \"▾\";}#sk-container-id-2 div.sk-estimator input.sk-toggleable__control:checked~label.sk-toggleable__label {background-color: #d4ebff;}#sk-container-id-2 div.sk-label input.sk-toggleable__control:checked~label.sk-toggleable__label {background-color: #d4ebff;}#sk-container-id-2 input.sk-hidden--visually {border: 0;clip: rect(1px 1px 1px 1px);clip: rect(1px, 1px, 1px, 1px);height: 1px;margin: -1px;overflow: hidden;padding: 0;position: absolute;width: 1px;}#sk-container-id-2 div.sk-estimator {font-family: monospace;background-color: #f0f8ff;border: 1px dotted black;border-radius: 0.25em;box-sizing: border-box;margin-bottom: 0.5em;}#sk-container-id-2 div.sk-estimator:hover {background-color: #d4ebff;}#sk-container-id-2 div.sk-parallel-item::after {content: \"\";width: 100%;border-bottom: 1px solid gray;flex-grow: 1;}#sk-container-id-2 div.sk-label:hover label.sk-toggleable__label {background-color: #d4ebff;}#sk-container-id-2 div.sk-serial::before {content: \"\";position: absolute;border-left: 1px solid gray;box-sizing: border-box;top: 0;bottom: 0;left: 50%;z-index: 0;}#sk-container-id-2 div.sk-serial {display: flex;flex-direction: column;align-items: center;background-color: white;padding-right: 0.2em;padding-left: 0.2em;position: relative;}#sk-container-id-2 div.sk-item {position: relative;z-index: 1;}#sk-container-id-2 div.sk-parallel {display: flex;align-items: stretch;justify-content: center;background-color: white;position: relative;}#sk-container-id-2 div.sk-item::before, #sk-container-id-2 div.sk-parallel-item::before {content: \"\";position: absolute;border-left: 1px solid gray;box-sizing: border-box;top: 0;bottom: 0;left: 50%;z-index: -1;}#sk-container-id-2 div.sk-parallel-item {display: flex;flex-direction: column;z-index: 1;position: relative;background-color: white;}#sk-container-id-2 div.sk-parallel-item:first-child::after {align-self: flex-end;width: 50%;}#sk-container-id-2 div.sk-parallel-item:last-child::after {align-self: flex-start;width: 50%;}#sk-container-id-2 div.sk-parallel-item:only-child::after {width: 0;}#sk-container-id-2 div.sk-dashed-wrapped {border: 1px dashed gray;margin: 0 0.4em 0.5em 0.4em;box-sizing: border-box;padding-bottom: 0.4em;background-color: white;}#sk-container-id-2 div.sk-label label {font-family: monospace;font-weight: bold;display: inline-block;line-height: 1.2em;}#sk-container-id-2 div.sk-label-container {text-align: center;}#sk-container-id-2 div.sk-container {/* jupyter's `normalize.less` sets `[hidden] { display: none; }` but bootstrap.min.css set `[hidden] { display: none !important; }` so we also need the `!important` here to be able to override the default hidden behavior on the sphinx rendered scikit-learn.org. See: https://github.com/scikit-learn/scikit-learn/issues/21755 */display: inline-block !important;position: relative;}#sk-container-id-2 div.sk-text-repr-fallback {display: none;}</style><div id=\"sk-container-id-2\" class=\"sk-top-container\"><div class=\"sk-text-repr-fallback\"><pre>DecisionTreeClassifier()</pre><b>In a Jupyter environment, please rerun this cell to show the HTML representation or trust the notebook. <br />On GitHub, the HTML representation is unable to render, please try loading this page with nbviewer.org.</b></div><div class=\"sk-container\" hidden><div class=\"sk-item\"><div class=\"sk-estimator sk-toggleable\"><input class=\"sk-toggleable__control sk-hidden--visually\" id=\"sk-estimator-id-2\" type=\"checkbox\" checked><label for=\"sk-estimator-id-2\" class=\"sk-toggleable__label sk-toggleable__label-arrow\">DecisionTreeClassifier</label><div class=\"sk-toggleable__content\"><pre>DecisionTreeClassifier()</pre></div></div></div></div></div>"
      ],
      "text/plain": [
       "DecisionTreeClassifier()"
      ]
     },
     "execution_count": 37,
     "metadata": {},
     "output_type": "execute_result"
    }
   ],
   "source": [
    "dt.fit(ad_x_train,ad_y_train)"
   ]
  },
  {
   "cell_type": "code",
   "execution_count": 38,
   "id": "690b28dc-c44d-4a04-85e7-c5453cd57ee8",
   "metadata": {},
   "outputs": [],
   "source": [
    "dp=dt.predict(ad_x_test)"
   ]
  },
  {
   "cell_type": "code",
   "execution_count": 39,
   "id": "875a77fc-7e4b-4f84-8d71-a6a7c3ba00bd",
   "metadata": {},
   "outputs": [
    {
     "data": {
      "text/plain": [
       "array([[6425,  910],\n",
       "       [ 977, 1457]], dtype=int64)"
      ]
     },
     "execution_count": 39,
     "metadata": {},
     "output_type": "execute_result"
    }
   ],
   "source": [
    "d_m=confusion_matrix(dp,ad_y_test)\n",
    "d_m"
   ]
  },
  {
   "cell_type": "code",
   "execution_count": 40,
   "id": "71e01783-d28a-4ef3-8095-bcb4e836eb56",
   "metadata": {},
   "outputs": [],
   "source": [
    "TN, FP, FN, TP = d_m.ravel()"
   ]
  },
  {
   "cell_type": "code",
   "execution_count": 41,
   "id": "d521ce8b-2392-476a-9c48-e194adc42d6a",
   "metadata": {},
   "outputs": [
    {
     "data": {
      "text/plain": [
       "0.6155471060414026"
      ]
     },
     "execution_count": 41,
     "metadata": {},
     "output_type": "execute_result"
    }
   ],
   "source": [
    "d_p = TP / (TP + FP)\n",
    "d_p"
   ]
  },
  {
   "cell_type": "code",
   "execution_count": 42,
   "id": "583ad611-79bb-4c8d-b267-948ec354464d",
   "metadata": {},
   "outputs": [
    {
     "data": {
      "text/plain": [
       "0.5986031224322104"
      ]
     },
     "execution_count": 42,
     "metadata": {},
     "output_type": "execute_result"
    }
   ],
   "source": [
    "d_r = TP / (TP + FN)\n",
    "d_r"
   ]
  },
  {
   "cell_type": "code",
   "execution_count": 43,
   "id": "3a10f853-3da1-4d50-b5df-cc5aa41b3c51",
   "metadata": {},
   "outputs": [
    {
     "data": {
      "text/plain": [
       "0.6069568839825036"
      ]
     },
     "execution_count": 43,
     "metadata": {},
     "output_type": "execute_result"
    }
   ],
   "source": [
    "df1 = 2 * (d_p * d_r) / (d_p + d_r)\n",
    "df1"
   ]
  },
  {
   "cell_type": "code",
   "execution_count": 44,
   "id": "1165a8ff-3502-41ad-9409-0d585f83deb2",
   "metadata": {},
   "outputs": [
    {
     "data": {
      "text/plain": [
       "80.68379568021292"
      ]
     },
     "execution_count": 44,
     "metadata": {},
     "output_type": "execute_result"
    }
   ],
   "source": [
    "d_ac=d_m.diagonal().sum()/d_m.sum()*100\n",
    "d_ac"
   ]
  },
  {
   "cell_type": "code",
   "execution_count": 45,
   "id": "6051f29a-23c5-4120-8a5c-3cc791b2b8e1",
   "metadata": {},
   "outputs": [
    {
     "name": "stdout",
     "output_type": "stream",
     "text": [
      "              precision    recall  f1-score   support\n",
      "\n",
      "           0       0.87      0.88      0.87      7335\n",
      "           1       0.62      0.60      0.61      2434\n",
      "\n",
      "    accuracy                           0.81      9769\n",
      "   macro avg       0.74      0.74      0.74      9769\n",
      "weighted avg       0.81      0.81      0.81      9769\n",
      "\n"
     ]
    }
   ],
   "source": [
    "print(classification_report(dp,ad_y_test))"
   ]
  },
  {
   "cell_type": "markdown",
   "id": "acb26dca-876e-487c-a232-44ccf1bd13ac",
   "metadata": {},
   "source": [
    "### Random Forest"
   ]
  },
  {
   "cell_type": "code",
   "execution_count": 46,
   "id": "2951cec4-4215-4866-8ac5-2069cb0e30c2",
   "metadata": {},
   "outputs": [],
   "source": [
    "from sklearn.ensemble import RandomForestClassifier\n",
    "rf=RandomForestClassifier()"
   ]
  },
  {
   "cell_type": "code",
   "execution_count": 47,
   "id": "ff321c16-3699-4bc0-aac0-09c773e0c487",
   "metadata": {},
   "outputs": [
    {
     "data": {
      "text/html": [
       "<style>#sk-container-id-3 {color: black;background-color: white;}#sk-container-id-3 pre{padding: 0;}#sk-container-id-3 div.sk-toggleable {background-color: white;}#sk-container-id-3 label.sk-toggleable__label {cursor: pointer;display: block;width: 100%;margin-bottom: 0;padding: 0.3em;box-sizing: border-box;text-align: center;}#sk-container-id-3 label.sk-toggleable__label-arrow:before {content: \"▸\";float: left;margin-right: 0.25em;color: #696969;}#sk-container-id-3 label.sk-toggleable__label-arrow:hover:before {color: black;}#sk-container-id-3 div.sk-estimator:hover label.sk-toggleable__label-arrow:before {color: black;}#sk-container-id-3 div.sk-toggleable__content {max-height: 0;max-width: 0;overflow: hidden;text-align: left;background-color: #f0f8ff;}#sk-container-id-3 div.sk-toggleable__content pre {margin: 0.2em;color: black;border-radius: 0.25em;background-color: #f0f8ff;}#sk-container-id-3 input.sk-toggleable__control:checked~div.sk-toggleable__content {max-height: 200px;max-width: 100%;overflow: auto;}#sk-container-id-3 input.sk-toggleable__control:checked~label.sk-toggleable__label-arrow:before {content: \"▾\";}#sk-container-id-3 div.sk-estimator input.sk-toggleable__control:checked~label.sk-toggleable__label {background-color: #d4ebff;}#sk-container-id-3 div.sk-label input.sk-toggleable__control:checked~label.sk-toggleable__label {background-color: #d4ebff;}#sk-container-id-3 input.sk-hidden--visually {border: 0;clip: rect(1px 1px 1px 1px);clip: rect(1px, 1px, 1px, 1px);height: 1px;margin: -1px;overflow: hidden;padding: 0;position: absolute;width: 1px;}#sk-container-id-3 div.sk-estimator {font-family: monospace;background-color: #f0f8ff;border: 1px dotted black;border-radius: 0.25em;box-sizing: border-box;margin-bottom: 0.5em;}#sk-container-id-3 div.sk-estimator:hover {background-color: #d4ebff;}#sk-container-id-3 div.sk-parallel-item::after {content: \"\";width: 100%;border-bottom: 1px solid gray;flex-grow: 1;}#sk-container-id-3 div.sk-label:hover label.sk-toggleable__label {background-color: #d4ebff;}#sk-container-id-3 div.sk-serial::before {content: \"\";position: absolute;border-left: 1px solid gray;box-sizing: border-box;top: 0;bottom: 0;left: 50%;z-index: 0;}#sk-container-id-3 div.sk-serial {display: flex;flex-direction: column;align-items: center;background-color: white;padding-right: 0.2em;padding-left: 0.2em;position: relative;}#sk-container-id-3 div.sk-item {position: relative;z-index: 1;}#sk-container-id-3 div.sk-parallel {display: flex;align-items: stretch;justify-content: center;background-color: white;position: relative;}#sk-container-id-3 div.sk-item::before, #sk-container-id-3 div.sk-parallel-item::before {content: \"\";position: absolute;border-left: 1px solid gray;box-sizing: border-box;top: 0;bottom: 0;left: 50%;z-index: -1;}#sk-container-id-3 div.sk-parallel-item {display: flex;flex-direction: column;z-index: 1;position: relative;background-color: white;}#sk-container-id-3 div.sk-parallel-item:first-child::after {align-self: flex-end;width: 50%;}#sk-container-id-3 div.sk-parallel-item:last-child::after {align-self: flex-start;width: 50%;}#sk-container-id-3 div.sk-parallel-item:only-child::after {width: 0;}#sk-container-id-3 div.sk-dashed-wrapped {border: 1px dashed gray;margin: 0 0.4em 0.5em 0.4em;box-sizing: border-box;padding-bottom: 0.4em;background-color: white;}#sk-container-id-3 div.sk-label label {font-family: monospace;font-weight: bold;display: inline-block;line-height: 1.2em;}#sk-container-id-3 div.sk-label-container {text-align: center;}#sk-container-id-3 div.sk-container {/* jupyter's `normalize.less` sets `[hidden] { display: none; }` but bootstrap.min.css set `[hidden] { display: none !important; }` so we also need the `!important` here to be able to override the default hidden behavior on the sphinx rendered scikit-learn.org. See: https://github.com/scikit-learn/scikit-learn/issues/21755 */display: inline-block !important;position: relative;}#sk-container-id-3 div.sk-text-repr-fallback {display: none;}</style><div id=\"sk-container-id-3\" class=\"sk-top-container\"><div class=\"sk-text-repr-fallback\"><pre>RandomForestClassifier()</pre><b>In a Jupyter environment, please rerun this cell to show the HTML representation or trust the notebook. <br />On GitHub, the HTML representation is unable to render, please try loading this page with nbviewer.org.</b></div><div class=\"sk-container\" hidden><div class=\"sk-item\"><div class=\"sk-estimator sk-toggleable\"><input class=\"sk-toggleable__control sk-hidden--visually\" id=\"sk-estimator-id-3\" type=\"checkbox\" checked><label for=\"sk-estimator-id-3\" class=\"sk-toggleable__label sk-toggleable__label-arrow\">RandomForestClassifier</label><div class=\"sk-toggleable__content\"><pre>RandomForestClassifier()</pre></div></div></div></div></div>"
      ],
      "text/plain": [
       "RandomForestClassifier()"
      ]
     },
     "execution_count": 47,
     "metadata": {},
     "output_type": "execute_result"
    }
   ],
   "source": [
    "rf.fit(ad_x_train,ad_y_train)"
   ]
  },
  {
   "cell_type": "code",
   "execution_count": 48,
   "id": "a7e6ab83-3838-44f5-83f3-a071bb84b2bd",
   "metadata": {},
   "outputs": [],
   "source": [
    "rp=rf.predict(ad_x_test)"
   ]
  },
  {
   "cell_type": "code",
   "execution_count": 49,
   "id": "2cfde748-f946-4f69-98ef-63975b6830c8",
   "metadata": {},
   "outputs": [
    {
     "data": {
      "text/plain": [
       "array([[6923,  903],\n",
       "       [ 479, 1464]], dtype=int64)"
      ]
     },
     "execution_count": 49,
     "metadata": {},
     "output_type": "execute_result"
    }
   ],
   "source": [
    "r_m=confusion_matrix(rp,ad_y_test)\n",
    "r_m"
   ]
  },
  {
   "cell_type": "code",
   "execution_count": 50,
   "id": "7105a1c2-8ad6-49e2-b43d-48fe47723c68",
   "metadata": {},
   "outputs": [],
   "source": [
    "TN, FP, FN, TP = r_m.ravel()"
   ]
  },
  {
   "cell_type": "code",
   "execution_count": 51,
   "id": "6c6af6d2-9169-4403-95a2-fdbc9b1da9f4",
   "metadata": {},
   "outputs": [
    {
     "data": {
      "text/plain": [
       "0.6185044359949303"
      ]
     },
     "execution_count": 51,
     "metadata": {},
     "output_type": "execute_result"
    }
   ],
   "source": [
    "r_p = TP / (TP + FP)\n",
    "r_p"
   ]
  },
  {
   "cell_type": "code",
   "execution_count": 52,
   "id": "fe1d460c-1ad8-405c-871b-35f52d4eecf3",
   "metadata": {},
   "outputs": [
    {
     "data": {
      "text/plain": [
       "0.7534740092640247"
      ]
     },
     "execution_count": 52,
     "metadata": {},
     "output_type": "execute_result"
    }
   ],
   "source": [
    "r_r = TP / (TP + FN)\n",
    "r_r"
   ]
  },
  {
   "cell_type": "code",
   "execution_count": 53,
   "id": "d194cc9c-3c35-4ded-9f8e-2ac8c200bb3e",
   "metadata": {},
   "outputs": [
    {
     "data": {
      "text/plain": [
       "0.6793503480278423"
      ]
     },
     "execution_count": 53,
     "metadata": {},
     "output_type": "execute_result"
    }
   ],
   "source": [
    "rf1 = 2 * (r_p * r_r) / (r_p + r_r)\n",
    "rf1"
   ]
  },
  {
   "cell_type": "code",
   "execution_count": 54,
   "id": "4c76a770-4b96-4e45-8b7f-72327a017142",
   "metadata": {},
   "outputs": [
    {
     "data": {
      "text/plain": [
       "85.85320913092436"
      ]
     },
     "execution_count": 54,
     "metadata": {},
     "output_type": "execute_result"
    }
   ],
   "source": [
    "r_ac=r_m.diagonal().sum()/r_m.sum()*100\n",
    "r_ac"
   ]
  },
  {
   "cell_type": "code",
   "execution_count": 55,
   "id": "c13317f1-70bc-4024-b276-5fe1d9b1717a",
   "metadata": {},
   "outputs": [
    {
     "name": "stdout",
     "output_type": "stream",
     "text": [
      "              precision    recall  f1-score   support\n",
      "\n",
      "           0       0.94      0.88      0.91      7826\n",
      "           1       0.62      0.75      0.68      1943\n",
      "\n",
      "    accuracy                           0.86      9769\n",
      "   macro avg       0.78      0.82      0.79      9769\n",
      "weighted avg       0.87      0.86      0.86      9769\n",
      "\n"
     ]
    }
   ],
   "source": [
    "print(classification_report(rp,ad_y_test))"
   ]
  },
  {
   "cell_type": "markdown",
   "id": "15003a3d-5dae-4657-accf-fb993602bdec",
   "metadata": {},
   "source": [
    "### AUC ROC Curve"
   ]
  },
  {
   "cell_type": "code",
   "execution_count": 56,
   "id": "48fb5954-bf12-4105-9f41-b1b77d2c5e57",
   "metadata": {},
   "outputs": [],
   "source": [
    "from sklearn.metrics import roc_auc_score\n",
    "from sklearn.metrics import roc_curve"
   ]
  },
  {
   "cell_type": "code",
   "execution_count": 57,
   "id": "53b90cde-9ba1-4344-98f7-3a7df466ea8c",
   "metadata": {},
   "outputs": [
    {
     "data": {
      "text/plain": [
       "0.8190446969397047"
      ]
     },
     "execution_count": 57,
     "metadata": {},
     "output_type": "execute_result"
    }
   ],
   "source": [
    "roc=roc_auc_score(rp,ad_y_test) #predicted ,actual value\n",
    "roc"
   ]
  },
  {
   "cell_type": "code",
   "execution_count": 58,
   "id": "db3a07a0-6dd0-4a86-96a1-f53e81bbbc6c",
   "metadata": {},
   "outputs": [
    {
     "data": {
      "text/html": [
       "<div>\n",
       "<style scoped>\n",
       "    .dataframe tbody tr th:only-of-type {\n",
       "        vertical-align: middle;\n",
       "    }\n",
       "\n",
       "    .dataframe tbody tr th {\n",
       "        vertical-align: top;\n",
       "    }\n",
       "\n",
       "    .dataframe thead th {\n",
       "        text-align: right;\n",
       "    }\n",
       "</style>\n",
       "<table border=\"1\" class=\"dataframe\">\n",
       "  <thead>\n",
       "    <tr style=\"text-align: right;\">\n",
       "      <th></th>\n",
       "      <th>0</th>\n",
       "    </tr>\n",
       "  </thead>\n",
       "  <tbody>\n",
       "    <tr>\n",
       "      <th>0</th>\n",
       "      <td>0</td>\n",
       "    </tr>\n",
       "    <tr>\n",
       "      <th>1</th>\n",
       "      <td>0</td>\n",
       "    </tr>\n",
       "    <tr>\n",
       "      <th>2</th>\n",
       "      <td>0</td>\n",
       "    </tr>\n",
       "    <tr>\n",
       "      <th>3</th>\n",
       "      <td>1</td>\n",
       "    </tr>\n",
       "    <tr>\n",
       "      <th>4</th>\n",
       "      <td>0</td>\n",
       "    </tr>\n",
       "    <tr>\n",
       "      <th>...</th>\n",
       "      <td>...</td>\n",
       "    </tr>\n",
       "    <tr>\n",
       "      <th>9764</th>\n",
       "      <td>0</td>\n",
       "    </tr>\n",
       "    <tr>\n",
       "      <th>9765</th>\n",
       "      <td>0</td>\n",
       "    </tr>\n",
       "    <tr>\n",
       "      <th>9766</th>\n",
       "      <td>0</td>\n",
       "    </tr>\n",
       "    <tr>\n",
       "      <th>9767</th>\n",
       "      <td>1</td>\n",
       "    </tr>\n",
       "    <tr>\n",
       "      <th>9768</th>\n",
       "      <td>0</td>\n",
       "    </tr>\n",
       "  </tbody>\n",
       "</table>\n",
       "<p>9769 rows × 1 columns</p>\n",
       "</div>"
      ],
      "text/plain": [
       "      0\n",
       "0     0\n",
       "1     0\n",
       "2     0\n",
       "3     1\n",
       "4     0\n",
       "...  ..\n",
       "9764  0\n",
       "9765  0\n",
       "9766  0\n",
       "9767  1\n",
       "9768  0\n",
       "\n",
       "[9769 rows x 1 columns]"
      ]
     },
     "execution_count": 58,
     "metadata": {},
     "output_type": "execute_result"
    }
   ],
   "source": [
    "df=pd.DataFrame(rp)\n",
    "df"
   ]
  },
  {
   "cell_type": "code",
   "execution_count": 59,
   "id": "0926d127-7bca-421c-93f1-09d289dbb946",
   "metadata": {},
   "outputs": [],
   "source": [
    "fpr,tpr,threshold =roc_curve(ad_y_test,rp)"
   ]
  },
  {
   "cell_type": "code",
   "execution_count": 60,
   "id": "37131e30-99a9-4d8f-9e37-2d5de6e10066",
   "metadata": {},
   "outputs": [
    {
     "data": {
      "text/plain": [
       "[<matplotlib.lines.Line2D at 0x24f19802dd0>]"
      ]
     },
     "execution_count": 60,
     "metadata": {},
     "output_type": "execute_result"
    },
    {
     "data": {
      "image/png": "[encoded data removed]",
      "text/plain": [
       "<Figure size 640x480 with 1 Axes>"
      ]
     },
     "metadata": {},
     "output_type": "display_data"
    }
   ],
   "source": [
    "plt.plot(fpr,tpr)"
   ]
  },
  {
   "cell_type": "markdown",
   "id": "40be265e-7e44-441c-ade8-879bfa1f10c2",
   "metadata": {},
   "source": [
    "### KNN"
   ]
  },
  {
   "cell_type": "code",
   "execution_count": 61,
   "id": "d3325bad-d7df-4618-b8d5-86764a8b5c8e",
   "metadata": {},
   "outputs": [],
   "source": [
    "from sklearn.neighbors import KNeighborsClassifier\n",
    "knn=KNeighborsClassifier(n_neighbors=20)"
   ]
  },
  {
   "cell_type": "code",
   "execution_count": 62,
   "id": "07dafb72-994b-4f52-a343-33c3638ae5e8",
   "metadata": {},
   "outputs": [
    {
     "data": {
      "text/html": [
       "<style>#sk-container-id-4 {color: black;background-color: white;}#sk-container-id-4 pre{padding: 0;}#sk-container-id-4 div.sk-toggleable {background-color: white;}#sk-container-id-4 label.sk-toggleable__label {cursor: pointer;display: block;width: 100%;margin-bottom: 0;padding: 0.3em;box-sizing: border-box;text-align: center;}#sk-container-id-4 label.sk-toggleable__label-arrow:before {content: \"▸\";float: left;margin-right: 0.25em;color: #696969;}#sk-container-id-4 label.sk-toggleable__label-arrow:hover:before {color: black;}#sk-container-id-4 div.sk-estimator:hover label.sk-toggleable__label-arrow:before {color: black;}#sk-container-id-4 div.sk-toggleable__content {max-height: 0;max-width: 0;overflow: hidden;text-align: left;background-color: #f0f8ff;}#sk-container-id-4 div.sk-toggleable__content pre {margin: 0.2em;color: black;border-radius: 0.25em;background-color: #f0f8ff;}#sk-container-id-4 input.sk-toggleable__control:checked~div.sk-toggleable__content {max-height: 200px;max-width: 100%;overflow: auto;}#sk-container-id-4 input.sk-toggleable__control:checked~label.sk-toggleable__label-arrow:before {content: \"▾\";}#sk-container-id-4 div.sk-estimator input.sk-toggleable__control:checked~label.sk-toggleable__label {background-color: #d4ebff;}#sk-container-id-4 div.sk-label input.sk-toggleable__control:checked~label.sk-toggleable__label {background-color: #d4ebff;}#sk-container-id-4 input.sk-hidden--visually {border: 0;clip: rect(1px 1px 1px 1px);clip: rect(1px, 1px, 1px, 1px);height: 1px;margin: -1px;overflow: hidden;padding: 0;position: absolute;width: 1px;}#sk-container-id-4 div.sk-estimator {font-family: monospace;background-color: #f0f8ff;border: 1px dotted black;border-radius: 0.25em;box-sizing: border-box;margin-bottom: 0.5em;}#sk-container-id-4 div.sk-estimator:hover {background-color: #d4ebff;}#sk-container-id-4 div.sk-parallel-item::after {content: \"\";width: 100%;border-bottom: 1px solid gray;flex-grow: 1;}#sk-container-id-4 div.sk-label:hover label.sk-toggleable__label {background-color: #d4ebff;}#sk-container-id-4 div.sk-serial::before {content: \"\";position: absolute;border-left: 1px solid gray;box-sizing: border-box;top: 0;bottom: 0;left: 50%;z-index: 0;}#sk-container-id-4 div.sk-serial {display: flex;flex-direction: column;align-items: center;background-color: white;padding-right: 0.2em;padding-left: 0.2em;position: relative;}#sk-container-id-4 div.sk-item {position: relative;z-index: 1;}#sk-container-id-4 div.sk-parallel {display: flex;align-items: stretch;justify-content: center;background-color: white;position: relative;}#sk-container-id-4 div.sk-item::before, #sk-container-id-4 div.sk-parallel-item::before {content: \"\";position: absolute;border-left: 1px solid gray;box-sizing: border-box;top: 0;bottom: 0;left: 50%;z-index: -1;}#sk-container-id-4 div.sk-parallel-item {display: flex;flex-direction: column;z-index: 1;position: relative;background-color: white;}#sk-container-id-4 div.sk-parallel-item:first-child::after {align-self: flex-end;width: 50%;}#sk-container-id-4 div.sk-parallel-item:last-child::after {align-self: flex-start;width: 50%;}#sk-container-id-4 div.sk-parallel-item:only-child::after {width: 0;}#sk-container-id-4 div.sk-dashed-wrapped {border: 1px dashed gray;margin: 0 0.4em 0.5em 0.4em;box-sizing: border-box;padding-bottom: 0.4em;background-color: white;}#sk-container-id-4 div.sk-label label {font-family: monospace;font-weight: bold;display: inline-block;line-height: 1.2em;}#sk-container-id-4 div.sk-label-container {text-align: center;}#sk-container-id-4 div.sk-container {/* jupyter's `normalize.less` sets `[hidden] { display: none; }` but bootstrap.min.css set `[hidden] { display: none !important; }` so we also need the `!important` here to be able to override the default hidden behavior on the sphinx rendered scikit-learn.org. See: https://github.com/scikit-learn/scikit-learn/issues/21755 */display: inline-block !important;position: relative;}#sk-container-id-4 div.sk-text-repr-fallback {display: none;}</style><div id=\"sk-container-id-4\" class=\"sk-top-container\"><div class=\"sk-text-repr-fallback\"><pre>KNeighborsClassifier(n_neighbors=20)</pre><b>In a Jupyter environment, please rerun this cell to show the HTML representation or trust the notebook. <br />On GitHub, the HTML representation is unable to render, please try loading this page with nbviewer.org.</b></div><div class=\"sk-container\" hidden><div class=\"sk-item\"><div class=\"sk-estimator sk-toggleable\"><input class=\"sk-toggleable__control sk-hidden--visually\" id=\"sk-estimator-id-4\" type=\"checkbox\" checked><label for=\"sk-estimator-id-4\" class=\"sk-toggleable__label sk-toggleable__label-arrow\">KNeighborsClassifier</label><div class=\"sk-toggleable__content\"><pre>KNeighborsClassifier(n_neighbors=20)</pre></div></div></div></div></div>"
      ],
      "text/plain": [
       "KNeighborsClassifier(n_neighbors=20)"
      ]
     },
     "execution_count": 62,
     "metadata": {},
     "output_type": "execute_result"
    }
   ],
   "source": [
    "knn.fit(ad_x_train,ad_y_train)"
   ]
  },
  {
   "cell_type": "code",
   "execution_count": 63,
   "id": "e1945e6c-09a2-48b5-9e84-06c77af38999",
   "metadata": {},
   "outputs": [],
   "source": [
    "kp=knn.predict(ad_x_test)"
   ]
  },
  {
   "cell_type": "code",
   "execution_count": 64,
   "id": "e0b1c7af-78eb-494c-b50c-2d2a157dabdf",
   "metadata": {},
   "outputs": [
    {
     "data": {
      "text/plain": [
       "array([[7388, 2042],\n",
       "       [  14,  325]], dtype=int64)"
      ]
     },
     "execution_count": 64,
     "metadata": {},
     "output_type": "execute_result"
    }
   ],
   "source": [
    "k_m=confusion_matrix(kp,ad_y_test)\n",
    "k_m"
   ]
  },
  {
   "cell_type": "code",
   "execution_count": 65,
   "id": "fac66327-69b0-4ffd-bdad-39d85242a8f8",
   "metadata": {},
   "outputs": [],
   "source": [
    "TN, FP, FN, TP = k_m.ravel()"
   ]
  },
  {
   "cell_type": "code",
   "execution_count": 66,
   "id": "bb07c4d2-11be-47b8-9caa-c193293f448c",
   "metadata": {},
   "outputs": [
    {
     "data": {
      "text/plain": [
       "0.13730460498521335"
      ]
     },
     "execution_count": 66,
     "metadata": {},
     "output_type": "execute_result"
    }
   ],
   "source": [
    "k_p = TP / (TP + FP)\n",
    "k_p"
   ]
  },
  {
   "cell_type": "code",
   "execution_count": 67,
   "id": "00159c1c-b20b-478b-8876-7708a2c8b4da",
   "metadata": {},
   "outputs": [
    {
     "data": {
      "text/plain": [
       "0.9587020648967551"
      ]
     },
     "execution_count": 67,
     "metadata": {},
     "output_type": "execute_result"
    }
   ],
   "source": [
    "k_r = TP / (TP + FN)\n",
    "k_r"
   ]
  },
  {
   "cell_type": "code",
   "execution_count": 68,
   "id": "0dc1651f-d9a5-44d2-8c40-3b4a3aae1240",
   "metadata": {},
   "outputs": [
    {
     "data": {
      "text/plain": [
       "0.24020694752402066"
      ]
     },
     "execution_count": 68,
     "metadata": {},
     "output_type": "execute_result"
    }
   ],
   "source": [
    "kf1 = 2 * (k_p * k_r) / (k_p + k_r)\n",
    "kf1"
   ]
  },
  {
   "cell_type": "code",
   "execution_count": 69,
   "id": "7bd3051c-b8e3-426e-ac39-52c5849c6de7",
   "metadata": {},
   "outputs": [
    {
     "data": {
      "text/plain": [
       "78.95383355512335"
      ]
     },
     "execution_count": 69,
     "metadata": {},
     "output_type": "execute_result"
    }
   ],
   "source": [
    "k_ac=k_m.diagonal().sum()/k_m.sum()*100\n",
    "k_ac"
   ]
  },
  {
   "cell_type": "code",
   "execution_count": 70,
   "id": "baca4e31-7c80-4a51-82de-3b476a075394",
   "metadata": {},
   "outputs": [
    {
     "name": "stdout",
     "output_type": "stream",
     "text": [
      "              precision    recall  f1-score   support\n",
      "\n",
      "           0       1.00      0.78      0.88      9430\n",
      "           1       0.14      0.96      0.24       339\n",
      "\n",
      "    accuracy                           0.79      9769\n",
      "   macro avg       0.57      0.87      0.56      9769\n",
      "weighted avg       0.97      0.79      0.86      9769\n",
      "\n"
     ]
    }
   ],
   "source": [
    "print(classification_report(kp,ad_y_test))"
   ]
  },
  {
   "cell_type": "code",
   "execution_count": 71,
   "id": "cb81fb42-7ca4-423f-8165-ebc54b953f2b",
   "metadata": {},
   "outputs": [],
   "source": [
    "#lst=list()"
   ]
  },
  {
   "cell_type": "code",
   "execution_count": 72,
   "id": "e52dada1-7aa5-473f-b1aa-e10ca37d9174",
   "metadata": {},
   "outputs": [],
   "source": [
    "#for i in range(1,60):\n",
    "#    knn=KNeighborsClassifier(n_neighbors=i)\n",
    "#    knn.fit(ad_x_train,ad_y_train)\n",
    "#    knn_p=knn.predict(ad_x_test)\n",
    "#    c=confusion_matrix(knn_p,ad_y_test)\n",
    "#    acc=c.diagonal().sum()/c.sum()*100\n",
    "#    lst.append(acc)"
   ]
  },
  {
   "cell_type": "code",
   "execution_count": 73,
   "id": "f01d9b17-4cc0-4590-8cfb-1a3004033a14",
   "metadata": {},
   "outputs": [],
   "source": [
    "#p=plt.plot(lst)"
   ]
  },
  {
   "cell_type": "markdown",
   "id": "9656df20-4216-4644-bdc3-8183126aacbe",
   "metadata": {},
   "source": [
    "### SVM"
   ]
  },
  {
   "cell_type": "code",
   "execution_count": 74,
   "id": "d680baa5-a655-4886-a9f9-01453af14b21",
   "metadata": {},
   "outputs": [],
   "source": [
    "from sklearn.svm import SVC\n",
    "svc=SVC()"
   ]
  },
  {
   "cell_type": "code",
   "execution_count": 75,
   "id": "2fd17e57-2f15-48a8-9be8-418ee4a63697",
   "metadata": {},
   "outputs": [
    {
     "data": {
      "text/html": [
       "<style>#sk-container-id-5 {color: black;background-color: white;}#sk-container-id-5 pre{padding: 0;}#sk-container-id-5 div.sk-toggleable {background-color: white;}#sk-container-id-5 label.sk-toggleable__label {cursor: pointer;display: block;width: 100%;margin-bottom: 0;padding: 0.3em;box-sizing: border-box;text-align: center;}#sk-container-id-5 label.sk-toggleable__label-arrow:before {content: \"▸\";float: left;margin-right: 0.25em;color: #696969;}#sk-container-id-5 label.sk-toggleable__label-arrow:hover:before {color: black;}#sk-container-id-5 div.sk-estimator:hover label.sk-toggleable__label-arrow:before {color: black;}#sk-container-id-5 div.sk-toggleable__content {max-height: 0;max-width: 0;overflow: hidden;text-align: left;background-color: #f0f8ff;}#sk-container-id-5 div.sk-toggleable__content pre {margin: 0.2em;color: black;border-radius: 0.25em;background-color: #f0f8ff;}#sk-container-id-5 input.sk-toggleable__control:checked~div.sk-toggleable__content {max-height: 200px;max-width: 100%;overflow: auto;}#sk-container-id-5 input.sk-toggleable__control:checked~label.sk-toggleable__label-arrow:before {content: \"▾\";}#sk-container-id-5 div.sk-estimator input.sk-toggleable__control:checked~label.sk-toggleable__label {background-color: #d4ebff;}#sk-container-id-5 div.sk-label input.sk-toggleable__control:checked~label.sk-toggleable__label {background-color: #d4ebff;}#sk-container-id-5 input.sk-hidden--visually {border: 0;clip: rect(1px 1px 1px 1px);clip: rect(1px, 1px, 1px, 1px);height: 1px;margin: -1px;overflow: hidden;padding: 0;position: absolute;width: 1px;}#sk-container-id-5 div.sk-estimator {font-family: monospace;background-color: #f0f8ff;border: 1px dotted black;border-radius: 0.25em;box-sizing: border-box;margin-bottom: 0.5em;}#sk-container-id-5 div.sk-estimator:hover {background-color: #d4ebff;}#sk-container-id-5 div.sk-parallel-item::after {content: \"\";width: 100%;border-bottom: 1px solid gray;flex-grow: 1;}#sk-container-id-5 div.sk-label:hover label.sk-toggleable__label {background-color: #d4ebff;}#sk-container-id-5 div.sk-serial::before {content: \"\";position: absolute;border-left: 1px solid gray;box-sizing: border-box;top: 0;bottom: 0;left: 50%;z-index: 0;}#sk-container-id-5 div.sk-serial {display: flex;flex-direction: column;align-items: center;background-color: white;padding-right: 0.2em;padding-left: 0.2em;position: relative;}#sk-container-id-5 div.sk-item {position: relative;z-index: 1;}#sk-container-id-5 div.sk-parallel {display: flex;align-items: stretch;justify-content: center;background-color: white;position: relative;}#sk-container-id-5 div.sk-item::before, #sk-container-id-5 div.sk-parallel-item::before {content: \"\";position: absolute;border-left: 1px solid gray;box-sizing: border-box;top: 0;bottom: 0;left: 50%;z-index: -1;}#sk-container-id-5 div.sk-parallel-item {display: flex;flex-direction: column;z-index: 1;position: relative;background-color: white;}#sk-container-id-5 div.sk-parallel-item:first-child::after {align-self: flex-end;width: 50%;}#sk-container-id-5 div.sk-parallel-item:last-child::after {align-self: flex-start;width: 50%;}#sk-container-id-5 div.sk-parallel-item:only-child::after {width: 0;}#sk-container-id-5 div.sk-dashed-wrapped {border: 1px dashed gray;margin: 0 0.4em 0.5em 0.4em;box-sizing: border-box;padding-bottom: 0.4em;background-color: white;}#sk-container-id-5 div.sk-label label {font-family: monospace;font-weight: bold;display: inline-block;line-height: 1.2em;}#sk-container-id-5 div.sk-label-container {text-align: center;}#sk-container-id-5 div.sk-container {/* jupyter's `normalize.less` sets `[hidden] { display: none; }` but bootstrap.min.css set `[hidden] { display: none !important; }` so we also need the `!important` here to be able to override the default hidden behavior on the sphinx rendered scikit-learn.org. See: https://github.com/scikit-learn/scikit-learn/issues/21755 */display: inline-block !important;position: relative;}#sk-container-id-5 div.sk-text-repr-fallback {display: none;}</style><div id=\"sk-container-id-5\" class=\"sk-top-container\"><div class=\"sk-text-repr-fallback\"><pre>SVC()</pre><b>In a Jupyter environment, please rerun this cell to show the HTML representation or trust the notebook. <br />On GitHub, the HTML representation is unable to render, please try loading this page with nbviewer.org.</b></div><div class=\"sk-container\" hidden><div class=\"sk-item\"><div class=\"sk-estimator sk-toggleable\"><input class=\"sk-toggleable__control sk-hidden--visually\" id=\"sk-estimator-id-5\" type=\"checkbox\" checked><label for=\"sk-estimator-id-5\" class=\"sk-toggleable__label sk-toggleable__label-arrow\">SVC</label><div class=\"sk-toggleable__content\"><pre>SVC()</pre></div></div></div></div></div>"
      ],
      "text/plain": [
       "SVC()"
      ]
     },
     "execution_count": 75,
     "metadata": {},
     "output_type": "execute_result"
    }
   ],
   "source": [
    "svc.fit(ad_x_train,ad_y_train)"
   ]
  },
  {
   "cell_type": "code",
   "execution_count": 76,
   "id": "3912924b-56db-4529-8c3d-b8781f6db8d6",
   "metadata": {},
   "outputs": [
    {
     "data": {
      "text/plain": [
       "array([0, 0, 0, ..., 0, 1, 0])"
      ]
     },
     "execution_count": 76,
     "metadata": {},
     "output_type": "execute_result"
    }
   ],
   "source": [
    "sp=svc.predict(ad_x_test)\n",
    "sp"
   ]
  },
  {
   "cell_type": "code",
   "execution_count": 77,
   "id": "3777a222-5dd5-48a4-b350-7cb46f116be5",
   "metadata": {},
   "outputs": [
    {
     "data": {
      "text/plain": [
       "array([[7390, 1996],\n",
       "       [  12,  371]], dtype=int64)"
      ]
     },
     "execution_count": 77,
     "metadata": {},
     "output_type": "execute_result"
    }
   ],
   "source": [
    "sm=confusion_matrix(sp,ad_y_test)\n",
    "sm"
   ]
  },
  {
   "cell_type": "code",
   "execution_count": 78,
   "id": "c7a54b2e-38ed-4970-8527-3f3742bc1cfa",
   "metadata": {},
   "outputs": [],
   "source": [
    "TN, FP, FN, TP = sm.ravel()"
   ]
  },
  {
   "cell_type": "code",
   "execution_count": 79,
   "id": "113d9bcf-f611-4c40-a127-b4e17e8fee6a",
   "metadata": {},
   "outputs": [
    {
     "data": {
      "text/plain": [
       "0.15673848753696662"
      ]
     },
     "execution_count": 79,
     "metadata": {},
     "output_type": "execute_result"
    }
   ],
   "source": [
    "s_p = TP / (TP + FP)\n",
    "s_p"
   ]
  },
  {
   "cell_type": "code",
   "execution_count": 80,
   "id": "d81800f2-09e6-4a81-ba16-6910c1c49b2f",
   "metadata": {},
   "outputs": [
    {
     "data": {
      "text/plain": [
       "0.9686684073107049"
      ]
     },
     "execution_count": 80,
     "metadata": {},
     "output_type": "execute_result"
    }
   ],
   "source": [
    "s_r = TP / (TP + FN)\n",
    "s_r"
   ]
  },
  {
   "cell_type": "code",
   "execution_count": 81,
   "id": "1bc36a04-b2ca-4e9e-bb28-8ec86a156c44",
   "metadata": {},
   "outputs": [
    {
     "data": {
      "text/plain": [
       "0.26981818181818185"
      ]
     },
     "execution_count": 81,
     "metadata": {},
     "output_type": "execute_result"
    }
   ],
   "source": [
    "sf1 = 2 * (s_p * s_r) / (s_p + s_r)\n",
    "sf1"
   ]
  },
  {
   "cell_type": "code",
   "execution_count": 82,
   "id": "75fe8473-2671-4e95-b1c3-ec2579793944",
   "metadata": {},
   "outputs": [
    {
     "data": {
      "text/plain": [
       "79.44518374449791"
      ]
     },
     "execution_count": 82,
     "metadata": {},
     "output_type": "execute_result"
    }
   ],
   "source": [
    "s_ac=sm.diagonal().sum()/sm.sum()*100\n",
    "s_ac"
   ]
  },
  {
   "cell_type": "code",
   "execution_count": 83,
   "id": "503a0053-e0f7-4ec8-b906-3d2a5e0f6e8b",
   "metadata": {},
   "outputs": [
    {
     "name": "stdout",
     "output_type": "stream",
     "text": [
      "              precision    recall  f1-score   support\n",
      "\n",
      "           0       1.00      0.79      0.88      9386\n",
      "           1       0.16      0.97      0.27       383\n",
      "\n",
      "    accuracy                           0.79      9769\n",
      "   macro avg       0.58      0.88      0.58      9769\n",
      "weighted avg       0.97      0.79      0.86      9769\n",
      "\n"
     ]
    }
   ],
   "source": [
    "print(classification_report(sp,ad_y_test))"
   ]
  },
  {
   "cell_type": "markdown",
   "id": "49b441c7-0054-4f9f-834a-a31d285f4db2",
   "metadata": {},
   "source": [
    "### Naive Bayes"
   ]
  },
  {
   "cell_type": "code",
   "execution_count": 84,
   "id": "825f22a2-281f-40d6-ad4e-6cc83f5934e6",
   "metadata": {},
   "outputs": [],
   "source": [
    "from sklearn.naive_bayes import MultinomialNB\n",
    "nb=MultinomialNB()"
   ]
  },
  {
   "cell_type": "code",
   "execution_count": 85,
   "id": "8eefeaa0-94a7-4f40-b30e-042557cae96d",
   "metadata": {},
   "outputs": [
    {
     "data": {
      "text/html": [
       "<style>#sk-container-id-6 {color: black;background-color: white;}#sk-container-id-6 pre{padding: 0;}#sk-container-id-6 div.sk-toggleable {background-color: white;}#sk-container-id-6 label.sk-toggleable__label {cursor: pointer;display: block;width: 100%;margin-bottom: 0;padding: 0.3em;box-sizing: border-box;text-align: center;}#sk-container-id-6 label.sk-toggleable__label-arrow:before {content: \"▸\";float: left;margin-right: 0.25em;color: #696969;}#sk-container-id-6 label.sk-toggleable__label-arrow:hover:before {color: black;}#sk-container-id-6 div.sk-estimator:hover label.sk-toggleable__label-arrow:before {color: black;}#sk-container-id-6 div.sk-toggleable__content {max-height: 0;max-width: 0;overflow: hidden;text-align: left;background-color: #f0f8ff;}#sk-container-id-6 div.sk-toggleable__content pre {margin: 0.2em;color: black;border-radius: 0.25em;background-color: #f0f8ff;}#sk-container-id-6 input.sk-toggleable__control:checked~div.sk-toggleable__content {max-height: 200px;max-width: 100%;overflow: auto;}#sk-container-id-6 input.sk-toggleable__control:checked~label.sk-toggleable__label-arrow:before {content: \"▾\";}#sk-container-id-6 div.sk-estimator input.sk-toggleable__control:checked~label.sk-toggleable__label {background-color: #d4ebff;}#sk-container-id-6 div.sk-label input.sk-toggleable__control:checked~label.sk-toggleable__label {background-color: #d4ebff;}#sk-container-id-6 input.sk-hidden--visually {border: 0;clip: rect(1px 1px 1px 1px);clip: rect(1px, 1px, 1px, 1px);height: 1px;margin: -1px;overflow: hidden;padding: 0;position: absolute;width: 1px;}#sk-container-id-6 div.sk-estimator {font-family: monospace;background-color: #f0f8ff;border: 1px dotted black;border-radius: 0.25em;box-sizing: border-box;margin-bottom: 0.5em;}#sk-container-id-6 div.sk-estimator:hover {background-color: #d4ebff;}#sk-container-id-6 div.sk-parallel-item::after {content: \"\";width: 100%;border-bottom: 1px solid gray;flex-grow: 1;}#sk-container-id-6 div.sk-label:hover label.sk-toggleable__label {background-color: #d4ebff;}#sk-container-id-6 div.sk-serial::before {content: \"\";position: absolute;border-left: 1px solid gray;box-sizing: border-box;top: 0;bottom: 0;left: 50%;z-index: 0;}#sk-container-id-6 div.sk-serial {display: flex;flex-direction: column;align-items: center;background-color: white;padding-right: 0.2em;padding-left: 0.2em;position: relative;}#sk-container-id-6 div.sk-item {position: relative;z-index: 1;}#sk-container-id-6 div.sk-parallel {display: flex;align-items: stretch;justify-content: center;background-color: white;position: relative;}#sk-container-id-6 div.sk-item::before, #sk-container-id-6 div.sk-parallel-item::before {content: \"\";position: absolute;border-left: 1px solid gray;box-sizing: border-box;top: 0;bottom: 0;left: 50%;z-index: -1;}#sk-container-id-6 div.sk-parallel-item {display: flex;flex-direction: column;z-index: 1;position: relative;background-color: white;}#sk-container-id-6 div.sk-parallel-item:first-child::after {align-self: flex-end;width: 50%;}#sk-container-id-6 div.sk-parallel-item:last-child::after {align-self: flex-start;width: 50%;}#sk-container-id-6 div.sk-parallel-item:only-child::after {width: 0;}#sk-container-id-6 div.sk-dashed-wrapped {border: 1px dashed gray;margin: 0 0.4em 0.5em 0.4em;box-sizing: border-box;padding-bottom: 0.4em;background-color: white;}#sk-container-id-6 div.sk-label label {font-family: monospace;font-weight: bold;display: inline-block;line-height: 1.2em;}#sk-container-id-6 div.sk-label-container {text-align: center;}#sk-container-id-6 div.sk-container {/* jupyter's `normalize.less` sets `[hidden] { display: none; }` but bootstrap.min.css set `[hidden] { display: none !important; }` so we also need the `!important` here to be able to override the default hidden behavior on the sphinx rendered scikit-learn.org. See: https://github.com/scikit-learn/scikit-learn/issues/21755 */display: inline-block !important;position: relative;}#sk-container-id-6 div.sk-text-repr-fallback {display: none;}</style><div id=\"sk-container-id-6\" class=\"sk-top-container\"><div class=\"sk-text-repr-fallback\"><pre>MultinomialNB()</pre><b>In a Jupyter environment, please rerun this cell to show the HTML representation or trust the notebook. <br />On GitHub, the HTML representation is unable to render, please try loading this page with nbviewer.org.</b></div><div class=\"sk-container\" hidden><div class=\"sk-item\"><div class=\"sk-estimator sk-toggleable\"><input class=\"sk-toggleable__control sk-hidden--visually\" id=\"sk-estimator-id-6\" type=\"checkbox\" checked><label for=\"sk-estimator-id-6\" class=\"sk-toggleable__label sk-toggleable__label-arrow\">MultinomialNB</label><div class=\"sk-toggleable__content\"><pre>MultinomialNB()</pre></div></div></div></div></div>"
      ],
      "text/plain": [
       "MultinomialNB()"
      ]
     },
     "execution_count": 85,
     "metadata": {},
     "output_type": "execute_result"
    }
   ],
   "source": [
    "nb.fit(ad_x_train,ad_y_train)"
   ]
  },
  {
   "cell_type": "code",
   "execution_count": 86,
   "id": "2ad3481e-014a-4e46-965c-9bb4c8cf39a7",
   "metadata": {},
   "outputs": [],
   "source": [
    "np=nb.predict(ad_x_test)"
   ]
  },
  {
   "cell_type": "code",
   "execution_count": 87,
   "id": "f00968ff-db79-43e3-aea6-3e87b80593b7",
   "metadata": {},
   "outputs": [
    {
     "data": {
      "text/plain": [
       "array([[7076, 1825],\n",
       "       [ 326,  542]], dtype=int64)"
      ]
     },
     "execution_count": 87,
     "metadata": {},
     "output_type": "execute_result"
    }
   ],
   "source": [
    "n_m=confusion_matrix(np,ad_y_test)\n",
    "n_m"
   ]
  },
  {
   "cell_type": "code",
   "execution_count": 88,
   "id": "7d4aeaf4-9753-46ac-8369-5bd2abf5bf6d",
   "metadata": {},
   "outputs": [],
   "source": [
    "TN, FP, FN, TP = n_m.ravel()"
   ]
  },
  {
   "cell_type": "code",
   "execution_count": 89,
   "id": "be537d9b-9ed9-4bce-bc6d-bcc3e44b5940",
   "metadata": {},
   "outputs": [
    {
     "data": {
      "text/plain": [
       "0.2289818335445712"
      ]
     },
     "execution_count": 89,
     "metadata": {},
     "output_type": "execute_result"
    }
   ],
   "source": [
    "n_p = TP / (TP + FP)\n",
    "n_p"
   ]
  },
  {
   "cell_type": "code",
   "execution_count": 90,
   "id": "01bf7068-baa7-4901-b4a7-d78e6f997198",
   "metadata": {},
   "outputs": [
    {
     "data": {
      "text/plain": [
       "0.6244239631336406"
      ]
     },
     "execution_count": 90,
     "metadata": {},
     "output_type": "execute_result"
    }
   ],
   "source": [
    "n_r = TP / (TP + FN)\n",
    "n_r"
   ]
  },
  {
   "cell_type": "code",
   "execution_count": 91,
   "id": "a9d9a0d8-4d5f-4df8-9822-6d47c60b1dea",
   "metadata": {},
   "outputs": [
    {
     "data": {
      "text/plain": [
       "0.3350850077279752"
      ]
     },
     "execution_count": 91,
     "metadata": {},
     "output_type": "execute_result"
    }
   ],
   "source": [
    "nf1 = 2 * (n_p * n_r) / (n_p + n_r)\n",
    "nf1"
   ]
  },
  {
   "cell_type": "code",
   "execution_count": 92,
   "id": "2d4b6b22-24c7-498c-906b-b90b0eeaaca1",
   "metadata": {},
   "outputs": [
    {
     "data": {
      "text/plain": [
       "77.9813696386529"
      ]
     },
     "execution_count": 92,
     "metadata": {},
     "output_type": "execute_result"
    }
   ],
   "source": [
    "n_ac=n_m.diagonal().sum()/n_m.sum()*100\n",
    "n_ac"
   ]
  },
  {
   "cell_type": "code",
   "execution_count": 93,
   "id": "d0824268-b356-4971-b8db-76c137c19bed",
   "metadata": {},
   "outputs": [
    {
     "name": "stdout",
     "output_type": "stream",
     "text": [
      "              precision    recall  f1-score   support\n",
      "\n",
      "           0       0.96      0.79      0.87      8901\n",
      "           1       0.23      0.62      0.34       868\n",
      "\n",
      "    accuracy                           0.78      9769\n",
      "   macro avg       0.59      0.71      0.60      9769\n",
      "weighted avg       0.89      0.78      0.82      9769\n",
      "\n"
     ]
    }
   ],
   "source": [
    "print(classification_report(np,ad_y_test))"
   ]
  },
  {
   "cell_type": "markdown",
   "id": "c88ca34e-73e1-4d60-b645-4b1c3c1bd4b9",
   "metadata": {},
   "source": [
    "### Report"
   ]
  },
  {
   "cell_type": "code",
   "execution_count": 94,
   "id": "ccf691d7-928c-406e-9129-d7ef945211ba",
   "metadata": {},
   "outputs": [],
   "source": [
    "list1=[\"logistic\",\"DT\",  \"RF\", \"KNN\",  \"NB\" ,  \"SVM\"    ]\n",
    "list2=[  ac,     d_ac,   r_ac,  k_ac,   n_ac ,  s_ac ]\n",
    "list3=[  lp,     d_p,    r_p,   k_p,   n_p ,    s_p ]\n",
    "list4=[  lr,     d_r,    r_r,   k_r,   n_r ,    s_r ]\n",
    "list5=[  lf1,    df1,    rf1,   kf1,   nf1 ,    sf1 ]"
   ]
  },
  {
   "cell_type": "code",
   "execution_count": 95,
   "id": "e7962127-1280-4f93-b434-e31c7de02e97",
   "metadata": {},
   "outputs": [
    {
     "data": {
      "text/html": [
       "<div>\n",
       "<style scoped>\n",
       "    .dataframe tbody tr th:only-of-type {\n",
       "        vertical-align: middle;\n",
       "    }\n",
       "\n",
       "    .dataframe tbody tr th {\n",
       "        vertical-align: top;\n",
       "    }\n",
       "\n",
       "    .dataframe thead th {\n",
       "        text-align: right;\n",
       "    }\n",
       "</style>\n",
       "<table border=\"1\" class=\"dataframe\">\n",
       "  <thead>\n",
       "    <tr style=\"text-align: right;\">\n",
       "      <th></th>\n",
       "      <th>model_name</th>\n",
       "      <th>Accuracy</th>\n",
       "      <th>Precision</th>\n",
       "      <th>Recall</th>\n",
       "      <th>F1-score</th>\n",
       "    </tr>\n",
       "  </thead>\n",
       "  <tbody>\n",
       "    <tr>\n",
       "      <th>0</th>\n",
       "      <td>logistic</td>\n",
       "      <td>78.564848</td>\n",
       "      <td>0.281369</td>\n",
       "      <td>0.628895</td>\n",
       "      <td>0.388792</td>\n",
       "    </tr>\n",
       "    <tr>\n",
       "      <th>1</th>\n",
       "      <td>DT</td>\n",
       "      <td>80.683796</td>\n",
       "      <td>0.615547</td>\n",
       "      <td>0.598603</td>\n",
       "      <td>0.606957</td>\n",
       "    </tr>\n",
       "    <tr>\n",
       "      <th>2</th>\n",
       "      <td>RF</td>\n",
       "      <td>85.853209</td>\n",
       "      <td>0.618504</td>\n",
       "      <td>0.753474</td>\n",
       "      <td>0.679350</td>\n",
       "    </tr>\n",
       "    <tr>\n",
       "      <th>3</th>\n",
       "      <td>KNN</td>\n",
       "      <td>78.953834</td>\n",
       "      <td>0.137305</td>\n",
       "      <td>0.958702</td>\n",
       "      <td>0.240207</td>\n",
       "    </tr>\n",
       "    <tr>\n",
       "      <th>4</th>\n",
       "      <td>NB</td>\n",
       "      <td>77.981370</td>\n",
       "      <td>0.228982</td>\n",
       "      <td>0.624424</td>\n",
       "      <td>0.335085</td>\n",
       "    </tr>\n",
       "    <tr>\n",
       "      <th>5</th>\n",
       "      <td>SVM</td>\n",
       "      <td>79.445184</td>\n",
       "      <td>0.156738</td>\n",
       "      <td>0.968668</td>\n",
       "      <td>0.269818</td>\n",
       "    </tr>\n",
       "  </tbody>\n",
       "</table>\n",
       "</div>"
      ],
      "text/plain": [
       "  model_name   Accuracy  Precision    Recall  F1-score\n",
       "0   logistic  78.564848   0.281369  0.628895  0.388792\n",
       "1         DT  80.683796   0.615547  0.598603  0.606957\n",
       "2         RF  85.853209   0.618504  0.753474  0.679350\n",
       "3        KNN  78.953834   0.137305  0.958702  0.240207\n",
       "4         NB  77.981370   0.228982  0.624424  0.335085\n",
       "5        SVM  79.445184   0.156738  0.968668  0.269818"
      ]
     },
     "execution_count": 95,
     "metadata": {},
     "output_type": "execute_result"
    }
   ],
   "source": [
    "result=pd.DataFrame({\"model_name\":list1,\"Accuracy\":list2,\"Precision\":list3,\"Recall\":list4,\"F1-score\":list5})\n",
    "result"
   ]
  },
  {
   "cell_type": "markdown",
   "id": "66f1ee85-fd44-426c-8303-268aa71a322d",
   "metadata": {},
   "source": [
    "##### Random Forest is the top-performing model in terms of accuracy, precision, recall, and F1-score."
   ]
  },
  {
   "cell_type": "markdown",
   "id": "72c02a8a-6de0-40f7-951e-9f73a31b0be1",
   "metadata": {},
   "source": [
    "## Class Imbalance"
   ]
  },
  {
   "cell_type": "code",
   "execution_count": 96,
   "id": "ad8f2e6c-6734-4700-9b63-7d6d69ce5c0b",
   "metadata": {},
   "outputs": [
    {
     "data": {
      "text/plain": [
       "income\n",
       "0    37155\n",
       "1    11687\n",
       "Name: count, dtype: int64"
      ]
     },
     "execution_count": 96,
     "metadata": {},
     "output_type": "execute_result"
    }
   ],
   "source": [
    "Adult.income.value_counts()"
   ]
  },
  {
   "cell_type": "code",
   "execution_count": 97,
   "id": "c553769f-1732-4b70-8a04-b39dad208afb",
   "metadata": {},
   "outputs": [],
   "source": [
    "#t_0,t_1=Adult[\"income\"].value_counts()\n",
    "#t_0,t_1"
   ]
  },
  {
   "cell_type": "code",
   "execution_count": 98,
   "id": "a1e52c1a-d32a-4488-8db3-ce0dfa82da4d",
   "metadata": {},
   "outputs": [],
   "source": [
    "#train_0=Adult[Adult[\"income\"]==0]\n",
    "#train_1=Adult[Adult[\"income\"]==1]\n",
    "#train_0.shape,train_1.shape"
   ]
  },
  {
   "cell_type": "markdown",
   "id": "46fafafa-8d23-4648-8e31-056192ccacbe",
   "metadata": {
    "jp-MarkdownHeadingCollapsed": true
   },
   "source": [
    "### Random Undersampling"
   ]
  },
  {
   "cell_type": "code",
   "execution_count": 99,
   "id": "2380d29b-20b8-4b6c-ac62-4f8c6119e9ff",
   "metadata": {},
   "outputs": [],
   "source": [
    "#import random"
   ]
  },
  {
   "cell_type": "code",
   "execution_count": 100,
   "id": "af499d63-9557-4f56-85e7-bdd532ba75e6",
   "metadata": {},
   "outputs": [],
   "source": [
    "#ru=train_0.sample(t_1)"
   ]
  },
  {
   "cell_type": "code",
   "execution_count": 101,
   "id": "00a01935-421d-4030-ab80-3b1543644542",
   "metadata": {},
   "outputs": [],
   "source": [
    "#r_u=pd.concat([ru,train_1],axis=0)"
   ]
  },
  {
   "cell_type": "code",
   "execution_count": 102,
   "id": "23c3c275-598b-459c-82d6-734faed1c5da",
   "metadata": {},
   "outputs": [],
   "source": [
    "#r_u.shape"
   ]
  },
  {
   "cell_type": "code",
   "execution_count": 103,
   "id": "bf9ac1ef-ea94-4abd-8830-8d4b5bc606fa",
   "metadata": {},
   "outputs": [],
   "source": [
    "#r_u.income.value_counts()"
   ]
  },
  {
   "cell_type": "markdown",
   "id": "9eefc253-0bc9-4915-bd87-0909f487b458",
   "metadata": {
    "jp-MarkdownHeadingCollapsed": true
   },
   "source": [
    "### Random Oversampling"
   ]
  },
  {
   "cell_type": "code",
   "execution_count": 104,
   "id": "c5d90598-3a1a-471a-ac51-e3351ffe01e7",
   "metadata": {},
   "outputs": [],
   "source": [
    "#ro=train_1.sample(t_0,replace=True)"
   ]
  },
  {
   "cell_type": "code",
   "execution_count": 105,
   "id": "f78084d6-8fd5-4752-a2db-d4255f7c0332",
   "metadata": {},
   "outputs": [],
   "source": [
    "#r_o=pd.concat([ro,train_0],axis=0)"
   ]
  },
  {
   "cell_type": "code",
   "execution_count": 106,
   "id": "c0b8d73d-8dea-405b-af26-5aa263d4075c",
   "metadata": {},
   "outputs": [],
   "source": [
    "#r_o.shape"
   ]
  },
  {
   "cell_type": "code",
   "execution_count": 107,
   "id": "9797d830-573f-4623-8cb4-9a0230a3bb99",
   "metadata": {},
   "outputs": [],
   "source": [
    "#r_o[\"income\"].value_counts()"
   ]
  },
  {
   "cell_type": "markdown",
   "id": "db12551b-22b9-43dc-8deb-1bd04093a5c1",
   "metadata": {
    "jp-MarkdownHeadingCollapsed": true
   },
   "source": [
    "### IMB learn Oversampling\n"
   ]
  },
  {
   "cell_type": "code",
   "execution_count": 108,
   "id": "4aafcba2-208d-4f5d-b612-47ba2919c289",
   "metadata": {},
   "outputs": [],
   "source": [
    "#x=Adult.iloc[:,1:-1]\n",
    "#y=Adult.iloc[:,-1]\n",
    "#x.head()\n",
    "#y.head()"
   ]
  },
  {
   "cell_type": "code",
   "execution_count": 109,
   "id": "d4979558-aa72-4212-9921-e67b52473c2a",
   "metadata": {},
   "outputs": [],
   "source": [
    "#import imblearn"
   ]
  },
  {
   "cell_type": "code",
   "execution_count": 110,
   "id": "fa1d0878-bce2-4cc1-a457-ebe5eba656fc",
   "metadata": {},
   "outputs": [],
   "source": [
    "#from imblearn.over_sampling import RandomOverSampler"
   ]
  },
  {
   "cell_type": "code",
   "execution_count": 111,
   "id": "03b713a5-ff57-40eb-8680-daba08d3a5a7",
   "metadata": {},
   "outputs": [],
   "source": [
    "#ab1=RandomOverSampler(random_state=42)\n",
    "#x1,y1=ab1.fit_resample(x,y)"
   ]
  },
  {
   "cell_type": "code",
   "execution_count": 112,
   "id": "1dba7afa-4fb5-4247-8583-9bf18bf9f2cb",
   "metadata": {},
   "outputs": [],
   "source": [
    "#x1.shape,y1.shape"
   ]
  },
  {
   "cell_type": "code",
   "execution_count": 113,
   "id": "22b2ea96-7153-486f-bb64-24539699bee6",
   "metadata": {},
   "outputs": [],
   "source": [
    "#y1.value_counts()"
   ]
  },
  {
   "cell_type": "markdown",
   "id": "e5a890b7-0307-40bd-a023-757d10cab43b",
   "metadata": {
    "jp-MarkdownHeadingCollapsed": true
   },
   "source": [
    "### Imb learn Undersampling "
   ]
  },
  {
   "cell_type": "code",
   "execution_count": 114,
   "id": "7d202a6f-b154-4233-b593-9e9d4c73b2d3",
   "metadata": {},
   "outputs": [],
   "source": [
    "#from imblearn.under_sampling import RandomUnderSampler"
   ]
  },
  {
   "cell_type": "code",
   "execution_count": 115,
   "id": "aa7b37b7-5794-4ca5-a19e-a86c8f60acf2",
   "metadata": {},
   "outputs": [],
   "source": [
    "#a2=RandomUnderSampler(sampling_strategy=\"all\")"
   ]
  },
  {
   "cell_type": "code",
   "execution_count": 116,
   "id": "a6c360d1-22c8-4b63-987b-9da396b99ba0",
   "metadata": {},
   "outputs": [],
   "source": [
    "#x2,y2=a2.fit_resample(x,y)"
   ]
  },
  {
   "cell_type": "code",
   "execution_count": 117,
   "id": "a69d4261-bcd3-49a7-94f3-458adf1a3fde",
   "metadata": {},
   "outputs": [],
   "source": [
    "#x2.shape,y2.shape"
   ]
  },
  {
   "cell_type": "code",
   "execution_count": 118,
   "id": "91a445fc-b92d-49d2-b6b2-f3e8212c0f69",
   "metadata": {},
   "outputs": [],
   "source": [
    "#y2.value_counts()"
   ]
  },
  {
   "cell_type": "markdown",
   "id": "fd0b8288-ef17-438e-8345-2107ba06a461",
   "metadata": {},
   "source": [
    "### SMOTE"
   ]
  },
  {
   "cell_type": "code",
   "execution_count": 119,
   "id": "07868fb4-16e9-4a61-a025-a149b4883134",
   "metadata": {},
   "outputs": [],
   "source": [
    "from imblearn.over_sampling import SMOTE\n",
    "smote=SMOTE()"
   ]
  },
  {
   "cell_type": "code",
   "execution_count": 120,
   "id": "7aa8ca60-744b-42f1-8fdd-40d8c740a384",
   "metadata": {},
   "outputs": [],
   "source": [
    "x_sm,y_sm=smote.fit_resample(x,y)"
   ]
  },
  {
   "cell_type": "code",
   "execution_count": 121,
   "id": "43fb3d9c-7e3d-48d3-8216-72c8f8714932",
   "metadata": {},
   "outputs": [
    {
     "data": {
      "text/plain": [
       "((74310, 15), (74310,))"
      ]
     },
     "execution_count": 121,
     "metadata": {},
     "output_type": "execute_result"
    }
   ],
   "source": [
    "x_sm.shape,y_sm.shape"
   ]
  },
  {
   "cell_type": "code",
   "execution_count": 122,
   "id": "ae49406f-c9a9-4fff-b70a-4395047a3416",
   "metadata": {},
   "outputs": [
    {
     "data": {
      "text/plain": [
       "income\n",
       "0    37155\n",
       "1    37155\n",
       "Name: count, dtype: int64"
      ]
     },
     "execution_count": 122,
     "metadata": {},
     "output_type": "execute_result"
    }
   ],
   "source": [
    "y_sm.value_counts()"
   ]
  },
  {
   "cell_type": "code",
   "execution_count": 123,
   "id": "cf0f2e2a-d7a3-4893-b0b3-71da5fce3c4a",
   "metadata": {},
   "outputs": [],
   "source": [
    "## SMOTE is generally the best choice for handling class imbalance. Balanced Data without Overfitting."
   ]
  },
  {
   "cell_type": "markdown",
   "id": "6481df79-367d-46b2-90aa-07ea23b6d926",
   "metadata": {},
   "source": [
    "### Outlier treatement"
   ]
  },
  {
   "cell_type": "code",
   "execution_count": 124,
   "id": "e34758dd-adcb-4db5-901f-0eeabf0d9619",
   "metadata": {},
   "outputs": [
    {
     "data": {
      "text/plain": [
       "<Axes: >"
      ]
     },
     "execution_count": 124,
     "metadata": {},
     "output_type": "execute_result"
    },
    {
     "data": {
      "image/png": "[encoded data removed]",
      "text/plain": [
       "<Figure size 3000x1000 with 1 Axes>"
      ]
     },
     "metadata": {},
     "output_type": "display_data"
    }
   ],
   "source": [
    "plt.figure(figsize=[30,10])\n",
    "sns.boxplot(data=x_sm)"
   ]
  },
  {
   "cell_type": "markdown",
   "id": "8f8e1d12-4a61-4921-b144-716c5d18278b",
   "metadata": {},
   "source": [
    "#### age"
   ]
  },
  {
   "cell_type": "code",
   "execution_count": 125,
   "id": "cb736210-c88a-4c17-a208-67d3a58a07fe",
   "metadata": {},
   "outputs": [
    {
     "data": {
      "text/plain": [
       "<Axes: ylabel='age'>"
      ]
     },
     "execution_count": 125,
     "metadata": {},
     "output_type": "execute_result"
    },
    {
     "data": {
      "image/png": "[encoded data removed]",
      "text/plain": [
       "<Figure size 640x480 with 1 Axes>"
      ]
     },
     "metadata": {},
     "output_type": "display_data"
    }
   ],
   "source": [
    "sns.boxplot(data=x_sm,y=\"age\")"
   ]
  },
  {
   "cell_type": "code",
   "execution_count": 126,
   "id": "035ee6cc-108e-4fde-aa23-a7e6fd41cea8",
   "metadata": {},
   "outputs": [
    {
     "data": {
      "text/plain": [
       "<Axes: xlabel='age', ylabel='Density'>"
      ]
     },
     "execution_count": 126,
     "metadata": {},
     "output_type": "execute_result"
    },
    {
     "data": {
      "image/png": "[encoded data removed]",
      "text/plain": [
       "<Figure size 640x480 with 1 Axes>"
      ]
     },
     "metadata": {},
     "output_type": "display_data"
    }
   ],
   "source": [
    "sns.distplot(x_sm[\"age\"])"
   ]
  },
  {
   "cell_type": "code",
   "execution_count": 127,
   "id": "d2203ce7-8d91-4c59-9062-2df816fe624c",
   "metadata": {},
   "outputs": [
    {
     "data": {
      "text/plain": [
       "count    74310.000000\n",
       "mean        40.398560\n",
       "std         12.440824\n",
       "min         17.000000\n",
       "25%         31.000000\n",
       "50%         40.000000\n",
       "75%         48.000000\n",
       "max         90.000000\n",
       "Name: age, dtype: float64"
      ]
     },
     "execution_count": 127,
     "metadata": {},
     "output_type": "execute_result"
    }
   ],
   "source": [
    "x_sm[\"age\"].describe()"
   ]
  },
  {
   "cell_type": "code",
   "execution_count": 128,
   "id": "c86b5d34-233b-427b-83ab-e929123cc474",
   "metadata": {},
   "outputs": [
    {
     "name": "stdout",
     "output_type": "stream",
     "text": [
      "77.72103227328385\n",
      "3.076087898967529\n"
     ]
    },
    {
     "data": {
      "text/plain": [
       "(None, None)"
      ]
     },
     "execution_count": 128,
     "metadata": {},
     "output_type": "execute_result"
    }
   ],
   "source": [
    "up=x_sm[\"age\"].mean()+3*x_sm[\"age\"].std()\n",
    "lp=x_sm[\"age\"].mean()-3*x_sm[\"age\"].std()\n",
    "print(up),print(lp)"
   ]
  },
  {
   "cell_type": "code",
   "execution_count": 129,
   "id": "d6aff6a8-dbc2-4e30-ac34-358c9a21aeac",
   "metadata": {},
   "outputs": [],
   "source": [
    "x_sm.loc[x_sm[\"age\"]>up,\"age\"]=up\n",
    "x_sm.loc[x_sm[\"age\"]<lp,\"age\"]=lp"
   ]
  },
  {
   "cell_type": "code",
   "execution_count": 130,
   "id": "8db7124e-7450-41f9-ac92-9ee01f346b38",
   "metadata": {},
   "outputs": [
    {
     "data": {
      "text/plain": [
       "<Axes: xlabel='age', ylabel='Density'>"
      ]
     },
     "execution_count": 130,
     "metadata": {},
     "output_type": "execute_result"
    },
    {
     "data": {
      "image/png": "[encoded data removed]",
      "text/plain": [
       "<Figure size 640x480 with 1 Axes>"
      ]
     },
     "metadata": {},
     "output_type": "display_data"
    }
   ],
   "source": [
    "sns.distplot(x_sm[\"age\"])"
   ]
  },
  {
   "cell_type": "markdown",
   "id": "c9f00df7-6308-4567-ba18-6a4235506bb8",
   "metadata": {},
   "source": [
    "### fnlwgt"
   ]
  },
  {
   "cell_type": "code",
   "execution_count": 131,
   "id": "1f2288d8-0fe5-422c-9d50-be2dd6ce7cdf",
   "metadata": {},
   "outputs": [
    {
     "data": {
      "text/plain": [
       "<Axes: ylabel='fnlwgt'>"
      ]
     },
     "execution_count": 131,
     "metadata": {},
     "output_type": "execute_result"
    },
    {
     "data": {
      "image/png": "[encoded data removed]",
      "text/plain": [
       "<Figure size 640x480 with 1 Axes>"
      ]
     },
     "metadata": {},
     "output_type": "display_data"
    }
   ],
   "source": [
    "sns.boxplot(data=x_sm,y=\"fnlwgt\")"
   ]
  },
  {
   "cell_type": "code",
   "execution_count": 132,
   "id": "ffc8cf7e-d13d-4092-a81e-cd4bda3f10cd",
   "metadata": {},
   "outputs": [
    {
     "data": {
      "text/plain": [
       "(array([3.0475e+04, 3.4544e+04, 8.0340e+03, 9.5200e+02, 2.0600e+02,\n",
       "        6.1000e+01, 1.9000e+01, 1.2000e+01, 3.0000e+00, 4.0000e+00]),\n",
       " array([  12285. ,  160096.5,  307908. ,  455719.5,  603531. ,  751342.5,\n",
       "         899154. , 1046965.5, 1194777. , 1342588.5, 1490400. ]),\n",
       " <BarContainer object of 10 artists>)"
      ]
     },
     "execution_count": 132,
     "metadata": {},
     "output_type": "execute_result"
    },
    {
     "data": {
      "image/png": "[encoded data removed]",
      "text/plain": [
       "<Figure size 640x480 with 1 Axes>"
      ]
     },
     "metadata": {},
     "output_type": "display_data"
    }
   ],
   "source": [
    "plt.hist(x_sm[\"fnlwgt\"])"
   ]
  },
  {
   "cell_type": "code",
   "execution_count": 133,
   "id": "c4bb8034-6697-4cae-8d23-9ebac979adf3",
   "metadata": {},
   "outputs": [
    {
     "data": {
      "text/plain": [
       "<Axes: xlabel='fnlwgt', ylabel='Density'>"
      ]
     },
     "execution_count": 133,
     "metadata": {},
     "output_type": "execute_result"
    },
    {
     "data": {
      "image/png": "[encoded data removed]",
      "text/plain": [
       "<Figure size 640x480 with 1 Axes>"
      ]
     },
     "metadata": {},
     "output_type": "display_data"
    }
   ],
   "source": [
    "sns.distplot(x_sm[\"fnlwgt\"])"
   ]
  },
  {
   "cell_type": "code",
   "execution_count": 134,
   "id": "2582260a-a804-4102-99e3-b1ba01dd6685",
   "metadata": {},
   "outputs": [
    {
     "data": {
      "text/plain": [
       "count    7.431000e+04\n",
       "mean     1.892082e+05\n",
       "std      1.044079e+05\n",
       "min      1.228500e+04\n",
       "25%      1.178330e+05\n",
       "50%      1.775720e+05\n",
       "75%      2.365730e+05\n",
       "max      1.490400e+06\n",
       "Name: fnlwgt, dtype: float64"
      ]
     },
     "execution_count": 134,
     "metadata": {},
     "output_type": "execute_result"
    }
   ],
   "source": [
    "x_sm[\"fnlwgt\"].describe()"
   ]
  },
  {
   "cell_type": "code",
   "execution_count": 135,
   "id": "8b62e66e-0815-4541-9a50-8e13077b44a7",
   "metadata": {},
   "outputs": [
    {
     "data": {
      "text/plain": [
       "118740.0"
      ]
     },
     "execution_count": 135,
     "metadata": {},
     "output_type": "execute_result"
    }
   ],
   "source": [
    "IQR1=x_sm.fnlwgt.quantile(0.75)-x_sm.fnlwgt.quantile(0.25)\n",
    "IQR1"
   ]
  },
  {
   "cell_type": "code",
   "execution_count": 136,
   "id": "2f566784-f2e1-4274-9f5d-b82b74498066",
   "metadata": {},
   "outputs": [
    {
     "data": {
      "text/plain": [
       "592793.0"
      ]
     },
     "execution_count": 136,
     "metadata": {},
     "output_type": "execute_result"
    }
   ],
   "source": [
    "up1=x_sm.fnlwgt.quantile(0.75)+(3*IQR1)\n",
    "up1"
   ]
  },
  {
   "cell_type": "code",
   "execution_count": 137,
   "id": "b49b8fae-1ca1-4562-a20e-2e324bf8da25",
   "metadata": {},
   "outputs": [],
   "source": [
    "x_sm.loc[x_sm[\"fnlwgt\"]>591321.0,\"fnlwgt\"]=591321.0"
   ]
  },
  {
   "cell_type": "code",
   "execution_count": 138,
   "id": "6f07e316-8be5-49f2-8313-ba192dce1daa",
   "metadata": {},
   "outputs": [
    {
     "data": {
      "text/plain": [
       "(array([ 7740., 13960., 18761., 16663.,  7295.,  5169.,  2612.,  1114.,\n",
       "          392.,   604.]),\n",
       " array([ 12285. ,  70188.6, 128092.2, 185995.8, 243899.4, 301803. ,\n",
       "        359706.6, 417610.2, 475513.8, 533417.4, 591321. ]),\n",
       " <BarContainer object of 10 artists>)"
      ]
     },
     "execution_count": 138,
     "metadata": {},
     "output_type": "execute_result"
    },
    {
     "data": {
      "image/png": "[encoded data removed]",
      "text/plain": [
       "<Figure size 640x480 with 1 Axes>"
      ]
     },
     "metadata": {},
     "output_type": "display_data"
    }
   ],
   "source": [
    "plt.hist(x_sm[\"fnlwgt\"])"
   ]
  },
  {
   "cell_type": "code",
   "execution_count": 139,
   "id": "dea6da46-725b-4fc4-b87c-9ac5293c13ac",
   "metadata": {},
   "outputs": [
    {
     "data": {
      "text/plain": [
       "<Axes: xlabel='fnlwgt', ylabel='Density'>"
      ]
     },
     "execution_count": 139,
     "metadata": {},
     "output_type": "execute_result"
    },
    {
     "data": {
      "image/png": "[encoded data removed]",
      "text/plain": [
       "<Figure size 640x480 with 1 Axes>"
      ]
     },
     "metadata": {},
     "output_type": "display_data"
    }
   ],
   "source": [
    "sns.distplot(x_sm[\"fnlwgt\"])"
   ]
  },
  {
   "cell_type": "markdown",
   "id": "f39187ad-0b40-46ed-ba86-9c8ea4632250",
   "metadata": {},
   "source": [
    "### educational_num"
   ]
  },
  {
   "cell_type": "code",
   "execution_count": 140,
   "id": "d5726389-6b29-496d-9c66-a8cc5cc4fb65",
   "metadata": {},
   "outputs": [
    {
     "data": {
      "text/plain": [
       "<Axes: ylabel='educational_num'>"
      ]
     },
     "execution_count": 140,
     "metadata": {},
     "output_type": "execute_result"
    },
    {
     "data": {
      "image/png": "[encoded data removed]",
      "text/plain": [
       "<Figure size 640x480 with 1 Axes>"
      ]
     },
     "metadata": {},
     "output_type": "display_data"
    }
   ],
   "source": [
    "sns.boxplot(data=x_sm,y=\"educational_num\")"
   ]
  },
  {
   "cell_type": "code",
   "execution_count": 141,
   "id": "cfeceab1-e98f-42e3-8289-68b927e4ff7d",
   "metadata": {},
   "outputs": [
    {
     "data": {
      "text/plain": [
       "<Axes: xlabel='educational_num', ylabel='Density'>"
      ]
     },
     "execution_count": 141,
     "metadata": {},
     "output_type": "execute_result"
    },
    {
     "data": {
      "image/png": "[encoded data removed]",
      "text/plain": [
       "<Figure size 640x480 with 1 Axes>"
      ]
     },
     "metadata": {},
     "output_type": "display_data"
    }
   ],
   "source": [
    "sns.distplot(x_sm[\"educational_num\"])"
   ]
  },
  {
   "cell_type": "code",
   "execution_count": 142,
   "id": "007b4575-f09c-4eb2-8453-ad0fb3c8b24e",
   "metadata": {},
   "outputs": [
    {
     "data": {
      "text/plain": [
       "count    74310.000000\n",
       "mean        10.457300\n",
       "std          2.431718\n",
       "min          1.000000\n",
       "25%          9.000000\n",
       "50%         10.000000\n",
       "75%         13.000000\n",
       "max         16.000000\n",
       "Name: educational_num, dtype: float64"
      ]
     },
     "execution_count": 142,
     "metadata": {},
     "output_type": "execute_result"
    }
   ],
   "source": [
    "x_sm[\"educational_num\"].describe()"
   ]
  },
  {
   "cell_type": "code",
   "execution_count": 143,
   "id": "dcf8cd71-c0e1-4960-8ea4-9fdb41b29352",
   "metadata": {},
   "outputs": [
    {
     "name": "stdout",
     "output_type": "stream",
     "text": [
      "17.752455656297595\n",
      "3.162145339530692\n"
     ]
    },
    {
     "data": {
      "text/plain": [
       "(None, None)"
      ]
     },
     "execution_count": 143,
     "metadata": {},
     "output_type": "execute_result"
    }
   ],
   "source": [
    "up=x_sm[\"educational_num\"].mean()+3*x_sm[\"educational_num\"].std()\n",
    "lp=x_sm[\"educational_num\"].mean()-3*x_sm[\"educational_num\"].std()\n",
    "print(up),print(lp)"
   ]
  },
  {
   "cell_type": "code",
   "execution_count": 144,
   "id": "0fb86814-2b1e-466a-8381-a4bf8038c1e2",
   "metadata": {},
   "outputs": [],
   "source": [
    "x_sm.loc[x_sm[\"educational_num\"]>up,\"educational_num\"]=up\n",
    "x_sm.loc[x_sm[\"educational_num\"]<lp,\"educational_num\"]=lp"
   ]
  },
  {
   "cell_type": "code",
   "execution_count": 145,
   "id": "d4f4a671-6f96-4a3f-99ec-add251d7347b",
   "metadata": {},
   "outputs": [
    {
     "data": {
      "text/plain": [
       "<Axes: xlabel='educational_num', ylabel='Density'>"
      ]
     },
     "execution_count": 145,
     "metadata": {},
     "output_type": "execute_result"
    },
    {
     "data": {
      "image/png": "[encoded data removed]",
      "text/plain": [
       "<Figure size 640x480 with 1 Axes>"
      ]
     },
     "metadata": {},
     "output_type": "display_data"
    }
   ],
   "source": [
    "sns.distplot(x_sm[\"educational_num\"])"
   ]
  },
  {
   "cell_type": "markdown",
   "id": "ae1928df-9df6-4c8b-accd-b6d5e78424ba",
   "metadata": {},
   "source": [
    "### Skewness"
   ]
  },
  {
   "cell_type": "code",
   "execution_count": 146,
   "id": "8e7daabe-9ed0-47a9-8b13-f8718fea2122",
   "metadata": {},
   "outputs": [
    {
     "data": {
      "text/plain": [
       "x                 -0.003277\n",
       "age                0.299654\n",
       "workclass         -0.746740\n",
       "fnlwgt             0.943532\n",
       "education         -0.974975\n",
       "educational_num   -0.358467\n",
       "marital_status     0.318883\n",
       "occupation         0.088876\n",
       "relationship       1.121678\n",
       "race              -2.460165\n",
       "gender            -0.790890\n",
       "capital_gain       8.367435\n",
       "capital_loss       4.055234\n",
       "hours_per_week     0.151449\n",
       "native_country    -3.648717\n",
       "dtype: float64"
      ]
     },
     "execution_count": 146,
     "metadata": {},
     "output_type": "execute_result"
    }
   ],
   "source": [
    "x_sm.skew()"
   ]
  },
  {
   "cell_type": "code",
   "execution_count": 147,
   "id": "54886271-bbc5-40a1-a148-9926151e9ae2",
   "metadata": {},
   "outputs": [
    {
     "data": {
      "text/html": [
       "<div>\n",
       "<style scoped>\n",
       "    .dataframe tbody tr th:only-of-type {\n",
       "        vertical-align: middle;\n",
       "    }\n",
       "\n",
       "    .dataframe tbody tr th {\n",
       "        vertical-align: top;\n",
       "    }\n",
       "\n",
       "    .dataframe thead th {\n",
       "        text-align: right;\n",
       "    }\n",
       "</style>\n",
       "<table border=\"1\" class=\"dataframe\">\n",
       "  <thead>\n",
       "    <tr style=\"text-align: right;\">\n",
       "      <th></th>\n",
       "      <th>x</th>\n",
       "      <th>age</th>\n",
       "      <th>workclass</th>\n",
       "      <th>fnlwgt</th>\n",
       "      <th>education</th>\n",
       "      <th>educational_num</th>\n",
       "      <th>marital_status</th>\n",
       "      <th>occupation</th>\n",
       "      <th>relationship</th>\n",
       "      <th>race</th>\n",
       "      <th>gender</th>\n",
       "      <th>capital_gain</th>\n",
       "      <th>capital_loss</th>\n",
       "      <th>hours_per_week</th>\n",
       "      <th>native_country</th>\n",
       "    </tr>\n",
       "  </thead>\n",
       "  <tbody>\n",
       "    <tr>\n",
       "      <th>0</th>\n",
       "      <td>1</td>\n",
       "      <td>25.0</td>\n",
       "      <td>4</td>\n",
       "      <td>226802</td>\n",
       "      <td>1</td>\n",
       "      <td>7.0</td>\n",
       "      <td>4</td>\n",
       "      <td>7</td>\n",
       "      <td>3</td>\n",
       "      <td>2</td>\n",
       "      <td>1</td>\n",
       "      <td>0</td>\n",
       "      <td>0</td>\n",
       "      <td>40</td>\n",
       "      <td>39</td>\n",
       "    </tr>\n",
       "    <tr>\n",
       "      <th>1</th>\n",
       "      <td>2</td>\n",
       "      <td>38.0</td>\n",
       "      <td>4</td>\n",
       "      <td>89814</td>\n",
       "      <td>11</td>\n",
       "      <td>9.0</td>\n",
       "      <td>2</td>\n",
       "      <td>5</td>\n",
       "      <td>0</td>\n",
       "      <td>4</td>\n",
       "      <td>1</td>\n",
       "      <td>0</td>\n",
       "      <td>0</td>\n",
       "      <td>50</td>\n",
       "      <td>39</td>\n",
       "    </tr>\n",
       "    <tr>\n",
       "      <th>2</th>\n",
       "      <td>3</td>\n",
       "      <td>28.0</td>\n",
       "      <td>2</td>\n",
       "      <td>336951</td>\n",
       "      <td>7</td>\n",
       "      <td>12.0</td>\n",
       "      <td>2</td>\n",
       "      <td>11</td>\n",
       "      <td>0</td>\n",
       "      <td>4</td>\n",
       "      <td>1</td>\n",
       "      <td>0</td>\n",
       "      <td>0</td>\n",
       "      <td>40</td>\n",
       "      <td>39</td>\n",
       "    </tr>\n",
       "    <tr>\n",
       "      <th>3</th>\n",
       "      <td>4</td>\n",
       "      <td>44.0</td>\n",
       "      <td>4</td>\n",
       "      <td>160323</td>\n",
       "      <td>15</td>\n",
       "      <td>10.0</td>\n",
       "      <td>2</td>\n",
       "      <td>7</td>\n",
       "      <td>0</td>\n",
       "      <td>2</td>\n",
       "      <td>1</td>\n",
       "      <td>7688</td>\n",
       "      <td>0</td>\n",
       "      <td>40</td>\n",
       "      <td>39</td>\n",
       "    </tr>\n",
       "    <tr>\n",
       "      <th>4</th>\n",
       "      <td>5</td>\n",
       "      <td>18.0</td>\n",
       "      <td>0</td>\n",
       "      <td>103497</td>\n",
       "      <td>15</td>\n",
       "      <td>10.0</td>\n",
       "      <td>4</td>\n",
       "      <td>0</td>\n",
       "      <td>3</td>\n",
       "      <td>4</td>\n",
       "      <td>0</td>\n",
       "      <td>0</td>\n",
       "      <td>0</td>\n",
       "      <td>30</td>\n",
       "      <td>39</td>\n",
       "    </tr>\n",
       "  </tbody>\n",
       "</table>\n",
       "</div>"
      ],
      "text/plain": [
       "   x   age  workclass  fnlwgt  education  educational_num  marital_status  \\\n",
       "0  1  25.0          4  226802          1              7.0               4   \n",
       "1  2  38.0          4   89814         11              9.0               2   \n",
       "2  3  28.0          2  336951          7             12.0               2   \n",
       "3  4  44.0          4  160323         15             10.0               2   \n",
       "4  5  18.0          0  103497         15             10.0               4   \n",
       "\n",
       "   occupation  relationship  race  gender  capital_gain  capital_loss  \\\n",
       "0           7             3     2       1             0             0   \n",
       "1           5             0     4       1             0             0   \n",
       "2          11             0     4       1             0             0   \n",
       "3           7             0     2       1          7688             0   \n",
       "4           0             3     4       0             0             0   \n",
       "\n",
       "   hours_per_week  native_country  \n",
       "0              40              39  \n",
       "1              50              39  \n",
       "2              40              39  \n",
       "3              40              39  \n",
       "4              30              39  "
      ]
     },
     "execution_count": 147,
     "metadata": {},
     "output_type": "execute_result"
    }
   ],
   "source": [
    "x_sm.head()"
   ]
  },
  {
   "cell_type": "code",
   "execution_count": 148,
   "id": "c4855cef-4d69-4d05-aa3a-e3c7f9806558",
   "metadata": {},
   "outputs": [
    {
     "data": {
      "text/plain": [
       "0    0\n",
       "1    0\n",
       "Name: income, dtype: int32"
      ]
     },
     "execution_count": 148,
     "metadata": {},
     "output_type": "execute_result"
    }
   ],
   "source": [
    "y_sm.head(2)"
   ]
  },
  {
   "cell_type": "code",
   "execution_count": 149,
   "id": "9d84af92-6c12-4e23-a150-8a3d6951aa6f",
   "metadata": {},
   "outputs": [],
   "source": [
    "from sklearn.model_selection import train_test_split"
   ]
  },
  {
   "cell_type": "code",
   "execution_count": 150,
   "id": "7ea57f63-62c5-4baa-a6f2-567fff7b7618",
   "metadata": {},
   "outputs": [],
   "source": [
    "x1_tr,x1_te,y1_tr,y1_te=train_test_split(x_sm,y_sm,test_size=0.2,random_state=101)"
   ]
  },
  {
   "cell_type": "code",
   "execution_count": 151,
   "id": "8e4f368a-e1d7-4e39-99ac-a56cc6480b75",
   "metadata": {},
   "outputs": [
    {
     "data": {
      "text/plain": [
       "((59448, 15), (14862, 15), (59448,), (14862,))"
      ]
     },
     "execution_count": 151,
     "metadata": {},
     "output_type": "execute_result"
    }
   ],
   "source": [
    "x1_tr.shape,x1_te.shape,y1_tr.shape,y1_te.shape"
   ]
  },
  {
   "cell_type": "markdown",
   "id": "f7704c3b-8fcb-4a27-8120-045cbd8a3b3e",
   "metadata": {},
   "source": [
    "### Logistic Regression"
   ]
  },
  {
   "cell_type": "code",
   "execution_count": 152,
   "id": "5c69f616-a33b-4d62-b126-92108968af18",
   "metadata": {},
   "outputs": [],
   "source": [
    "from sklearn.linear_model  import LogisticRegression\n",
    "lg=LogisticRegression()"
   ]
  },
  {
   "cell_type": "code",
   "execution_count": 153,
   "id": "e3cc0435-e39e-4a18-b5f1-e25e5f2e1a6a",
   "metadata": {},
   "outputs": [
    {
     "data": {
      "text/html": [
       "<style>#sk-container-id-7 {color: black;background-color: white;}#sk-container-id-7 pre{padding: 0;}#sk-container-id-7 div.sk-toggleable {background-color: white;}#sk-container-id-7 label.sk-toggleable__label {cursor: pointer;display: block;width: 100%;margin-bottom: 0;padding: 0.3em;box-sizing: border-box;text-align: center;}#sk-container-id-7 label.sk-toggleable__label-arrow:before {content: \"▸\";float: left;margin-right: 0.25em;color: #696969;}#sk-container-id-7 label.sk-toggleable__label-arrow:hover:before {color: black;}#sk-container-id-7 div.sk-estimator:hover label.sk-toggleable__label-arrow:before {color: black;}#sk-container-id-7 div.sk-toggleable__content {max-height: 0;max-width: 0;overflow: hidden;text-align: left;background-color: #f0f8ff;}#sk-container-id-7 div.sk-toggleable__content pre {margin: 0.2em;color: black;border-radius: 0.25em;background-color: #f0f8ff;}#sk-container-id-7 input.sk-toggleable__control:checked~div.sk-toggleable__content {max-height: 200px;max-width: 100%;overflow: auto;}#sk-container-id-7 input.sk-toggleable__control:checked~label.sk-toggleable__label-arrow:before {content: \"▾\";}#sk-container-id-7 div.sk-estimator input.sk-toggleable__control:checked~label.sk-toggleable__label {background-color: #d4ebff;}#sk-container-id-7 div.sk-label input.sk-toggleable__control:checked~label.sk-toggleable__label {background-color: #d4ebff;}#sk-container-id-7 input.sk-hidden--visually {border: 0;clip: rect(1px 1px 1px 1px);clip: rect(1px, 1px, 1px, 1px);height: 1px;margin: -1px;overflow: hidden;padding: 0;position: absolute;width: 1px;}#sk-container-id-7 div.sk-estimator {font-family: monospace;background-color: #f0f8ff;border: 1px dotted black;border-radius: 0.25em;box-sizing: border-box;margin-bottom: 0.5em;}#sk-container-id-7 div.sk-estimator:hover {background-color: #d4ebff;}#sk-container-id-7 div.sk-parallel-item::after {content: \"\";width: 100%;border-bottom: 1px solid gray;flex-grow: 1;}#sk-container-id-7 div.sk-label:hover label.sk-toggleable__label {background-color: #d4ebff;}#sk-container-id-7 div.sk-serial::before {content: \"\";position: absolute;border-left: 1px solid gray;box-sizing: border-box;top: 0;bottom: 0;left: 50%;z-index: 0;}#sk-container-id-7 div.sk-serial {display: flex;flex-direction: column;align-items: center;background-color: white;padding-right: 0.2em;padding-left: 0.2em;position: relative;}#sk-container-id-7 div.sk-item {position: relative;z-index: 1;}#sk-container-id-7 div.sk-parallel {display: flex;align-items: stretch;justify-content: center;background-color: white;position: relative;}#sk-container-id-7 div.sk-item::before, #sk-container-id-7 div.sk-parallel-item::before {content: \"\";position: absolute;border-left: 1px solid gray;box-sizing: border-box;top: 0;bottom: 0;left: 50%;z-index: -1;}#sk-container-id-7 div.sk-parallel-item {display: flex;flex-direction: column;z-index: 1;position: relative;background-color: white;}#sk-container-id-7 div.sk-parallel-item:first-child::after {align-self: flex-end;width: 50%;}#sk-container-id-7 div.sk-parallel-item:last-child::after {align-self: flex-start;width: 50%;}#sk-container-id-7 div.sk-parallel-item:only-child::after {width: 0;}#sk-container-id-7 div.sk-dashed-wrapped {border: 1px dashed gray;margin: 0 0.4em 0.5em 0.4em;box-sizing: border-box;padding-bottom: 0.4em;background-color: white;}#sk-container-id-7 div.sk-label label {font-family: monospace;font-weight: bold;display: inline-block;line-height: 1.2em;}#sk-container-id-7 div.sk-label-container {text-align: center;}#sk-container-id-7 div.sk-container {/* jupyter's `normalize.less` sets `[hidden] { display: none; }` but bootstrap.min.css set `[hidden] { display: none !important; }` so we also need the `!important` here to be able to override the default hidden behavior on the sphinx rendered scikit-learn.org. See: https://github.com/scikit-learn/scikit-learn/issues/21755 */display: inline-block !important;position: relative;}#sk-container-id-7 div.sk-text-repr-fallback {display: none;}</style><div id=\"sk-container-id-7\" class=\"sk-top-container\"><div class=\"sk-text-repr-fallback\"><pre>LogisticRegression()</pre><b>In a Jupyter environment, please rerun this cell to show the HTML representation or trust the notebook. <br />On GitHub, the HTML representation is unable to render, please try loading this page with nbviewer.org.</b></div><div class=\"sk-container\" hidden><div class=\"sk-item\"><div class=\"sk-estimator sk-toggleable\"><input class=\"sk-toggleable__control sk-hidden--visually\" id=\"sk-estimator-id-7\" type=\"checkbox\" checked><label for=\"sk-estimator-id-7\" class=\"sk-toggleable__label sk-toggleable__label-arrow\">LogisticRegression</label><div class=\"sk-toggleable__content\"><pre>LogisticRegression()</pre></div></div></div></div></div>"
      ],
      "text/plain": [
       "LogisticRegression()"
      ]
     },
     "execution_count": 153,
     "metadata": {},
     "output_type": "execute_result"
    }
   ],
   "source": [
    "lg.fit(x1_tr,y1_tr)"
   ]
  },
  {
   "cell_type": "code",
   "execution_count": 154,
   "id": "92fa6bb5-ed6a-4fad-9f54-2b528814491d",
   "metadata": {},
   "outputs": [],
   "source": [
    "p2=lg.predict(x1_te)\n",
    "#p2"
   ]
  },
  {
   "cell_type": "code",
   "execution_count": 155,
   "id": "a664371d-5c0f-4027-8485-6fa4e2cd6b7c",
   "metadata": {},
   "outputs": [],
   "source": [
    "from sklearn.metrics import confusion_matrix"
   ]
  },
  {
   "cell_type": "code",
   "execution_count": 156,
   "id": "f75fa013-7eb9-40e7-a40c-9be86793daab",
   "metadata": {},
   "outputs": [
    {
     "data": {
      "text/plain": [
       "array([[4790, 2886],\n",
       "       [2589, 4597]], dtype=int64)"
      ]
     },
     "execution_count": 156,
     "metadata": {},
     "output_type": "execute_result"
    }
   ],
   "source": [
    "cm1 = confusion_matrix(p2,y1_te)\n",
    "cm1"
   ]
  },
  {
   "cell_type": "code",
   "execution_count": 157,
   "id": "964512fa-fcdb-4b5c-9d1b-0a69eb5831d9",
   "metadata": {},
   "outputs": [],
   "source": [
    "TN, FP, FN, TP = cm1.ravel()"
   ]
  },
  {
   "cell_type": "code",
   "execution_count": 158,
   "id": "5aa01469-aa84-49cb-a16e-8ebd4751c2ff",
   "metadata": {},
   "outputs": [
    {
     "data": {
      "text/plain": [
       "0.614325805158359"
      ]
     },
     "execution_count": 158,
     "metadata": {},
     "output_type": "execute_result"
    }
   ],
   "source": [
    "lp1 = TP / (TP + FP)\n",
    "lp1"
   ]
  },
  {
   "cell_type": "code",
   "execution_count": 159,
   "id": "8bab0a39-f034-4ad0-a2a0-08943fba9cfb",
   "metadata": {},
   "outputs": [
    {
     "data": {
      "text/plain": [
       "0.6397161146674089"
      ]
     },
     "execution_count": 159,
     "metadata": {},
     "output_type": "execute_result"
    }
   ],
   "source": [
    "lr1 = TP / (TP + FN)\n",
    "lr1"
   ]
  },
  {
   "cell_type": "code",
   "execution_count": 160,
   "id": "cf388736-4e2a-4b57-b5c6-f1cc0d265122",
   "metadata": {},
   "outputs": [
    {
     "data": {
      "text/plain": [
       "0.6267639239211943"
      ]
     },
     "execution_count": 160,
     "metadata": {},
     "output_type": "execute_result"
    }
   ],
   "source": [
    "l_f1 = 2 * (lp1 * lr1) / (lp1 + lr1)\n",
    "l_f1"
   ]
  },
  {
   "cell_type": "code",
   "execution_count": 161,
   "id": "ef1ac009-3968-4943-8e66-cc61f4dc5eb8",
   "metadata": {},
   "outputs": [
    {
     "data": {
      "text/plain": [
       "63.161081953976584"
      ]
     },
     "execution_count": 161,
     "metadata": {},
     "output_type": "execute_result"
    }
   ],
   "source": [
    "ac1=cm1.diagonal().sum()/cm1.sum()*100\n",
    "ac1  "
   ]
  },
  {
   "cell_type": "code",
   "execution_count": 162,
   "id": "5d6970c0-3ebf-41c7-a2e2-6a5d31513728",
   "metadata": {},
   "outputs": [
    {
     "name": "stdout",
     "output_type": "stream",
     "text": [
      "              precision    recall  f1-score   support\n",
      "\n",
      "           0       0.65      0.62      0.64      7676\n",
      "           1       0.61      0.64      0.63      7186\n",
      "\n",
      "    accuracy                           0.63     14862\n",
      "   macro avg       0.63      0.63      0.63     14862\n",
      "weighted avg       0.63      0.63      0.63     14862\n",
      "\n"
     ]
    }
   ],
   "source": [
    "from sklearn.metrics import classification_report\n",
    "print(classification_report(p2,y1_te))"
   ]
  },
  {
   "cell_type": "markdown",
   "id": "6a9debb2-da2b-4f44-8383-4f199e3fba68",
   "metadata": {},
   "source": [
    "### Decision Tree"
   ]
  },
  {
   "cell_type": "code",
   "execution_count": 163,
   "id": "598c26d2-4b20-4cdb-b049-7fd0591ea42e",
   "metadata": {},
   "outputs": [],
   "source": [
    "from sklearn.tree import DecisionTreeClassifier\n",
    "dt=DecisionTreeClassifier()"
   ]
  },
  {
   "cell_type": "code",
   "execution_count": 164,
   "id": "7f48036d-2c50-4981-8ce4-1bcc130451c4",
   "metadata": {},
   "outputs": [
    {
     "data": {
      "text/html": [
       "<style>#sk-container-id-8 {color: black;background-color: white;}#sk-container-id-8 pre{padding: 0;}#sk-container-id-8 div.sk-toggleable {background-color: white;}#sk-container-id-8 label.sk-toggleable__label {cursor: pointer;display: block;width: 100%;margin-bottom: 0;padding: 0.3em;box-sizing: border-box;text-align: center;}#sk-container-id-8 label.sk-toggleable__label-arrow:before {content: \"▸\";float: left;margin-right: 0.25em;color: #696969;}#sk-container-id-8 label.sk-toggleable__label-arrow:hover:before {color: black;}#sk-container-id-8 div.sk-estimator:hover label.sk-toggleable__label-arrow:before {color: black;}#sk-container-id-8 div.sk-toggleable__content {max-height: 0;max-width: 0;overflow: hidden;text-align: left;background-color: #f0f8ff;}#sk-container-id-8 div.sk-toggleable__content pre {margin: 0.2em;color: black;border-radius: 0.25em;background-color: #f0f8ff;}#sk-container-id-8 input.sk-toggleable__control:checked~div.sk-toggleable__content {max-height: 200px;max-width: 100%;overflow: auto;}#sk-container-id-8 input.sk-toggleable__control:checked~label.sk-toggleable__label-arrow:before {content: \"▾\";}#sk-container-id-8 div.sk-estimator input.sk-toggleable__control:checked~label.sk-toggleable__label {background-color: #d4ebff;}#sk-container-id-8 div.sk-label input.sk-toggleable__control:checked~label.sk-toggleable__label {background-color: #d4ebff;}#sk-container-id-8 input.sk-hidden--visually {border: 0;clip: rect(1px 1px 1px 1px);clip: rect(1px, 1px, 1px, 1px);height: 1px;margin: -1px;overflow: hidden;padding: 0;position: absolute;width: 1px;}#sk-container-id-8 div.sk-estimator {font-family: monospace;background-color: #f0f8ff;border: 1px dotted black;border-radius: 0.25em;box-sizing: border-box;margin-bottom: 0.5em;}#sk-container-id-8 div.sk-estimator:hover {background-color: #d4ebff;}#sk-container-id-8 div.sk-parallel-item::after {content: \"\";width: 100%;border-bottom: 1px solid gray;flex-grow: 1;}#sk-container-id-8 div.sk-label:hover label.sk-toggleable__label {background-color: #d4ebff;}#sk-container-id-8 div.sk-serial::before {content: \"\";position: absolute;border-left: 1px solid gray;box-sizing: border-box;top: 0;bottom: 0;left: 50%;z-index: 0;}#sk-container-id-8 div.sk-serial {display: flex;flex-direction: column;align-items: center;background-color: white;padding-right: 0.2em;padding-left: 0.2em;position: relative;}#sk-container-id-8 div.sk-item {position: relative;z-index: 1;}#sk-container-id-8 div.sk-parallel {display: flex;align-items: stretch;justify-content: center;background-color: white;position: relative;}#sk-container-id-8 div.sk-item::before, #sk-container-id-8 div.sk-parallel-item::before {content: \"\";position: absolute;border-left: 1px solid gray;box-sizing: border-box;top: 0;bottom: 0;left: 50%;z-index: -1;}#sk-container-id-8 div.sk-parallel-item {display: flex;flex-direction: column;z-index: 1;position: relative;background-color: white;}#sk-container-id-8 div.sk-parallel-item:first-child::after {align-self: flex-end;width: 50%;}#sk-container-id-8 div.sk-parallel-item:last-child::after {align-self: flex-start;width: 50%;}#sk-container-id-8 div.sk-parallel-item:only-child::after {width: 0;}#sk-container-id-8 div.sk-dashed-wrapped {border: 1px dashed gray;margin: 0 0.4em 0.5em 0.4em;box-sizing: border-box;padding-bottom: 0.4em;background-color: white;}#sk-container-id-8 div.sk-label label {font-family: monospace;font-weight: bold;display: inline-block;line-height: 1.2em;}#sk-container-id-8 div.sk-label-container {text-align: center;}#sk-container-id-8 div.sk-container {/* jupyter's `normalize.less` sets `[hidden] { display: none; }` but bootstrap.min.css set `[hidden] { display: none !important; }` so we also need the `!important` here to be able to override the default hidden behavior on the sphinx rendered scikit-learn.org. See: https://github.com/scikit-learn/scikit-learn/issues/21755 */display: inline-block !important;position: relative;}#sk-container-id-8 div.sk-text-repr-fallback {display: none;}</style><div id=\"sk-container-id-8\" class=\"sk-top-container\"><div class=\"sk-text-repr-fallback\"><pre>DecisionTreeClassifier()</pre><b>In a Jupyter environment, please rerun this cell to show the HTML representation or trust the notebook. <br />On GitHub, the HTML representation is unable to render, please try loading this page with nbviewer.org.</b></div><div class=\"sk-container\" hidden><div class=\"sk-item\"><div class=\"sk-estimator sk-toggleable\"><input class=\"sk-toggleable__control sk-hidden--visually\" id=\"sk-estimator-id-8\" type=\"checkbox\" checked><label for=\"sk-estimator-id-8\" class=\"sk-toggleable__label sk-toggleable__label-arrow\">DecisionTreeClassifier</label><div class=\"sk-toggleable__content\"><pre>DecisionTreeClassifier()</pre></div></div></div></div></div>"
      ],
      "text/plain": [
       "DecisionTreeClassifier()"
      ]
     },
     "execution_count": 164,
     "metadata": {},
     "output_type": "execute_result"
    }
   ],
   "source": [
    "dt.fit(x1_tr,y1_tr)"
   ]
  },
  {
   "cell_type": "code",
   "execution_count": 165,
   "id": "0b5d57d0-4e36-4dd2-bf61-d13189404cbb",
   "metadata": {},
   "outputs": [],
   "source": [
    "dp1=dt.predict(x1_te)"
   ]
  },
  {
   "cell_type": "code",
   "execution_count": 166,
   "id": "f42dbba5-9071-4ea3-b9c0-6477bdac11e3",
   "metadata": {},
   "outputs": [
    {
     "data": {
      "text/plain": [
       "array([[6230, 1031],\n",
       "       [1149, 6452]], dtype=int64)"
      ]
     },
     "execution_count": 166,
     "metadata": {},
     "output_type": "execute_result"
    }
   ],
   "source": [
    "d_m1=confusion_matrix(dp1,y1_te)\n",
    "d_m1"
   ]
  },
  {
   "cell_type": "code",
   "execution_count": 167,
   "id": "77ca66d2-a257-48aa-b4f8-6f4d0750acea",
   "metadata": {},
   "outputs": [],
   "source": [
    "TN, FP, FN, TP = d_m1.ravel()"
   ]
  },
  {
   "cell_type": "code",
   "execution_count": 168,
   "id": "278b9453-0b81-4f2a-bc0a-1dba96ca318c",
   "metadata": {},
   "outputs": [
    {
     "data": {
      "text/plain": [
       "0.8622210343445142"
      ]
     },
     "execution_count": 168,
     "metadata": {},
     "output_type": "execute_result"
    }
   ],
   "source": [
    "d_p1 = TP / (TP + FP)\n",
    "d_p1"
   ]
  },
  {
   "cell_type": "code",
   "execution_count": 169,
   "id": "42e208cd-66cc-4c9e-addd-b830d5a0a41d",
   "metadata": {},
   "outputs": [
    {
     "data": {
      "text/plain": [
       "0.8488356795158531"
      ]
     },
     "execution_count": 169,
     "metadata": {},
     "output_type": "execute_result"
    }
   ],
   "source": [
    "d_r1 = TP / (TP + FN)\n",
    "d_r1"
   ]
  },
  {
   "cell_type": "code",
   "execution_count": 170,
   "id": "9e4abebb-e0e0-4a60-9727-437e6ab385e8",
   "metadata": {},
   "outputs": [
    {
     "data": {
      "text/plain": [
       "0.8554760010607265"
      ]
     },
     "execution_count": 170,
     "metadata": {},
     "output_type": "execute_result"
    }
   ],
   "source": [
    "d_f1 = 2 * (d_p1 * d_r1) / (d_p1 + d_r1)\n",
    "d_f1"
   ]
  },
  {
   "cell_type": "code",
   "execution_count": 171,
   "id": "6b2e58e2-d722-46e9-a082-48afc8e19f68",
   "metadata": {},
   "outputs": [
    {
     "data": {
      "text/plain": [
       "85.33171847665186"
      ]
     },
     "execution_count": 171,
     "metadata": {},
     "output_type": "execute_result"
    }
   ],
   "source": [
    "d_ac1=d_m1.diagonal().sum()/d_m1.sum()*100\n",
    "d_ac1"
   ]
  },
  {
   "cell_type": "code",
   "execution_count": 172,
   "id": "c6fd7a27-6dac-43bc-9774-7e28f6ae2fea",
   "metadata": {},
   "outputs": [
    {
     "name": "stdout",
     "output_type": "stream",
     "text": [
      "              precision    recall  f1-score   support\n",
      "\n",
      "           0       0.84      0.86      0.85      7261\n",
      "           1       0.86      0.85      0.86      7601\n",
      "\n",
      "    accuracy                           0.85     14862\n",
      "   macro avg       0.85      0.85      0.85     14862\n",
      "weighted avg       0.85      0.85      0.85     14862\n",
      "\n"
     ]
    }
   ],
   "source": [
    "print(classification_report(dp1,y1_te))"
   ]
  },
  {
   "cell_type": "markdown",
   "id": "21b3480e-7f68-4600-af6c-055b0d61a051",
   "metadata": {},
   "source": [
    "### Random Forest"
   ]
  },
  {
   "cell_type": "code",
   "execution_count": 173,
   "id": "8b8a42d4-3e90-404a-a9a8-a3cdfaecde08",
   "metadata": {},
   "outputs": [],
   "source": [
    "from sklearn.ensemble import RandomForestClassifier\n",
    "rf=RandomForestClassifier()"
   ]
  },
  {
   "cell_type": "code",
   "execution_count": 174,
   "id": "dc207e84-5671-42f0-b29b-2379dc2e3f39",
   "metadata": {},
   "outputs": [
    {
     "data": {
      "text/html": [
       "<style>#sk-container-id-9 {color: black;background-color: white;}#sk-container-id-9 pre{padding: 0;}#sk-container-id-9 div.sk-toggleable {background-color: white;}#sk-container-id-9 label.sk-toggleable__label {cursor: pointer;display: block;width: 100%;margin-bottom: 0;padding: 0.3em;box-sizing: border-box;text-align: center;}#sk-container-id-9 label.sk-toggleable__label-arrow:before {content: \"▸\";float: left;margin-right: 0.25em;color: #696969;}#sk-container-id-9 label.sk-toggleable__label-arrow:hover:before {color: black;}#sk-container-id-9 div.sk-estimator:hover label.sk-toggleable__label-arrow:before {color: black;}#sk-container-id-9 div.sk-toggleable__content {max-height: 0;max-width: 0;overflow: hidden;text-align: left;background-color: #f0f8ff;}#sk-container-id-9 div.sk-toggleable__content pre {margin: 0.2em;color: black;border-radius: 0.25em;background-color: #f0f8ff;}#sk-container-id-9 input.sk-toggleable__control:checked~div.sk-toggleable__content {max-height: 200px;max-width: 100%;overflow: auto;}#sk-container-id-9 input.sk-toggleable__control:checked~label.sk-toggleable__label-arrow:before {content: \"▾\";}#sk-container-id-9 div.sk-estimator input.sk-toggleable__control:checked~label.sk-toggleable__label {background-color: #d4ebff;}#sk-container-id-9 div.sk-label input.sk-toggleable__control:checked~label.sk-toggleable__label {background-color: #d4ebff;}#sk-container-id-9 input.sk-hidden--visually {border: 0;clip: rect(1px 1px 1px 1px);clip: rect(1px, 1px, 1px, 1px);height: 1px;margin: -1px;overflow: hidden;padding: 0;position: absolute;width: 1px;}#sk-container-id-9 div.sk-estimator {font-family: monospace;background-color: #f0f8ff;border: 1px dotted black;border-radius: 0.25em;box-sizing: border-box;margin-bottom: 0.5em;}#sk-container-id-9 div.sk-estimator:hover {background-color: #d4ebff;}#sk-container-id-9 div.sk-parallel-item::after {content: \"\";width: 100%;border-bottom: 1px solid gray;flex-grow: 1;}#sk-container-id-9 div.sk-label:hover label.sk-toggleable__label {background-color: #d4ebff;}#sk-container-id-9 div.sk-serial::before {content: \"\";position: absolute;border-left: 1px solid gray;box-sizing: border-box;top: 0;bottom: 0;left: 50%;z-index: 0;}#sk-container-id-9 div.sk-serial {display: flex;flex-direction: column;align-items: center;background-color: white;padding-right: 0.2em;padding-left: 0.2em;position: relative;}#sk-container-id-9 div.sk-item {position: relative;z-index: 1;}#sk-container-id-9 div.sk-parallel {display: flex;align-items: stretch;justify-content: center;background-color: white;position: relative;}#sk-container-id-9 div.sk-item::before, #sk-container-id-9 div.sk-parallel-item::before {content: \"\";position: absolute;border-left: 1px solid gray;box-sizing: border-box;top: 0;bottom: 0;left: 50%;z-index: -1;}#sk-container-id-9 div.sk-parallel-item {display: flex;flex-direction: column;z-index: 1;position: relative;background-color: white;}#sk-container-id-9 div.sk-parallel-item:first-child::after {align-self: flex-end;width: 50%;}#sk-container-id-9 div.sk-parallel-item:last-child::after {align-self: flex-start;width: 50%;}#sk-container-id-9 div.sk-parallel-item:only-child::after {width: 0;}#sk-container-id-9 div.sk-dashed-wrapped {border: 1px dashed gray;margin: 0 0.4em 0.5em 0.4em;box-sizing: border-box;padding-bottom: 0.4em;background-color: white;}#sk-container-id-9 div.sk-label label {font-family: monospace;font-weight: bold;display: inline-block;line-height: 1.2em;}#sk-container-id-9 div.sk-label-container {text-align: center;}#sk-container-id-9 div.sk-container {/* jupyter's `normalize.less` sets `[hidden] { display: none; }` but bootstrap.min.css set `[hidden] { display: none !important; }` so we also need the `!important` here to be able to override the default hidden behavior on the sphinx rendered scikit-learn.org. See: https://github.com/scikit-learn/scikit-learn/issues/21755 */display: inline-block !important;position: relative;}#sk-container-id-9 div.sk-text-repr-fallback {display: none;}</style><div id=\"sk-container-id-9\" class=\"sk-top-container\"><div class=\"sk-text-repr-fallback\"><pre>RandomForestClassifier()</pre><b>In a Jupyter environment, please rerun this cell to show the HTML representation or trust the notebook. <br />On GitHub, the HTML representation is unable to render, please try loading this page with nbviewer.org.</b></div><div class=\"sk-container\" hidden><div class=\"sk-item\"><div class=\"sk-estimator sk-toggleable\"><input class=\"sk-toggleable__control sk-hidden--visually\" id=\"sk-estimator-id-9\" type=\"checkbox\" checked><label for=\"sk-estimator-id-9\" class=\"sk-toggleable__label sk-toggleable__label-arrow\">RandomForestClassifier</label><div class=\"sk-toggleable__content\"><pre>RandomForestClassifier()</pre></div></div></div></div></div>"
      ],
      "text/plain": [
       "RandomForestClassifier()"
      ]
     },
     "execution_count": 174,
     "metadata": {},
     "output_type": "execute_result"
    }
   ],
   "source": [
    "rf.fit(x1_tr,y1_tr)"
   ]
  },
  {
   "cell_type": "code",
   "execution_count": 175,
   "id": "696a8a01-457d-463d-a5f3-c87e6553f469",
   "metadata": {},
   "outputs": [],
   "source": [
    "rp1=rf.predict(x1_te)"
   ]
  },
  {
   "cell_type": "code",
   "execution_count": 176,
   "id": "f3af7bb8-974f-4eac-bad5-e05ab8bb1df7",
   "metadata": {},
   "outputs": [
    {
     "data": {
      "text/plain": [
       "array([[6626,  750],\n",
       "       [ 753, 6733]], dtype=int64)"
      ]
     },
     "execution_count": 176,
     "metadata": {},
     "output_type": "execute_result"
    }
   ],
   "source": [
    "r_m1=confusion_matrix(rp1,y1_te)\n",
    "r_m1"
   ]
  },
  {
   "cell_type": "code",
   "execution_count": 177,
   "id": "1e8e0775-0b68-4d2f-b163-13053d2aae96",
   "metadata": {},
   "outputs": [],
   "source": [
    "TN, FP, FN, TP = r_m1.ravel()"
   ]
  },
  {
   "cell_type": "code",
   "execution_count": 178,
   "id": "a6abe36b-2697-484c-955f-b1c4457ff94c",
   "metadata": {},
   "outputs": [
    {
     "data": {
      "text/plain": [
       "0.8997728183883469"
      ]
     },
     "execution_count": 178,
     "metadata": {},
     "output_type": "execute_result"
    }
   ],
   "source": [
    "r_p1 = TP / (TP + FP)\n",
    "r_p1"
   ]
  },
  {
   "cell_type": "code",
   "execution_count": 179,
   "id": "c197bcdd-b0c6-48e2-af1a-462b15ce651d",
   "metadata": {},
   "outputs": [
    {
     "data": {
      "text/plain": [
       "0.8994122361741919"
      ]
     },
     "execution_count": 179,
     "metadata": {},
     "output_type": "execute_result"
    }
   ],
   "source": [
    "r_r1 = TP / (TP + FN)\n",
    "r_r1"
   ]
  },
  {
   "cell_type": "code",
   "execution_count": 180,
   "id": "24c3ba35-1c8a-4071-a1a6-017185eb23e1",
   "metadata": {},
   "outputs": [
    {
     "data": {
      "text/plain": [
       "0.8995924911483734"
      ]
     },
     "execution_count": 180,
     "metadata": {},
     "output_type": "execute_result"
    }
   ],
   "source": [
    "r_f1 = 2 * (r_p1 * r_r1) / (r_p1 + r_r1)\n",
    "r_f1"
   ]
  },
  {
   "cell_type": "code",
   "execution_count": 181,
   "id": "c232b36c-7302-4b91-bedf-a0f66ea51ed9",
   "metadata": {},
   "outputs": [
    {
     "data": {
      "text/plain": [
       "89.88696003229714"
      ]
     },
     "execution_count": 181,
     "metadata": {},
     "output_type": "execute_result"
    }
   ],
   "source": [
    "r_ac1=r_m1.diagonal().sum()/r_m1.sum()*100\n",
    "r_ac1"
   ]
  },
  {
   "cell_type": "code",
   "execution_count": 182,
   "id": "c85cc174-00f1-42c4-a387-9968d825b304",
   "metadata": {},
   "outputs": [
    {
     "name": "stdout",
     "output_type": "stream",
     "text": [
      "              precision    recall  f1-score   support\n",
      "\n",
      "           0       0.90      0.90      0.90      7376\n",
      "           1       0.90      0.90      0.90      7486\n",
      "\n",
      "    accuracy                           0.90     14862\n",
      "   macro avg       0.90      0.90      0.90     14862\n",
      "weighted avg       0.90      0.90      0.90     14862\n",
      "\n"
     ]
    }
   ],
   "source": [
    "print(classification_report(rp1,y1_te))"
   ]
  },
  {
   "cell_type": "markdown",
   "id": "6ffcde59-967d-4604-98de-6cd878aa1ea0",
   "metadata": {},
   "source": [
    "### precision recall"
   ]
  },
  {
   "cell_type": "code",
   "execution_count": 183,
   "id": "69e0a3e1-afbc-4277-a2e3-f62f3702ca33",
   "metadata": {},
   "outputs": [],
   "source": [
    "from sklearn.metrics import precision_recall_curve\n",
    "from sklearn.metrics import f1_score"
   ]
  },
  {
   "cell_type": "code",
   "execution_count": 184,
   "id": "5ac86c51-a44d-4395-ae8d-75a3d1c81648",
   "metadata": {},
   "outputs": [],
   "source": [
    "precision, recall, thresholds = precision_recall_curve(y1_te,rp1)"
   ]
  },
  {
   "cell_type": "code",
   "execution_count": 185,
   "id": "58a6c0e8-375c-48d0-badd-a8961f23580b",
   "metadata": {},
   "outputs": [
    {
     "data": {
      "image/png": "[encoded data removed]",
      "text/plain": [
       "<Figure size 640x480 with 1 Axes>"
      ]
     },
     "metadata": {},
     "output_type": "display_data"
    }
   ],
   "source": [
    "plt.plot(recall,precision,label=\"PRC\")\n",
    "plt.xlabel(\"Recall\")\n",
    "plt.ylabel(\"precision\")\n",
    "plt.legend(loc=\"upper left\")\n",
    "plt.title(\"precision.Recall\")\n",
    "plt.gca().invert_xaxis()\n",
    "plt.show()"
   ]
  },
  {
   "cell_type": "markdown",
   "id": "4c2c2076-abb7-4013-a165-445f2bff31ce",
   "metadata": {},
   "source": [
    "### KNN"
   ]
  },
  {
   "cell_type": "code",
   "execution_count": 186,
   "id": "40571e4f-490b-4016-9588-3750bd481203",
   "metadata": {},
   "outputs": [],
   "source": [
    "from sklearn.neighbors import KNeighborsClassifier\n",
    "knn=KNeighborsClassifier(n_neighbors=20)"
   ]
  },
  {
   "cell_type": "code",
   "execution_count": 187,
   "id": "9fce8fca-02cf-4d7d-ad96-b0e7fe86a753",
   "metadata": {},
   "outputs": [
    {
     "data": {
      "text/html": [
       "<style>#sk-container-id-10 {color: black;background-color: white;}#sk-container-id-10 pre{padding: 0;}#sk-container-id-10 div.sk-toggleable {background-color: white;}#sk-container-id-10 label.sk-toggleable__label {cursor: pointer;display: block;width: 100%;margin-bottom: 0;padding: 0.3em;box-sizing: border-box;text-align: center;}#sk-container-id-10 label.sk-toggleable__label-arrow:before {content: \"▸\";float: left;margin-right: 0.25em;color: #696969;}#sk-container-id-10 label.sk-toggleable__label-arrow:hover:before {color: black;}#sk-container-id-10 div.sk-estimator:hover label.sk-toggleable__label-arrow:before {color: black;}#sk-container-id-10 div.sk-toggleable__content {max-height: 0;max-width: 0;overflow: hidden;text-align: left;background-color: #f0f8ff;}#sk-container-id-10 div.sk-toggleable__content pre {margin: 0.2em;color: black;border-radius: 0.25em;background-color: #f0f8ff;}#sk-container-id-10 input.sk-toggleable__control:checked~div.sk-toggleable__content {max-height: 200px;max-width: 100%;overflow: auto;}#sk-container-id-10 input.sk-toggleable__control:checked~label.sk-toggleable__label-arrow:before {content: \"▾\";}#sk-container-id-10 div.sk-estimator input.sk-toggleable__control:checked~label.sk-toggleable__label {background-color: #d4ebff;}#sk-container-id-10 div.sk-label input.sk-toggleable__control:checked~label.sk-toggleable__label {background-color: #d4ebff;}#sk-container-id-10 input.sk-hidden--visually {border: 0;clip: rect(1px 1px 1px 1px);clip: rect(1px, 1px, 1px, 1px);height: 1px;margin: -1px;overflow: hidden;padding: 0;position: absolute;width: 1px;}#sk-container-id-10 div.sk-estimator {font-family: monospace;background-color: #f0f8ff;border: 1px dotted black;border-radius: 0.25em;box-sizing: border-box;margin-bottom: 0.5em;}#sk-container-id-10 div.sk-estimator:hover {background-color: #d4ebff;}#sk-container-id-10 div.sk-parallel-item::after {content: \"\";width: 100%;border-bottom: 1px solid gray;flex-grow: 1;}#sk-container-id-10 div.sk-label:hover label.sk-toggleable__label {background-color: #d4ebff;}#sk-container-id-10 div.sk-serial::before {content: \"\";position: absolute;border-left: 1px solid gray;box-sizing: border-box;top: 0;bottom: 0;left: 50%;z-index: 0;}#sk-container-id-10 div.sk-serial {display: flex;flex-direction: column;align-items: center;background-color: white;padding-right: 0.2em;padding-left: 0.2em;position: relative;}#sk-container-id-10 div.sk-item {position: relative;z-index: 1;}#sk-container-id-10 div.sk-parallel {display: flex;align-items: stretch;justify-content: center;background-color: white;position: relative;}#sk-container-id-10 div.sk-item::before, #sk-container-id-10 div.sk-parallel-item::before {content: \"\";position: absolute;border-left: 1px solid gray;box-sizing: border-box;top: 0;bottom: 0;left: 50%;z-index: -1;}#sk-container-id-10 div.sk-parallel-item {display: flex;flex-direction: column;z-index: 1;position: relative;background-color: white;}#sk-container-id-10 div.sk-parallel-item:first-child::after {align-self: flex-end;width: 50%;}#sk-container-id-10 div.sk-parallel-item:last-child::after {align-self: flex-start;width: 50%;}#sk-container-id-10 div.sk-parallel-item:only-child::after {width: 0;}#sk-container-id-10 div.sk-dashed-wrapped {border: 1px dashed gray;margin: 0 0.4em 0.5em 0.4em;box-sizing: border-box;padding-bottom: 0.4em;background-color: white;}#sk-container-id-10 div.sk-label label {font-family: monospace;font-weight: bold;display: inline-block;line-height: 1.2em;}#sk-container-id-10 div.sk-label-container {text-align: center;}#sk-container-id-10 div.sk-container {/* jupyter's `normalize.less` sets `[hidden] { display: none; }` but bootstrap.min.css set `[hidden] { display: none !important; }` so we also need the `!important` here to be able to override the default hidden behavior on the sphinx rendered scikit-learn.org. See: https://github.com/scikit-learn/scikit-learn/issues/21755 */display: inline-block !important;position: relative;}#sk-container-id-10 div.sk-text-repr-fallback {display: none;}</style><div id=\"sk-container-id-10\" class=\"sk-top-container\"><div class=\"sk-text-repr-fallback\"><pre>KNeighborsClassifier(n_neighbors=20)</pre><b>In a Jupyter environment, please rerun this cell to show the HTML representation or trust the notebook. <br />On GitHub, the HTML representation is unable to render, please try loading this page with nbviewer.org.</b></div><div class=\"sk-container\" hidden><div class=\"sk-item\"><div class=\"sk-estimator sk-toggleable\"><input class=\"sk-toggleable__control sk-hidden--visually\" id=\"sk-estimator-id-10\" type=\"checkbox\" checked><label for=\"sk-estimator-id-10\" class=\"sk-toggleable__label sk-toggleable__label-arrow\">KNeighborsClassifier</label><div class=\"sk-toggleable__content\"><pre>KNeighborsClassifier(n_neighbors=20)</pre></div></div></div></div></div>"
      ],
      "text/plain": [
       "KNeighborsClassifier(n_neighbors=20)"
      ]
     },
     "execution_count": 187,
     "metadata": {},
     "output_type": "execute_result"
    }
   ],
   "source": [
    "knn.fit(x1_tr,y1_tr)"
   ]
  },
  {
   "cell_type": "code",
   "execution_count": 188,
   "id": "eddc3914-4bec-4229-98b9-e53dcca1b9fb",
   "metadata": {},
   "outputs": [],
   "source": [
    "kp1=knn.predict(x1_te)"
   ]
  },
  {
   "cell_type": "code",
   "execution_count": 189,
   "id": "b1ff4156-052d-4a14-a366-26d507a6a921",
   "metadata": {},
   "outputs": [
    {
     "data": {
      "text/plain": [
       "array([[5349, 2940],\n",
       "       [2030, 4543]], dtype=int64)"
      ]
     },
     "execution_count": 189,
     "metadata": {},
     "output_type": "execute_result"
    }
   ],
   "source": [
    "k_m1=confusion_matrix(kp1,y1_te)\n",
    "k_m1"
   ]
  },
  {
   "cell_type": "code",
   "execution_count": 190,
   "id": "63b49660-897d-473f-ac1e-314598e987f6",
   "metadata": {},
   "outputs": [],
   "source": [
    "TN, FP, FN, TP = k_m1.ravel()"
   ]
  },
  {
   "cell_type": "code",
   "execution_count": 191,
   "id": "d75e05d7-ed97-4b91-86ac-d3e5c080de29",
   "metadata": {},
   "outputs": [
    {
     "data": {
      "text/plain": [
       "0.6071094480823199"
      ]
     },
     "execution_count": 191,
     "metadata": {},
     "output_type": "execute_result"
    }
   ],
   "source": [
    "k_p1 = TP / (TP + FP)\n",
    "k_p1"
   ]
  },
  {
   "cell_type": "code",
   "execution_count": 192,
   "id": "4ceb86ea-9648-4510-8d6d-5db8cff32157",
   "metadata": {},
   "outputs": [
    {
     "data": {
      "text/plain": [
       "0.691160809371672"
      ]
     },
     "execution_count": 192,
     "metadata": {},
     "output_type": "execute_result"
    }
   ],
   "source": [
    "k_r1 = TP / (TP + FN)\n",
    "k_r1"
   ]
  },
  {
   "cell_type": "code",
   "execution_count": 193,
   "id": "f4b906be-856d-40a0-8252-158a55fce6af",
   "metadata": {},
   "outputs": [
    {
     "data": {
      "text/plain": [
       "0.6464143426294822"
      ]
     },
     "execution_count": 193,
     "metadata": {},
     "output_type": "execute_result"
    }
   ],
   "source": [
    "k_f1 = 2 * (k_p1 * k_r1) / (k_p1 + k_r1)\n",
    "k_f1"
   ]
  },
  {
   "cell_type": "code",
   "execution_count": 194,
   "id": "29fc7c34-a3e9-4dec-ad52-a22129a046b2",
   "metadata": {},
   "outputs": [
    {
     "data": {
      "text/plain": [
       "66.55900955456869"
      ]
     },
     "execution_count": 194,
     "metadata": {},
     "output_type": "execute_result"
    }
   ],
   "source": [
    "k_ac1=k_m1.diagonal().sum()/k_m1.sum()*100\n",
    "k_ac1"
   ]
  },
  {
   "cell_type": "code",
   "execution_count": 195,
   "id": "ec3db9ea-608e-4c6d-9f2b-04b44a186a91",
   "metadata": {},
   "outputs": [
    {
     "name": "stdout",
     "output_type": "stream",
     "text": [
      "              precision    recall  f1-score   support\n",
      "\n",
      "           0       0.72      0.65      0.68      8289\n",
      "           1       0.61      0.69      0.65      6573\n",
      "\n",
      "    accuracy                           0.67     14862\n",
      "   macro avg       0.67      0.67      0.66     14862\n",
      "weighted avg       0.67      0.67      0.67     14862\n",
      "\n"
     ]
    }
   ],
   "source": [
    "print(classification_report(kp1,y1_te))"
   ]
  },
  {
   "cell_type": "code",
   "execution_count": 196,
   "id": "b1eba5b5-e794-4d0e-b29f-c4493a6dfc74",
   "metadata": {},
   "outputs": [],
   "source": [
    "#lst=list()"
   ]
  },
  {
   "cell_type": "code",
   "execution_count": 197,
   "id": "f357d945-f295-40a3-8e38-ddccb788c732",
   "metadata": {},
   "outputs": [],
   "source": [
    "#for i in range(1,60):\n",
    "#    knn=KNeighborsClassifier(n_neighbors=i)\n",
    "#    knn.fit(x1_tr,y1_tr)\n",
    "#    knn_p=knn.predict(x1_te)\n",
    "#    c=confusion_matrix(knn_p,y1_te)\n",
    "#    acc=c.diagonal().sum()/c.sum()*100\n",
    "#    lst.append(acc)"
   ]
  },
  {
   "cell_type": "code",
   "execution_count": 198,
   "id": "97358c9f-e469-4862-bd3f-2a46d6db67ef",
   "metadata": {},
   "outputs": [],
   "source": [
    "#p=plt.plot(lst)"
   ]
  },
  {
   "cell_type": "markdown",
   "id": "96af1c96-2815-4aad-846c-651b589688bc",
   "metadata": {},
   "source": [
    "### SVM"
   ]
  },
  {
   "cell_type": "code",
   "execution_count": 199,
   "id": "1b8e8be7-480a-452f-a506-6b83f92c1f2e",
   "metadata": {},
   "outputs": [],
   "source": [
    "from sklearn.svm import SVC\n",
    "svc=SVC()"
   ]
  },
  {
   "cell_type": "code",
   "execution_count": 200,
   "id": "cfb12973-d191-48d2-94dc-906208b19177",
   "metadata": {},
   "outputs": [
    {
     "data": {
      "text/html": [
       "<style>#sk-container-id-11 {color: black;background-color: white;}#sk-container-id-11 pre{padding: 0;}#sk-container-id-11 div.sk-toggleable {background-color: white;}#sk-container-id-11 label.sk-toggleable__label {cursor: pointer;display: block;width: 100%;margin-bottom: 0;padding: 0.3em;box-sizing: border-box;text-align: center;}#sk-container-id-11 label.sk-toggleable__label-arrow:before {content: \"▸\";float: left;margin-right: 0.25em;color: #696969;}#sk-container-id-11 label.sk-toggleable__label-arrow:hover:before {color: black;}#sk-container-id-11 div.sk-estimator:hover label.sk-toggleable__label-arrow:before {color: black;}#sk-container-id-11 div.sk-toggleable__content {max-height: 0;max-width: 0;overflow: hidden;text-align: left;background-color: #f0f8ff;}#sk-container-id-11 div.sk-toggleable__content pre {margin: 0.2em;color: black;border-radius: 0.25em;background-color: #f0f8ff;}#sk-container-id-11 input.sk-toggleable__control:checked~div.sk-toggleable__content {max-height: 200px;max-width: 100%;overflow: auto;}#sk-container-id-11 input.sk-toggleable__control:checked~label.sk-toggleable__label-arrow:before {content: \"▾\";}#sk-container-id-11 div.sk-estimator input.sk-toggleable__control:checked~label.sk-toggleable__label {background-color: #d4ebff;}#sk-container-id-11 div.sk-label input.sk-toggleable__control:checked~label.sk-toggleable__label {background-color: #d4ebff;}#sk-container-id-11 input.sk-hidden--visually {border: 0;clip: rect(1px 1px 1px 1px);clip: rect(1px, 1px, 1px, 1px);height: 1px;margin: -1px;overflow: hidden;padding: 0;position: absolute;width: 1px;}#sk-container-id-11 div.sk-estimator {font-family: monospace;background-color: #f0f8ff;border: 1px dotted black;border-radius: 0.25em;box-sizing: border-box;margin-bottom: 0.5em;}#sk-container-id-11 div.sk-estimator:hover {background-color: #d4ebff;}#sk-container-id-11 div.sk-parallel-item::after {content: \"\";width: 100%;border-bottom: 1px solid gray;flex-grow: 1;}#sk-container-id-11 div.sk-label:hover label.sk-toggleable__label {background-color: #d4ebff;}#sk-container-id-11 div.sk-serial::before {content: \"\";position: absolute;border-left: 1px solid gray;box-sizing: border-box;top: 0;bottom: 0;left: 50%;z-index: 0;}#sk-container-id-11 div.sk-serial {display: flex;flex-direction: column;align-items: center;background-color: white;padding-right: 0.2em;padding-left: 0.2em;position: relative;}#sk-container-id-11 div.sk-item {position: relative;z-index: 1;}#sk-container-id-11 div.sk-parallel {display: flex;align-items: stretch;justify-content: center;background-color: white;position: relative;}#sk-container-id-11 div.sk-item::before, #sk-container-id-11 div.sk-parallel-item::before {content: \"\";position: absolute;border-left: 1px solid gray;box-sizing: border-box;top: 0;bottom: 0;left: 50%;z-index: -1;}#sk-container-id-11 div.sk-parallel-item {display: flex;flex-direction: column;z-index: 1;position: relative;background-color: white;}#sk-container-id-11 div.sk-parallel-item:first-child::after {align-self: flex-end;width: 50%;}#sk-container-id-11 div.sk-parallel-item:last-child::after {align-self: flex-start;width: 50%;}#sk-container-id-11 div.sk-parallel-item:only-child::after {width: 0;}#sk-container-id-11 div.sk-dashed-wrapped {border: 1px dashed gray;margin: 0 0.4em 0.5em 0.4em;box-sizing: border-box;padding-bottom: 0.4em;background-color: white;}#sk-container-id-11 div.sk-label label {font-family: monospace;font-weight: bold;display: inline-block;line-height: 1.2em;}#sk-container-id-11 div.sk-label-container {text-align: center;}#sk-container-id-11 div.sk-container {/* jupyter's `normalize.less` sets `[hidden] { display: none; }` but bootstrap.min.css set `[hidden] { display: none !important; }` so we also need the `!important` here to be able to override the default hidden behavior on the sphinx rendered scikit-learn.org. See: https://github.com/scikit-learn/scikit-learn/issues/21755 */display: inline-block !important;position: relative;}#sk-container-id-11 div.sk-text-repr-fallback {display: none;}</style><div id=\"sk-container-id-11\" class=\"sk-top-container\"><div class=\"sk-text-repr-fallback\"><pre>SVC()</pre><b>In a Jupyter environment, please rerun this cell to show the HTML representation or trust the notebook. <br />On GitHub, the HTML representation is unable to render, please try loading this page with nbviewer.org.</b></div><div class=\"sk-container\" hidden><div class=\"sk-item\"><div class=\"sk-estimator sk-toggleable\"><input class=\"sk-toggleable__control sk-hidden--visually\" id=\"sk-estimator-id-11\" type=\"checkbox\" checked><label for=\"sk-estimator-id-11\" class=\"sk-toggleable__label sk-toggleable__label-arrow\">SVC</label><div class=\"sk-toggleable__content\"><pre>SVC()</pre></div></div></div></div></div>"
      ],
      "text/plain": [
       "SVC()"
      ]
     },
     "execution_count": 200,
     "metadata": {},
     "output_type": "execute_result"
    }
   ],
   "source": [
    "svc.fit(x1_tr,y1_tr)"
   ]
  },
  {
   "cell_type": "code",
   "execution_count": 201,
   "id": "2c6325a9-647a-404f-b552-5f7ab850c6b8",
   "metadata": {},
   "outputs": [
    {
     "data": {
      "text/plain": [
       "array([0, 0, 0, ..., 0, 0, 0])"
      ]
     },
     "execution_count": 201,
     "metadata": {},
     "output_type": "execute_result"
    }
   ],
   "source": [
    "sp1=svc.predict(x1_te)\n",
    "sp1"
   ]
  },
  {
   "cell_type": "code",
   "execution_count": 202,
   "id": "c7089ce7-6f7b-4530-a5b5-d087d92ab7a9",
   "metadata": {},
   "outputs": [
    {
     "data": {
      "text/plain": [
       "array([[7284, 6032],\n",
       "       [  95, 1451]], dtype=int64)"
      ]
     },
     "execution_count": 202,
     "metadata": {},
     "output_type": "execute_result"
    }
   ],
   "source": [
    "sm1=confusion_matrix(sp1,y1_te)\n",
    "sm1"
   ]
  },
  {
   "cell_type": "code",
   "execution_count": 203,
   "id": "6c222f45-8e08-4bc2-b6e1-909f2adf6eef",
   "metadata": {},
   "outputs": [],
   "source": [
    "TN, FP, FN, TP = sm1.ravel()"
   ]
  },
  {
   "cell_type": "code",
   "execution_count": 204,
   "id": "d22514bd-14a1-4e12-bd97-221844d5404a",
   "metadata": {},
   "outputs": [
    {
     "data": {
      "text/plain": [
       "0.1939061873580115"
      ]
     },
     "execution_count": 204,
     "metadata": {},
     "output_type": "execute_result"
    }
   ],
   "source": [
    "s_p1 = TP / (TP + FP)\n",
    "s_p1"
   ]
  },
  {
   "cell_type": "code",
   "execution_count": 205,
   "id": "2ff28591-db72-48ad-bcdf-22c57c91e561",
   "metadata": {},
   "outputs": [
    {
     "data": {
      "text/plain": [
       "0.9385510996119016"
      ]
     },
     "execution_count": 205,
     "metadata": {},
     "output_type": "execute_result"
    }
   ],
   "source": [
    "s_r1 = TP / (TP + FN)\n",
    "s_r1"
   ]
  },
  {
   "cell_type": "code",
   "execution_count": 206,
   "id": "0155bd21-2e04-48f0-a705-a27715c9ae34",
   "metadata": {},
   "outputs": [
    {
     "data": {
      "text/plain": [
       "0.3214087938863661"
      ]
     },
     "execution_count": 206,
     "metadata": {},
     "output_type": "execute_result"
    }
   ],
   "source": [
    "s_f1 = 2 * (s_p1 * s_r1) / (s_p1 + s_r1)\n",
    "s_f1"
   ]
  },
  {
   "cell_type": "code",
   "execution_count": 207,
   "id": "1951a80a-9bea-42c5-bfe2-373539f4e521",
   "metadata": {},
   "outputs": [
    {
     "data": {
      "text/plain": [
       "58.774054635984385"
      ]
     },
     "execution_count": 207,
     "metadata": {},
     "output_type": "execute_result"
    }
   ],
   "source": [
    "s_ac1=sm1.diagonal().sum()/sm1.sum()*100\n",
    "s_ac1"
   ]
  },
  {
   "cell_type": "code",
   "execution_count": 208,
   "id": "0445dda3-1f86-4497-b520-65997390486c",
   "metadata": {},
   "outputs": [
    {
     "name": "stdout",
     "output_type": "stream",
     "text": [
      "              precision    recall  f1-score   support\n",
      "\n",
      "           0       0.99      0.55      0.70     13316\n",
      "           1       0.19      0.94      0.32      1546\n",
      "\n",
      "    accuracy                           0.59     14862\n",
      "   macro avg       0.59      0.74      0.51     14862\n",
      "weighted avg       0.90      0.59      0.66     14862\n",
      "\n"
     ]
    }
   ],
   "source": [
    "print(classification_report(sp1,y1_te))"
   ]
  },
  {
   "cell_type": "markdown",
   "id": "eb48adbd-52b0-4ce0-8022-246f1df9bf06",
   "metadata": {},
   "source": [
    "### Naive Bayes"
   ]
  },
  {
   "cell_type": "code",
   "execution_count": 209,
   "id": "8991d9ef-54b2-4531-a8fe-0fb7cd42cd8b",
   "metadata": {},
   "outputs": [],
   "source": [
    "from sklearn.naive_bayes import MultinomialNB\n",
    "nb=MultinomialNB()"
   ]
  },
  {
   "cell_type": "code",
   "execution_count": 210,
   "id": "8ce177f9-b2a0-43c4-8c29-cbd687e89bf8",
   "metadata": {},
   "outputs": [
    {
     "data": {
      "text/html": [
       "<style>#sk-container-id-12 {color: black;background-color: white;}#sk-container-id-12 pre{padding: 0;}#sk-container-id-12 div.sk-toggleable {background-color: white;}#sk-container-id-12 label.sk-toggleable__label {cursor: pointer;display: block;width: 100%;margin-bottom: 0;padding: 0.3em;box-sizing: border-box;text-align: center;}#sk-container-id-12 label.sk-toggleable__label-arrow:before {content: \"▸\";float: left;margin-right: 0.25em;color: #696969;}#sk-container-id-12 label.sk-toggleable__label-arrow:hover:before {color: black;}#sk-container-id-12 div.sk-estimator:hover label.sk-toggleable__label-arrow:before {color: black;}#sk-container-id-12 div.sk-toggleable__content {max-height: 0;max-width: 0;overflow: hidden;text-align: left;background-color: #f0f8ff;}#sk-container-id-12 div.sk-toggleable__content pre {margin: 0.2em;color: black;border-radius: 0.25em;background-color: #f0f8ff;}#sk-container-id-12 input.sk-toggleable__control:checked~div.sk-toggleable__content {max-height: 200px;max-width: 100%;overflow: auto;}#sk-container-id-12 input.sk-toggleable__control:checked~label.sk-toggleable__label-arrow:before {content: \"▾\";}#sk-container-id-12 div.sk-estimator input.sk-toggleable__control:checked~label.sk-toggleable__label {background-color: #d4ebff;}#sk-container-id-12 div.sk-label input.sk-toggleable__control:checked~label.sk-toggleable__label {background-color: #d4ebff;}#sk-container-id-12 input.sk-hidden--visually {border: 0;clip: rect(1px 1px 1px 1px);clip: rect(1px, 1px, 1px, 1px);height: 1px;margin: -1px;overflow: hidden;padding: 0;position: absolute;width: 1px;}#sk-container-id-12 div.sk-estimator {font-family: monospace;background-color: #f0f8ff;border: 1px dotted black;border-radius: 0.25em;box-sizing: border-box;margin-bottom: 0.5em;}#sk-container-id-12 div.sk-estimator:hover {background-color: #d4ebff;}#sk-container-id-12 div.sk-parallel-item::after {content: \"\";width: 100%;border-bottom: 1px solid gray;flex-grow: 1;}#sk-container-id-12 div.sk-label:hover label.sk-toggleable__label {background-color: #d4ebff;}#sk-container-id-12 div.sk-serial::before {content: \"\";position: absolute;border-left: 1px solid gray;box-sizing: border-box;top: 0;bottom: 0;left: 50%;z-index: 0;}#sk-container-id-12 div.sk-serial {display: flex;flex-direction: column;align-items: center;background-color: white;padding-right: 0.2em;padding-left: 0.2em;position: relative;}#sk-container-id-12 div.sk-item {position: relative;z-index: 1;}#sk-container-id-12 div.sk-parallel {display: flex;align-items: stretch;justify-content: center;background-color: white;position: relative;}#sk-container-id-12 div.sk-item::before, #sk-container-id-12 div.sk-parallel-item::before {content: \"\";position: absolute;border-left: 1px solid gray;box-sizing: border-box;top: 0;bottom: 0;left: 50%;z-index: -1;}#sk-container-id-12 div.sk-parallel-item {display: flex;flex-direction: column;z-index: 1;position: relative;background-color: white;}#sk-container-id-12 div.sk-parallel-item:first-child::after {align-self: flex-end;width: 50%;}#sk-container-id-12 div.sk-parallel-item:last-child::after {align-self: flex-start;width: 50%;}#sk-container-id-12 div.sk-parallel-item:only-child::after {width: 0;}#sk-container-id-12 div.sk-dashed-wrapped {border: 1px dashed gray;margin: 0 0.4em 0.5em 0.4em;box-sizing: border-box;padding-bottom: 0.4em;background-color: white;}#sk-container-id-12 div.sk-label label {font-family: monospace;font-weight: bold;display: inline-block;line-height: 1.2em;}#sk-container-id-12 div.sk-label-container {text-align: center;}#sk-container-id-12 div.sk-container {/* jupyter's `normalize.less` sets `[hidden] { display: none; }` but bootstrap.min.css set `[hidden] { display: none !important; }` so we also need the `!important` here to be able to override the default hidden behavior on the sphinx rendered scikit-learn.org. See: https://github.com/scikit-learn/scikit-learn/issues/21755 */display: inline-block !important;position: relative;}#sk-container-id-12 div.sk-text-repr-fallback {display: none;}</style><div id=\"sk-container-id-12\" class=\"sk-top-container\"><div class=\"sk-text-repr-fallback\"><pre>MultinomialNB()</pre><b>In a Jupyter environment, please rerun this cell to show the HTML representation or trust the notebook. <br />On GitHub, the HTML representation is unable to render, please try loading this page with nbviewer.org.</b></div><div class=\"sk-container\" hidden><div class=\"sk-item\"><div class=\"sk-estimator sk-toggleable\"><input class=\"sk-toggleable__control sk-hidden--visually\" id=\"sk-estimator-id-12\" type=\"checkbox\" checked><label for=\"sk-estimator-id-12\" class=\"sk-toggleable__label sk-toggleable__label-arrow\">MultinomialNB</label><div class=\"sk-toggleable__content\"><pre>MultinomialNB()</pre></div></div></div></div></div>"
      ],
      "text/plain": [
       "MultinomialNB()"
      ]
     },
     "execution_count": 210,
     "metadata": {},
     "output_type": "execute_result"
    }
   ],
   "source": [
    "nb.fit(x1_tr,y1_tr)"
   ]
  },
  {
   "cell_type": "code",
   "execution_count": 211,
   "id": "a50c0a05-4ffa-452e-a18a-58fa8f56c642",
   "metadata": {},
   "outputs": [],
   "source": [
    "np1=nb.predict(x1_te)"
   ]
  },
  {
   "cell_type": "code",
   "execution_count": 212,
   "id": "64c512ea-b55e-4e43-a188-f6027ecf18bb",
   "metadata": {},
   "outputs": [
    {
     "data": {
      "text/plain": [
       "array([[7052, 5824],\n",
       "       [ 327, 1659]], dtype=int64)"
      ]
     },
     "execution_count": 212,
     "metadata": {},
     "output_type": "execute_result"
    }
   ],
   "source": [
    "n_m1=confusion_matrix(np1,y1_te)\n",
    "n_m1"
   ]
  },
  {
   "cell_type": "code",
   "execution_count": 213,
   "id": "cff1ce1c-84da-4198-993d-f6dbdb0f0160",
   "metadata": {},
   "outputs": [],
   "source": [
    "TN, FP, FN, TP = n_m1.ravel()"
   ]
  },
  {
   "cell_type": "code",
   "execution_count": 214,
   "id": "ffcd9b0b-61ae-46ac-8a34-95269d5f3255",
   "metadata": {},
   "outputs": [
    {
     "data": {
      "text/plain": [
       "0.22170252572497662"
      ]
     },
     "execution_count": 214,
     "metadata": {},
     "output_type": "execute_result"
    }
   ],
   "source": [
    "n_p1 = TP / (TP + FP)\n",
    "n_p1"
   ]
  },
  {
   "cell_type": "code",
   "execution_count": 215,
   "id": "2330c848-0964-4523-bcff-6bc98e044081",
   "metadata": {},
   "outputs": [
    {
     "data": {
      "text/plain": [
       "0.8353474320241692"
      ]
     },
     "execution_count": 215,
     "metadata": {},
     "output_type": "execute_result"
    }
   ],
   "source": [
    "n_r1 = TP / (TP + FN)\n",
    "n_r1"
   ]
  },
  {
   "cell_type": "code",
   "execution_count": 216,
   "id": "f1129f1f-89af-4aa7-bd27-702e14600041",
   "metadata": {},
   "outputs": [
    {
     "data": {
      "text/plain": [
       "0.35040658992501844"
      ]
     },
     "execution_count": 216,
     "metadata": {},
     "output_type": "execute_result"
    }
   ],
   "source": [
    "n_f1 = 2 * (n_p1 * n_r1) / (n_p1 + n_r1)\n",
    "n_f1"
   ]
  },
  {
   "cell_type": "code",
   "execution_count": 217,
   "id": "2a3f3456-bb87-49a7-b5cf-e54014b0d63f",
   "metadata": {},
   "outputs": [
    {
     "data": {
      "text/plain": [
       "58.61256896783744"
      ]
     },
     "execution_count": 217,
     "metadata": {},
     "output_type": "execute_result"
    }
   ],
   "source": [
    "n_ac1=n_m1.diagonal().sum()/n_m1.sum()*100\n",
    "n_ac1"
   ]
  },
  {
   "cell_type": "code",
   "execution_count": 218,
   "id": "880394a2-42f3-4cb0-a014-9661b48cfcfb",
   "metadata": {},
   "outputs": [
    {
     "name": "stdout",
     "output_type": "stream",
     "text": [
      "              precision    recall  f1-score   support\n",
      "\n",
      "           0       0.96      0.55      0.70     12876\n",
      "           1       0.22      0.84      0.35      1986\n",
      "\n",
      "    accuracy                           0.59     14862\n",
      "   macro avg       0.59      0.69      0.52     14862\n",
      "weighted avg       0.86      0.59      0.65     14862\n",
      "\n"
     ]
    }
   ],
   "source": [
    "print(classification_report(np1,y1_te))"
   ]
  },
  {
   "cell_type": "markdown",
   "id": "46c24f80-a90d-4d2a-acc8-eaae3fe95b9e",
   "metadata": {},
   "source": [
    "### Report"
   ]
  },
  {
   "cell_type": "code",
   "execution_count": 219,
   "id": "a6bf5026-1860-4bd1-9170-750bd0953c26",
   "metadata": {},
   "outputs": [],
   "source": [
    "list1=[\"logistic\",\"DT\",\"RF\",\"KNN\",\"NB\" ,  \"SVM\"]\n",
    "list2=[ac1, d_ac1, r_ac1, k_ac1,  n_ac1 ,  s_ac1  ]\n",
    "list3=[lp1,  d_p1,  r_p1,  k_p1,   n_p1 ,  s_p1]\n",
    "list4=[lr1,  d_r1,  r_r1,  k_r1,    n_r1 , s_r1 ]\n",
    "list5=[l_f1, d_f1, r_f1, k_f1,    n_f1  ,  s_f1, ]"
   ]
  },
  {
   "cell_type": "code",
   "execution_count": 220,
   "id": "8e1aea1f-04b6-41ce-b01e-7849759e5813",
   "metadata": {},
   "outputs": [
    {
     "data": {
      "text/html": [
       "<div>\n",
       "<style scoped>\n",
       "    .dataframe tbody tr th:only-of-type {\n",
       "        vertical-align: middle;\n",
       "    }\n",
       "\n",
       "    .dataframe tbody tr th {\n",
       "        vertical-align: top;\n",
       "    }\n",
       "\n",
       "    .dataframe thead th {\n",
       "        text-align: right;\n",
       "    }\n",
       "</style>\n",
       "<table border=\"1\" class=\"dataframe\">\n",
       "  <thead>\n",
       "    <tr style=\"text-align: right;\">\n",
       "      <th></th>\n",
       "      <th>model_name</th>\n",
       "      <th>Accuracy</th>\n",
       "      <th>Precision</th>\n",
       "      <th>Recall</th>\n",
       "      <th>F1-score</th>\n",
       "    </tr>\n",
       "  </thead>\n",
       "  <tbody>\n",
       "    <tr>\n",
       "      <th>0</th>\n",
       "      <td>logistic</td>\n",
       "      <td>63.161082</td>\n",
       "      <td>0.614326</td>\n",
       "      <td>0.639716</td>\n",
       "      <td>0.626764</td>\n",
       "    </tr>\n",
       "    <tr>\n",
       "      <th>1</th>\n",
       "      <td>DT</td>\n",
       "      <td>85.331718</td>\n",
       "      <td>0.862221</td>\n",
       "      <td>0.848836</td>\n",
       "      <td>0.855476</td>\n",
       "    </tr>\n",
       "    <tr>\n",
       "      <th>2</th>\n",
       "      <td>RF</td>\n",
       "      <td>89.886960</td>\n",
       "      <td>0.899773</td>\n",
       "      <td>0.899412</td>\n",
       "      <td>0.899592</td>\n",
       "    </tr>\n",
       "    <tr>\n",
       "      <th>3</th>\n",
       "      <td>KNN</td>\n",
       "      <td>66.559010</td>\n",
       "      <td>0.607109</td>\n",
       "      <td>0.691161</td>\n",
       "      <td>0.646414</td>\n",
       "    </tr>\n",
       "    <tr>\n",
       "      <th>4</th>\n",
       "      <td>NB</td>\n",
       "      <td>58.612569</td>\n",
       "      <td>0.221703</td>\n",
       "      <td>0.835347</td>\n",
       "      <td>0.350407</td>\n",
       "    </tr>\n",
       "    <tr>\n",
       "      <th>5</th>\n",
       "      <td>SVM</td>\n",
       "      <td>58.774055</td>\n",
       "      <td>0.193906</td>\n",
       "      <td>0.938551</td>\n",
       "      <td>0.321409</td>\n",
       "    </tr>\n",
       "  </tbody>\n",
       "</table>\n",
       "</div>"
      ],
      "text/plain": [
       "  model_name   Accuracy  Precision    Recall  F1-score\n",
       "0   logistic  63.161082   0.614326  0.639716  0.626764\n",
       "1         DT  85.331718   0.862221  0.848836  0.855476\n",
       "2         RF  89.886960   0.899773  0.899412  0.899592\n",
       "3        KNN  66.559010   0.607109  0.691161  0.646414\n",
       "4         NB  58.612569   0.221703  0.835347  0.350407\n",
       "5        SVM  58.774055   0.193906  0.938551  0.321409"
      ]
     },
     "execution_count": 220,
     "metadata": {},
     "output_type": "execute_result"
    }
   ],
   "source": [
    "result=pd.DataFrame({\"model_name\":list1,\"Accuracy\":list2,\"Precision\":list3,\"Recall\":list4,\"F1-score\":list5})\n",
    "result"
   ]
  },
  {
   "cell_type": "code",
   "execution_count": 221,
   "id": "6b489c1f-2753-45dd-a0de-33f7b9ec65d9",
   "metadata": {},
   "outputs": [],
   "source": [
    "## Random Forest is the top-performing model in terms of accuracy, precision, recall, and F1-score."
   ]
  },
  {
   "cell_type": "markdown",
   "id": "8dd4eb58-f540-4129-9c18-eca5926b3406",
   "metadata": {},
   "source": [
    "### XG Boost"
   ]
  },
  {
   "cell_type": "code",
   "execution_count": 222,
   "id": "76026927-3a45-42a9-8dd5-7f24294bf29f",
   "metadata": {},
   "outputs": [],
   "source": [
    "from xgboost import XGBClassifier\n",
    "xgb=XGBClassifier()"
   ]
  },
  {
   "cell_type": "code",
   "execution_count": 223,
   "id": "23a0f3eb-4801-46fe-8529-6817337f8b0d",
   "metadata": {},
   "outputs": [
    {
     "data": {
      "text/html": [
       "<style>#sk-container-id-13 {color: black;background-color: white;}#sk-container-id-13 pre{padding: 0;}#sk-container-id-13 div.sk-toggleable {background-color: white;}#sk-container-id-13 label.sk-toggleable__label {cursor: pointer;display: block;width: 100%;margin-bottom: 0;padding: 0.3em;box-sizing: border-box;text-align: center;}#sk-container-id-13 label.sk-toggleable__label-arrow:before {content: \"▸\";float: left;margin-right: 0.25em;color: #696969;}#sk-container-id-13 label.sk-toggleable__label-arrow:hover:before {color: black;}#sk-container-id-13 div.sk-estimator:hover label.sk-toggleable__label-arrow:before {color: black;}#sk-container-id-13 div.sk-toggleable__content {max-height: 0;max-width: 0;overflow: hidden;text-align: left;background-color: #f0f8ff;}#sk-container-id-13 div.sk-toggleable__content pre {margin: 0.2em;color: black;border-radius: 0.25em;background-color: #f0f8ff;}#sk-container-id-13 input.sk-toggleable__control:checked~div.sk-toggleable__content {max-height: 200px;max-width: 100%;overflow: auto;}#sk-container-id-13 input.sk-toggleable__control:checked~label.sk-toggleable__label-arrow:before {content: \"▾\";}#sk-container-id-13 div.sk-estimator input.sk-toggleable__control:checked~label.sk-toggleable__label {background-color: #d4ebff;}#sk-container-id-13 div.sk-label input.sk-toggleable__control:checked~label.sk-toggleable__label {background-color: #d4ebff;}#sk-container-id-13 input.sk-hidden--visually {border: 0;clip: rect(1px 1px 1px 1px);clip: rect(1px, 1px, 1px, 1px);height: 1px;margin: -1px;overflow: hidden;padding: 0;position: absolute;width: 1px;}#sk-container-id-13 div.sk-estimator {font-family: monospace;background-color: #f0f8ff;border: 1px dotted black;border-radius: 0.25em;box-sizing: border-box;margin-bottom: 0.5em;}#sk-container-id-13 div.sk-estimator:hover {background-color: #d4ebff;}#sk-container-id-13 div.sk-parallel-item::after {content: \"\";width: 100%;border-bottom: 1px solid gray;flex-grow: 1;}#sk-container-id-13 div.sk-label:hover label.sk-toggleable__label {background-color: #d4ebff;}#sk-container-id-13 div.sk-serial::before {content: \"\";position: absolute;border-left: 1px solid gray;box-sizing: border-box;top: 0;bottom: 0;left: 50%;z-index: 0;}#sk-container-id-13 div.sk-serial {display: flex;flex-direction: column;align-items: center;background-color: white;padding-right: 0.2em;padding-left: 0.2em;position: relative;}#sk-container-id-13 div.sk-item {position: relative;z-index: 1;}#sk-container-id-13 div.sk-parallel {display: flex;align-items: stretch;justify-content: center;background-color: white;position: relative;}#sk-container-id-13 div.sk-item::before, #sk-container-id-13 div.sk-parallel-item::before {content: \"\";position: absolute;border-left: 1px solid gray;box-sizing: border-box;top: 0;bottom: 0;left: 50%;z-index: -1;}#sk-container-id-13 div.sk-parallel-item {display: flex;flex-direction: column;z-index: 1;position: relative;background-color: white;}#sk-container-id-13 div.sk-parallel-item:first-child::after {align-self: flex-end;width: 50%;}#sk-container-id-13 div.sk-parallel-item:last-child::after {align-self: flex-start;width: 50%;}#sk-container-id-13 div.sk-parallel-item:only-child::after {width: 0;}#sk-container-id-13 div.sk-dashed-wrapped {border: 1px dashed gray;margin: 0 0.4em 0.5em 0.4em;box-sizing: border-box;padding-bottom: 0.4em;background-color: white;}#sk-container-id-13 div.sk-label label {font-family: monospace;font-weight: bold;display: inline-block;line-height: 1.2em;}#sk-container-id-13 div.sk-label-container {text-align: center;}#sk-container-id-13 div.sk-container {/* jupyter's `normalize.less` sets `[hidden] { display: none; }` but bootstrap.min.css set `[hidden] { display: none !important; }` so we also need the `!important` here to be able to override the default hidden behavior on the sphinx rendered scikit-learn.org. See: https://github.com/scikit-learn/scikit-learn/issues/21755 */display: inline-block !important;position: relative;}#sk-container-id-13 div.sk-text-repr-fallback {display: none;}</style><div id=\"sk-container-id-13\" class=\"sk-top-container\"><div class=\"sk-text-repr-fallback\"><pre>XGBClassifier(base_score=None, booster=None, callbacks=None,\n",
       "              colsample_bylevel=None, colsample_bynode=None,\n",
       "              colsample_bytree=None, device=None, early_stopping_rounds=None,\n",
       "              enable_categorical=False, eval_metric=None, feature_types=None,\n",
       "              gamma=None, grow_policy=None, importance_type=None,\n",
       "              interaction_constraints=None, learning_rate=None, max_bin=None,\n",
       "              max_cat_threshold=None, max_cat_to_onehot=None,\n",
       "              max_delta_step=None, max_depth=None, max_leaves=None,\n",
       "              min_child_weight=None, missing=nan, monotone_constraints=None,\n",
       "              multi_strategy=None, n_estimators=None, n_jobs=None,\n",
       "              num_parallel_tree=None, random_state=None, ...)</pre><b>In a Jupyter environment, please rerun this cell to show the HTML representation or trust the notebook. <br />On GitHub, the HTML representation is unable to render, please try loading this page with nbviewer.org.</b></div><div class=\"sk-container\" hidden><div class=\"sk-item\"><div class=\"sk-estimator sk-toggleable\"><input class=\"sk-toggleable__control sk-hidden--visually\" id=\"sk-estimator-id-13\" type=\"checkbox\" checked><label for=\"sk-estimator-id-13\" class=\"sk-toggleable__label sk-toggleable__label-arrow\">XGBClassifier</label><div class=\"sk-toggleable__content\"><pre>XGBClassifier(base_score=None, booster=None, callbacks=None,\n",
       "              colsample_bylevel=None, colsample_bynode=None,\n",
       "              colsample_bytree=None, device=None, early_stopping_rounds=None,\n",
       "              enable_categorical=False, eval_metric=None, feature_types=None,\n",
       "              gamma=None, grow_policy=None, importance_type=None,\n",
       "              interaction_constraints=None, learning_rate=None, max_bin=None,\n",
       "              max_cat_threshold=None, max_cat_to_onehot=None,\n",
       "              max_delta_step=None, max_depth=None, max_leaves=None,\n",
       "              min_child_weight=None, missing=nan, monotone_constraints=None,\n",
       "              multi_strategy=None, n_estimators=None, n_jobs=None,\n",
       "              num_parallel_tree=None, random_state=None, ...)</pre></div></div></div></div></div>"
      ],
      "text/plain": [
       "XGBClassifier(base_score=None, booster=None, callbacks=None,\n",
       "              colsample_bylevel=None, colsample_bynode=None,\n",
       "              colsample_bytree=None, device=None, early_stopping_rounds=None,\n",
       "              enable_categorical=False, eval_metric=None, feature_types=None,\n",
       "              gamma=None, grow_policy=None, importance_type=None,\n",
       "              interaction_constraints=None, learning_rate=None, max_bin=None,\n",
       "              max_cat_threshold=None, max_cat_to_onehot=None,\n",
       "              max_delta_step=None, max_depth=None, max_leaves=None,\n",
       "              min_child_weight=None, missing=nan, monotone_constraints=None,\n",
       "              multi_strategy=None, n_estimators=None, n_jobs=None,\n",
       "              num_parallel_tree=None, random_state=None, ...)"
      ]
     },
     "execution_count": 223,
     "metadata": {},
     "output_type": "execute_result"
    }
   ],
   "source": [
    "xgb.fit(x1_tr,y1_tr)"
   ]
  },
  {
   "cell_type": "code",
   "execution_count": 224,
   "id": "b960102c-f950-4f87-bcc8-4c22e1a3792c",
   "metadata": {},
   "outputs": [],
   "source": [
    "xgb_p=xgb.predict(x1_te)"
   ]
  },
  {
   "cell_type": "code",
   "execution_count": 225,
   "id": "7dd5ccea-6bdd-4544-b4d3-29bdd4c7ee30",
   "metadata": {},
   "outputs": [
    {
     "data": {
      "text/plain": [
       "array([[6729,  776],\n",
       "       [ 650, 6707]], dtype=int64)"
      ]
     },
     "execution_count": 225,
     "metadata": {},
     "output_type": "execute_result"
    }
   ],
   "source": [
    "xgb_m=confusion_matrix(xgb_p,y1_te)\n",
    "xgb_m"
   ]
  },
  {
   "cell_type": "code",
   "execution_count": 226,
   "id": "a0c957eb-ec19-424b-8333-702fe9988e6f",
   "metadata": {},
   "outputs": [],
   "source": [
    "TN, FP, FN, TP = xgb_m.ravel()"
   ]
  },
  {
   "cell_type": "code",
   "execution_count": 227,
   "id": "90640372-7456-4cac-8518-0402ad0a732f",
   "metadata": {},
   "outputs": [
    {
     "data": {
      "text/plain": [
       "0.8962982760924763"
      ]
     },
     "execution_count": 227,
     "metadata": {},
     "output_type": "execute_result"
    }
   ],
   "source": [
    "xgb_p1 = TP / (TP + FP)\n",
    "xgb_p1"
   ]
  },
  {
   "cell_type": "code",
   "execution_count": 228,
   "id": "73a2b7ba-5336-47dc-9f71-16c48f4c6808",
   "metadata": {},
   "outputs": [
    {
     "data": {
      "text/plain": [
       "0.9116487698790268"
      ]
     },
     "execution_count": 228,
     "metadata": {},
     "output_type": "execute_result"
    }
   ],
   "source": [
    "xgb_r1 = TP / (TP + FN)\n",
    "xgb_r1"
   ]
  },
  {
   "cell_type": "code",
   "execution_count": 229,
   "id": "ef57ee49-62fb-4a5d-b08e-49daff5a005c",
   "metadata": {},
   "outputs": [
    {
     "data": {
      "text/plain": [
       "0.9039083557951483"
      ]
     },
     "execution_count": 229,
     "metadata": {},
     "output_type": "execute_result"
    }
   ],
   "source": [
    "xgb_f1 = 2 * (xgb_p1 * xgb_r1) / (xgb_p1 +xgb_r1)\n",
    "xgb_f1"
   ]
  },
  {
   "cell_type": "code",
   "execution_count": 230,
   "id": "3c0b4770-bb24-45a2-ac57-f36508a77e08",
   "metadata": {},
   "outputs": [
    {
     "data": {
      "text/plain": [
       "90.4050598842686"
      ]
     },
     "execution_count": 230,
     "metadata": {},
     "output_type": "execute_result"
    }
   ],
   "source": [
    "xgb_acc=xgb_m.diagonal().sum()/xgb_m.sum()*100\n",
    "xgb_acc"
   ]
  },
  {
   "cell_type": "code",
   "execution_count": 231,
   "id": "6faf3531-008a-496d-9390-94e85a39dade",
   "metadata": {},
   "outputs": [
    {
     "name": "stdout",
     "output_type": "stream",
     "text": [
      "              precision    recall  f1-score   support\n",
      "\n",
      "           0       0.91      0.90      0.90      7505\n",
      "           1       0.90      0.91      0.90      7357\n",
      "\n",
      "    accuracy                           0.90     14862\n",
      "   macro avg       0.90      0.90      0.90     14862\n",
      "weighted avg       0.90      0.90      0.90     14862\n",
      "\n"
     ]
    }
   ],
   "source": [
    "print(classification_report(xgb_p,y1_te))"
   ]
  },
  {
   "cell_type": "markdown",
   "id": "b7f0ab43-fd33-4c3f-b2ee-6313787a7e23",
   "metadata": {},
   "source": [
    "### Feature Engineering"
   ]
  },
  {
   "cell_type": "markdown",
   "id": "b5d55751-708e-4461-ba2f-281025318d8a",
   "metadata": {},
   "source": [
    "#### RFE(Recursive feature elimination)"
   ]
  },
  {
   "cell_type": "code",
   "execution_count": 232,
   "id": "86e81eee-d56f-42ec-9818-2816ef4c5c44",
   "metadata": {},
   "outputs": [],
   "source": [
    "from sklearn.feature_selection import RFE"
   ]
  },
  {
   "cell_type": "code",
   "execution_count": 233,
   "id": "4e854214-c0fd-4bec-a66f-a04f8400ea9e",
   "metadata": {},
   "outputs": [],
   "source": [
    "rfe=RFE(rf)"
   ]
  },
  {
   "cell_type": "code",
   "execution_count": 234,
   "id": "2e4a056f-1bb2-435e-922e-0e8952c11dac",
   "metadata": {},
   "outputs": [
    {
     "data": {
      "text/html": [
       "<style>#sk-container-id-14 {color: black;background-color: white;}#sk-container-id-14 pre{padding: 0;}#sk-container-id-14 div.sk-toggleable {background-color: white;}#sk-container-id-14 label.sk-toggleable__label {cursor: pointer;display: block;width: 100%;margin-bottom: 0;padding: 0.3em;box-sizing: border-box;text-align: center;}#sk-container-id-14 label.sk-toggleable__label-arrow:before {content: \"▸\";float: left;margin-right: 0.25em;color: #696969;}#sk-container-id-14 label.sk-toggleable__label-arrow:hover:before {color: black;}#sk-container-id-14 div.sk-estimator:hover label.sk-toggleable__label-arrow:before {color: black;}#sk-container-id-14 div.sk-toggleable__content {max-height: 0;max-width: 0;overflow: hidden;text-align: left;background-color: #f0f8ff;}#sk-container-id-14 div.sk-toggleable__content pre {margin: 0.2em;color: black;border-radius: 0.25em;background-color: #f0f8ff;}#sk-container-id-14 input.sk-toggleable__control:checked~div.sk-toggleable__content {max-height: 200px;max-width: 100%;overflow: auto;}#sk-container-id-14 input.sk-toggleable__control:checked~label.sk-toggleable__label-arrow:before {content: \"▾\";}#sk-container-id-14 div.sk-estimator input.sk-toggleable__control:checked~label.sk-toggleable__label {background-color: #d4ebff;}#sk-container-id-14 div.sk-label input.sk-toggleable__control:checked~label.sk-toggleable__label {background-color: #d4ebff;}#sk-container-id-14 input.sk-hidden--visually {border: 0;clip: rect(1px 1px 1px 1px);clip: rect(1px, 1px, 1px, 1px);height: 1px;margin: -1px;overflow: hidden;padding: 0;position: absolute;width: 1px;}#sk-container-id-14 div.sk-estimator {font-family: monospace;background-color: #f0f8ff;border: 1px dotted black;border-radius: 0.25em;box-sizing: border-box;margin-bottom: 0.5em;}#sk-container-id-14 div.sk-estimator:hover {background-color: #d4ebff;}#sk-container-id-14 div.sk-parallel-item::after {content: \"\";width: 100%;border-bottom: 1px solid gray;flex-grow: 1;}#sk-container-id-14 div.sk-label:hover label.sk-toggleable__label {background-color: #d4ebff;}#sk-container-id-14 div.sk-serial::before {content: \"\";position: absolute;border-left: 1px solid gray;box-sizing: border-box;top: 0;bottom: 0;left: 50%;z-index: 0;}#sk-container-id-14 div.sk-serial {display: flex;flex-direction: column;align-items: center;background-color: white;padding-right: 0.2em;padding-left: 0.2em;position: relative;}#sk-container-id-14 div.sk-item {position: relative;z-index: 1;}#sk-container-id-14 div.sk-parallel {display: flex;align-items: stretch;justify-content: center;background-color: white;position: relative;}#sk-container-id-14 div.sk-item::before, #sk-container-id-14 div.sk-parallel-item::before {content: \"\";position: absolute;border-left: 1px solid gray;box-sizing: border-box;top: 0;bottom: 0;left: 50%;z-index: -1;}#sk-container-id-14 div.sk-parallel-item {display: flex;flex-direction: column;z-index: 1;position: relative;background-color: white;}#sk-container-id-14 div.sk-parallel-item:first-child::after {align-self: flex-end;width: 50%;}#sk-container-id-14 div.sk-parallel-item:last-child::after {align-self: flex-start;width: 50%;}#sk-container-id-14 div.sk-parallel-item:only-child::after {width: 0;}#sk-container-id-14 div.sk-dashed-wrapped {border: 1px dashed gray;margin: 0 0.4em 0.5em 0.4em;box-sizing: border-box;padding-bottom: 0.4em;background-color: white;}#sk-container-id-14 div.sk-label label {font-family: monospace;font-weight: bold;display: inline-block;line-height: 1.2em;}#sk-container-id-14 div.sk-label-container {text-align: center;}#sk-container-id-14 div.sk-container {/* jupyter's `normalize.less` sets `[hidden] { display: none; }` but bootstrap.min.css set `[hidden] { display: none !important; }` so we also need the `!important` here to be able to override the default hidden behavior on the sphinx rendered scikit-learn.org. See: https://github.com/scikit-learn/scikit-learn/issues/21755 */display: inline-block !important;position: relative;}#sk-container-id-14 div.sk-text-repr-fallback {display: none;}</style><div id=\"sk-container-id-14\" class=\"sk-top-container\"><div class=\"sk-text-repr-fallback\"><pre>RFE(estimator=RandomForestClassifier())</pre><b>In a Jupyter environment, please rerun this cell to show the HTML representation or trust the notebook. <br />On GitHub, the HTML representation is unable to render, please try loading this page with nbviewer.org.</b></div><div class=\"sk-container\" hidden><div class=\"sk-item sk-dashed-wrapped\"><div class=\"sk-label-container\"><div class=\"sk-label sk-toggleable\"><input class=\"sk-toggleable__control sk-hidden--visually\" id=\"sk-estimator-id-14\" type=\"checkbox\" ><label for=\"sk-estimator-id-14\" class=\"sk-toggleable__label sk-toggleable__label-arrow\">RFE</label><div class=\"sk-toggleable__content\"><pre>RFE(estimator=RandomForestClassifier())</pre></div></div></div><div class=\"sk-parallel\"><div class=\"sk-parallel-item\"><div class=\"sk-item\"><div class=\"sk-label-container\"><div class=\"sk-label sk-toggleable\"><input class=\"sk-toggleable__control sk-hidden--visually\" id=\"sk-estimator-id-15\" type=\"checkbox\" ><label for=\"sk-estimator-id-15\" class=\"sk-toggleable__label sk-toggleable__label-arrow\">estimator: RandomForestClassifier</label><div class=\"sk-toggleable__content\"><pre>RandomForestClassifier()</pre></div></div></div><div class=\"sk-serial\"><div class=\"sk-item\"><div class=\"sk-estimator sk-toggleable\"><input class=\"sk-toggleable__control sk-hidden--visually\" id=\"sk-estimator-id-16\" type=\"checkbox\" ><label for=\"sk-estimator-id-16\" class=\"sk-toggleable__label sk-toggleable__label-arrow\">RandomForestClassifier</label><div class=\"sk-toggleable__content\"><pre>RandomForestClassifier()</pre></div></div></div></div></div></div></div></div></div></div>"
      ],
      "text/plain": [
       "RFE(estimator=RandomForestClassifier())"
      ]
     },
     "execution_count": 234,
     "metadata": {},
     "output_type": "execute_result"
    }
   ],
   "source": [
    "rfe.fit(x1_tr,y1_tr)"
   ]
  },
  {
   "cell_type": "code",
   "execution_count": 235,
   "id": "c6b59ac9-9b0f-440e-8963-d4961ddb9c9a",
   "metadata": {},
   "outputs": [
    {
     "data": {
      "text/plain": [
       "array([ True,  True, False,  True, False,  True,  True, False,  True,\n",
       "       False, False, False, False,  True, False])"
      ]
     },
     "execution_count": 235,
     "metadata": {},
     "output_type": "execute_result"
    }
   ],
   "source": [
    "rfe.support_ "
   ]
  },
  {
   "cell_type": "code",
   "execution_count": 236,
   "id": "f2cf0bc3-6c39-45b2-a876-6d6af6c1af95",
   "metadata": {},
   "outputs": [
    {
     "data": {
      "text/html": [
       "<div>\n",
       "<style scoped>\n",
       "    .dataframe tbody tr th:only-of-type {\n",
       "        vertical-align: middle;\n",
       "    }\n",
       "\n",
       "    .dataframe tbody tr th {\n",
       "        vertical-align: top;\n",
       "    }\n",
       "\n",
       "    .dataframe thead th {\n",
       "        text-align: right;\n",
       "    }\n",
       "</style>\n",
       "<table border=\"1\" class=\"dataframe\">\n",
       "  <thead>\n",
       "    <tr style=\"text-align: right;\">\n",
       "      <th></th>\n",
       "      <th>0</th>\n",
       "    </tr>\n",
       "  </thead>\n",
       "  <tbody>\n",
       "    <tr>\n",
       "      <th>0</th>\n",
       "      <td>True</td>\n",
       "    </tr>\n",
       "    <tr>\n",
       "      <th>1</th>\n",
       "      <td>True</td>\n",
       "    </tr>\n",
       "    <tr>\n",
       "      <th>2</th>\n",
       "      <td>False</td>\n",
       "    </tr>\n",
       "    <tr>\n",
       "      <th>3</th>\n",
       "      <td>True</td>\n",
       "    </tr>\n",
       "    <tr>\n",
       "      <th>4</th>\n",
       "      <td>False</td>\n",
       "    </tr>\n",
       "    <tr>\n",
       "      <th>5</th>\n",
       "      <td>True</td>\n",
       "    </tr>\n",
       "    <tr>\n",
       "      <th>6</th>\n",
       "      <td>True</td>\n",
       "    </tr>\n",
       "    <tr>\n",
       "      <th>7</th>\n",
       "      <td>False</td>\n",
       "    </tr>\n",
       "    <tr>\n",
       "      <th>8</th>\n",
       "      <td>True</td>\n",
       "    </tr>\n",
       "    <tr>\n",
       "      <th>9</th>\n",
       "      <td>False</td>\n",
       "    </tr>\n",
       "    <tr>\n",
       "      <th>10</th>\n",
       "      <td>False</td>\n",
       "    </tr>\n",
       "    <tr>\n",
       "      <th>11</th>\n",
       "      <td>False</td>\n",
       "    </tr>\n",
       "    <tr>\n",
       "      <th>12</th>\n",
       "      <td>False</td>\n",
       "    </tr>\n",
       "    <tr>\n",
       "      <th>13</th>\n",
       "      <td>True</td>\n",
       "    </tr>\n",
       "    <tr>\n",
       "      <th>14</th>\n",
       "      <td>False</td>\n",
       "    </tr>\n",
       "  </tbody>\n",
       "</table>\n",
       "</div>"
      ],
      "text/plain": [
       "        0\n",
       "0    True\n",
       "1    True\n",
       "2   False\n",
       "3    True\n",
       "4   False\n",
       "5    True\n",
       "6    True\n",
       "7   False\n",
       "8    True\n",
       "9   False\n",
       "10  False\n",
       "11  False\n",
       "12  False\n",
       "13   True\n",
       "14  False"
      ]
     },
     "execution_count": 236,
     "metadata": {},
     "output_type": "execute_result"
    }
   ],
   "source": [
    "df3=pd.DataFrame(rfe.support_)\n",
    "df3"
   ]
  },
  {
   "cell_type": "code",
   "execution_count": 237,
   "id": "43ce8a62-5b8b-4592-9a90-eff05f75560a",
   "metadata": {},
   "outputs": [
    {
     "data": {
      "text/html": [
       "<div>\n",
       "<style scoped>\n",
       "    .dataframe tbody tr th:only-of-type {\n",
       "        vertical-align: middle;\n",
       "    }\n",
       "\n",
       "    .dataframe tbody tr th {\n",
       "        vertical-align: top;\n",
       "    }\n",
       "\n",
       "    .dataframe thead th {\n",
       "        text-align: right;\n",
       "    }\n",
       "</style>\n",
       "<table border=\"1\" class=\"dataframe\">\n",
       "  <thead>\n",
       "    <tr style=\"text-align: right;\">\n",
       "      <th></th>\n",
       "      <th>feature_score</th>\n",
       "      <th>columns</th>\n",
       "    </tr>\n",
       "  </thead>\n",
       "  <tbody>\n",
       "    <tr>\n",
       "      <th>0</th>\n",
       "      <td>True</td>\n",
       "      <td>x</td>\n",
       "    </tr>\n",
       "    <tr>\n",
       "      <th>1</th>\n",
       "      <td>True</td>\n",
       "      <td>age</td>\n",
       "    </tr>\n",
       "    <tr>\n",
       "      <th>2</th>\n",
       "      <td>False</td>\n",
       "      <td>workclass</td>\n",
       "    </tr>\n",
       "    <tr>\n",
       "      <th>3</th>\n",
       "      <td>True</td>\n",
       "      <td>fnlwgt</td>\n",
       "    </tr>\n",
       "    <tr>\n",
       "      <th>4</th>\n",
       "      <td>False</td>\n",
       "      <td>education</td>\n",
       "    </tr>\n",
       "    <tr>\n",
       "      <th>5</th>\n",
       "      <td>True</td>\n",
       "      <td>educational_num</td>\n",
       "    </tr>\n",
       "    <tr>\n",
       "      <th>6</th>\n",
       "      <td>True</td>\n",
       "      <td>marital_status</td>\n",
       "    </tr>\n",
       "    <tr>\n",
       "      <th>7</th>\n",
       "      <td>False</td>\n",
       "      <td>occupation</td>\n",
       "    </tr>\n",
       "    <tr>\n",
       "      <th>8</th>\n",
       "      <td>True</td>\n",
       "      <td>relationship</td>\n",
       "    </tr>\n",
       "    <tr>\n",
       "      <th>9</th>\n",
       "      <td>False</td>\n",
       "      <td>race</td>\n",
       "    </tr>\n",
       "    <tr>\n",
       "      <th>10</th>\n",
       "      <td>False</td>\n",
       "      <td>gender</td>\n",
       "    </tr>\n",
       "    <tr>\n",
       "      <th>11</th>\n",
       "      <td>False</td>\n",
       "      <td>capital_gain</td>\n",
       "    </tr>\n",
       "    <tr>\n",
       "      <th>12</th>\n",
       "      <td>False</td>\n",
       "      <td>capital_loss</td>\n",
       "    </tr>\n",
       "    <tr>\n",
       "      <th>13</th>\n",
       "      <td>True</td>\n",
       "      <td>hours_per_week</td>\n",
       "    </tr>\n",
       "    <tr>\n",
       "      <th>14</th>\n",
       "      <td>False</td>\n",
       "      <td>native_country</td>\n",
       "    </tr>\n",
       "  </tbody>\n",
       "</table>\n",
       "</div>"
      ],
      "text/plain": [
       "    feature_score          columns\n",
       "0            True                x\n",
       "1            True              age\n",
       "2           False        workclass\n",
       "3            True           fnlwgt\n",
       "4           False        education\n",
       "5            True  educational_num\n",
       "6            True   marital_status\n",
       "7           False       occupation\n",
       "8            True     relationship\n",
       "9           False             race\n",
       "10          False           gender\n",
       "11          False     capital_gain\n",
       "12          False     capital_loss\n",
       "13           True   hours_per_week\n",
       "14          False   native_country"
      ]
     },
     "execution_count": 237,
     "metadata": {},
     "output_type": "execute_result"
    }
   ],
   "source": [
    "pdf4=pd.DataFrame({\"feature_score\":list(rfe.support_),\"columns\":list(x_sm.iloc[:,0:15])})\n",
    "pdf4"
   ]
  },
  {
   "cell_type": "code",
   "execution_count": 238,
   "id": "4431bdde-5f09-4fbe-a31e-9ae109ba5e08",
   "metadata": {},
   "outputs": [],
   "source": [
    "unwanted_columns =[\"x\",\"workclass\",\"education\",\"occupation\",\"race\",\"gender\",\"capital_gain\",\"capital_loss\",\"native_country\"]\n",
    "data2=x_sm.drop(unwanted_columns, axis=1)"
   ]
  },
  {
   "cell_type": "code",
   "execution_count": 239,
   "id": "00436cef-a30e-41a1-a843-069f1a173ec3",
   "metadata": {},
   "outputs": [
    {
     "data": {
      "text/html": [
       "<div>\n",
       "<style scoped>\n",
       "    .dataframe tbody tr th:only-of-type {\n",
       "        vertical-align: middle;\n",
       "    }\n",
       "\n",
       "    .dataframe tbody tr th {\n",
       "        vertical-align: top;\n",
       "    }\n",
       "\n",
       "    .dataframe thead th {\n",
       "        text-align: right;\n",
       "    }\n",
       "</style>\n",
       "<table border=\"1\" class=\"dataframe\">\n",
       "  <thead>\n",
       "    <tr style=\"text-align: right;\">\n",
       "      <th></th>\n",
       "      <th>age</th>\n",
       "      <th>fnlwgt</th>\n",
       "      <th>educational_num</th>\n",
       "      <th>marital_status</th>\n",
       "      <th>relationship</th>\n",
       "      <th>hours_per_week</th>\n",
       "    </tr>\n",
       "  </thead>\n",
       "  <tbody>\n",
       "    <tr>\n",
       "      <th>0</th>\n",
       "      <td>25.0</td>\n",
       "      <td>226802</td>\n",
       "      <td>7.0</td>\n",
       "      <td>4</td>\n",
       "      <td>3</td>\n",
       "      <td>40</td>\n",
       "    </tr>\n",
       "    <tr>\n",
       "      <th>1</th>\n",
       "      <td>38.0</td>\n",
       "      <td>89814</td>\n",
       "      <td>9.0</td>\n",
       "      <td>2</td>\n",
       "      <td>0</td>\n",
       "      <td>50</td>\n",
       "    </tr>\n",
       "    <tr>\n",
       "      <th>2</th>\n",
       "      <td>28.0</td>\n",
       "      <td>336951</td>\n",
       "      <td>12.0</td>\n",
       "      <td>2</td>\n",
       "      <td>0</td>\n",
       "      <td>40</td>\n",
       "    </tr>\n",
       "    <tr>\n",
       "      <th>3</th>\n",
       "      <td>44.0</td>\n",
       "      <td>160323</td>\n",
       "      <td>10.0</td>\n",
       "      <td>2</td>\n",
       "      <td>0</td>\n",
       "      <td>40</td>\n",
       "    </tr>\n",
       "    <tr>\n",
       "      <th>4</th>\n",
       "      <td>18.0</td>\n",
       "      <td>103497</td>\n",
       "      <td>10.0</td>\n",
       "      <td>4</td>\n",
       "      <td>3</td>\n",
       "      <td>30</td>\n",
       "    </tr>\n",
       "  </tbody>\n",
       "</table>\n",
       "</div>"
      ],
      "text/plain": [
       "    age  fnlwgt  educational_num  marital_status  relationship  hours_per_week\n",
       "0  25.0  226802              7.0               4             3              40\n",
       "1  38.0   89814              9.0               2             0              50\n",
       "2  28.0  336951             12.0               2             0              40\n",
       "3  44.0  160323             10.0               2             0              40\n",
       "4  18.0  103497             10.0               4             3              30"
      ]
     },
     "execution_count": 239,
     "metadata": {},
     "output_type": "execute_result"
    }
   ],
   "source": [
    "data2.head()"
   ]
  },
  {
   "cell_type": "code",
   "execution_count": 240,
   "id": "1b505b85-edf1-462b-a496-17cda6576cec",
   "metadata": {},
   "outputs": [],
   "source": [
    "x2=data2\n",
    "\n",
    "y2=y_sm"
   ]
  },
  {
   "cell_type": "code",
   "execution_count": 241,
   "id": "22c76524-1c72-49dc-a9a6-746da7ff5080",
   "metadata": {},
   "outputs": [],
   "source": [
    "rx2_tr,rx2_te,ry2_tr,ry2_te=train_test_split(x2,y2,test_size=0.2,random_state=101)"
   ]
  },
  {
   "cell_type": "code",
   "execution_count": 242,
   "id": "79ebf211-bb11-4740-b753-ec481ce52d27",
   "metadata": {},
   "outputs": [
    {
     "data": {
      "text/plain": [
       "((59448, 6), (14862, 6), (59448,), (14862,))"
      ]
     },
     "execution_count": 242,
     "metadata": {},
     "output_type": "execute_result"
    }
   ],
   "source": [
    "rx2_tr.shape,rx2_te.shape,ry2_tr.shape,ry2_te.shape"
   ]
  },
  {
   "cell_type": "code",
   "execution_count": 243,
   "id": "20aae798-ec1d-4c7e-8ac3-bdc069a1b9b3",
   "metadata": {},
   "outputs": [
    {
     "data": {
      "text/plain": [
       "<bound method NDFrame.head of 0        0\n",
       "1        0\n",
       "2        1\n",
       "3        1\n",
       "4        0\n",
       "        ..\n",
       "74305    1\n",
       "74306    1\n",
       "74307    1\n",
       "74308    1\n",
       "74309    1\n",
       "Name: income, Length: 74310, dtype: int32>"
      ]
     },
     "execution_count": 243,
     "metadata": {},
     "output_type": "execute_result"
    }
   ],
   "source": [
    "y_sm.head"
   ]
  },
  {
   "cell_type": "markdown",
   "id": "dc7b1447-7b99-473b-819c-fb5459b9b2ae",
   "metadata": {},
   "source": [
    "### Random Forest"
   ]
  },
  {
   "cell_type": "code",
   "execution_count": 244,
   "id": "48f29133-4362-4e1c-9dd0-6160bc54b17e",
   "metadata": {},
   "outputs": [
    {
     "data": {
      "text/html": [
       "<style>#sk-container-id-15 {color: black;background-color: white;}#sk-container-id-15 pre{padding: 0;}#sk-container-id-15 div.sk-toggleable {background-color: white;}#sk-container-id-15 label.sk-toggleable__label {cursor: pointer;display: block;width: 100%;margin-bottom: 0;padding: 0.3em;box-sizing: border-box;text-align: center;}#sk-container-id-15 label.sk-toggleable__label-arrow:before {content: \"▸\";float: left;margin-right: 0.25em;color: #696969;}#sk-container-id-15 label.sk-toggleable__label-arrow:hover:before {color: black;}#sk-container-id-15 div.sk-estimator:hover label.sk-toggleable__label-arrow:before {color: black;}#sk-container-id-15 div.sk-toggleable__content {max-height: 0;max-width: 0;overflow: hidden;text-align: left;background-color: #f0f8ff;}#sk-container-id-15 div.sk-toggleable__content pre {margin: 0.2em;color: black;border-radius: 0.25em;background-color: #f0f8ff;}#sk-container-id-15 input.sk-toggleable__control:checked~div.sk-toggleable__content {max-height: 200px;max-width: 100%;overflow: auto;}#sk-container-id-15 input.sk-toggleable__control:checked~label.sk-toggleable__label-arrow:before {content: \"▾\";}#sk-container-id-15 div.sk-estimator input.sk-toggleable__control:checked~label.sk-toggleable__label {background-color: #d4ebff;}#sk-container-id-15 div.sk-label input.sk-toggleable__control:checked~label.sk-toggleable__label {background-color: #d4ebff;}#sk-container-id-15 input.sk-hidden--visually {border: 0;clip: rect(1px 1px 1px 1px);clip: rect(1px, 1px, 1px, 1px);height: 1px;margin: -1px;overflow: hidden;padding: 0;position: absolute;width: 1px;}#sk-container-id-15 div.sk-estimator {font-family: monospace;background-color: #f0f8ff;border: 1px dotted black;border-radius: 0.25em;box-sizing: border-box;margin-bottom: 0.5em;}#sk-container-id-15 div.sk-estimator:hover {background-color: #d4ebff;}#sk-container-id-15 div.sk-parallel-item::after {content: \"\";width: 100%;border-bottom: 1px solid gray;flex-grow: 1;}#sk-container-id-15 div.sk-label:hover label.sk-toggleable__label {background-color: #d4ebff;}#sk-container-id-15 div.sk-serial::before {content: \"\";position: absolute;border-left: 1px solid gray;box-sizing: border-box;top: 0;bottom: 0;left: 50%;z-index: 0;}#sk-container-id-15 div.sk-serial {display: flex;flex-direction: column;align-items: center;background-color: white;padding-right: 0.2em;padding-left: 0.2em;position: relative;}#sk-container-id-15 div.sk-item {position: relative;z-index: 1;}#sk-container-id-15 div.sk-parallel {display: flex;align-items: stretch;justify-content: center;background-color: white;position: relative;}#sk-container-id-15 div.sk-item::before, #sk-container-id-15 div.sk-parallel-item::before {content: \"\";position: absolute;border-left: 1px solid gray;box-sizing: border-box;top: 0;bottom: 0;left: 50%;z-index: -1;}#sk-container-id-15 div.sk-parallel-item {display: flex;flex-direction: column;z-index: 1;position: relative;background-color: white;}#sk-container-id-15 div.sk-parallel-item:first-child::after {align-self: flex-end;width: 50%;}#sk-container-id-15 div.sk-parallel-item:last-child::after {align-self: flex-start;width: 50%;}#sk-container-id-15 div.sk-parallel-item:only-child::after {width: 0;}#sk-container-id-15 div.sk-dashed-wrapped {border: 1px dashed gray;margin: 0 0.4em 0.5em 0.4em;box-sizing: border-box;padding-bottom: 0.4em;background-color: white;}#sk-container-id-15 div.sk-label label {font-family: monospace;font-weight: bold;display: inline-block;line-height: 1.2em;}#sk-container-id-15 div.sk-label-container {text-align: center;}#sk-container-id-15 div.sk-container {/* jupyter's `normalize.less` sets `[hidden] { display: none; }` but bootstrap.min.css set `[hidden] { display: none !important; }` so we also need the `!important` here to be able to override the default hidden behavior on the sphinx rendered scikit-learn.org. See: https://github.com/scikit-learn/scikit-learn/issues/21755 */display: inline-block !important;position: relative;}#sk-container-id-15 div.sk-text-repr-fallback {display: none;}</style><div id=\"sk-container-id-15\" class=\"sk-top-container\"><div class=\"sk-text-repr-fallback\"><pre>RandomForestClassifier()</pre><b>In a Jupyter environment, please rerun this cell to show the HTML representation or trust the notebook. <br />On GitHub, the HTML representation is unable to render, please try loading this page with nbviewer.org.</b></div><div class=\"sk-container\" hidden><div class=\"sk-item\"><div class=\"sk-estimator sk-toggleable\"><input class=\"sk-toggleable__control sk-hidden--visually\" id=\"sk-estimator-id-17\" type=\"checkbox\" checked><label for=\"sk-estimator-id-17\" class=\"sk-toggleable__label sk-toggleable__label-arrow\">RandomForestClassifier</label><div class=\"sk-toggleable__content\"><pre>RandomForestClassifier()</pre></div></div></div></div></div>"
      ],
      "text/plain": [
       "RandomForestClassifier()"
      ]
     },
     "execution_count": 244,
     "metadata": {},
     "output_type": "execute_result"
    }
   ],
   "source": [
    "rf.fit(rx2_tr,ry2_tr)"
   ]
  },
  {
   "cell_type": "code",
   "execution_count": 245,
   "id": "0567e5d3-4a3c-40f0-8de1-6fec47f79cb7",
   "metadata": {},
   "outputs": [],
   "source": [
    "rp2=rf.predict(rx2_te)"
   ]
  },
  {
   "cell_type": "code",
   "execution_count": 246,
   "id": "353cc29f-422a-40d4-b77b-0621cca1d367",
   "metadata": {},
   "outputs": [
    {
     "data": {
      "text/plain": [
       "array([[6130, 1051],\n",
       "       [1249, 6432]], dtype=int64)"
      ]
     },
     "execution_count": 246,
     "metadata": {},
     "output_type": "execute_result"
    }
   ],
   "source": [
    "r_cm2=confusion_matrix(rp2,ry2_te)\n",
    "r_cm2"
   ]
  },
  {
   "cell_type": "code",
   "execution_count": 247,
   "id": "59f6099e-d889-4a51-a77c-10cd4a7952aa",
   "metadata": {},
   "outputs": [],
   "source": [
    "TN, FP, FN, TP = r_cm2.ravel()"
   ]
  },
  {
   "cell_type": "code",
   "execution_count": 248,
   "id": "84771a2e-a04a-4e5f-9365-9463cb215d02",
   "metadata": {},
   "outputs": [
    {
     "data": {
      "text/plain": [
       "0.8595483095015368"
      ]
     },
     "execution_count": 248,
     "metadata": {},
     "output_type": "execute_result"
    }
   ],
   "source": [
    "r_p2 = TP / (TP + FP)\n",
    "r_p2"
   ]
  },
  {
   "cell_type": "code",
   "execution_count": 249,
   "id": "50ca2567-61c5-45b0-88af-33e538754785",
   "metadata": {},
   "outputs": [
    {
     "data": {
      "text/plain": [
       "0.8373909647181357"
      ]
     },
     "execution_count": 249,
     "metadata": {},
     "output_type": "execute_result"
    }
   ],
   "source": [
    "r_r2 = TP / (TP + FN)\n",
    "r_r2"
   ]
  },
  {
   "cell_type": "code",
   "execution_count": 250,
   "id": "d4022d9f-8adf-499b-b891-175eaebc2f59",
   "metadata": {},
   "outputs": [
    {
     "data": {
      "text/plain": [
       "0.8483249802163018"
      ]
     },
     "execution_count": 250,
     "metadata": {},
     "output_type": "execute_result"
    }
   ],
   "source": [
    "r_f1_2 = 2 * (r_p2 * r_r2) / (r_p2 + r_r2)\n",
    "r_f1_2"
   ]
  },
  {
   "cell_type": "code",
   "execution_count": 251,
   "id": "b7a39efe-6c93-463c-ada0-ab2f437ea62b",
   "metadata": {},
   "outputs": [
    {
     "data": {
      "text/plain": [
       "84.5242901359171"
      ]
     },
     "execution_count": 251,
     "metadata": {},
     "output_type": "execute_result"
    }
   ],
   "source": [
    "r_ac2=r_cm2.diagonal().sum()/r_cm2.sum()*100\n",
    "r_ac2"
   ]
  },
  {
   "cell_type": "code",
   "execution_count": 252,
   "id": "bc260d9d-e269-46f0-a21c-83e0df024555",
   "metadata": {},
   "outputs": [
    {
     "name": "stdout",
     "output_type": "stream",
     "text": [
      "              precision    recall  f1-score   support\n",
      "\n",
      "           0       0.83      0.85      0.84      7181\n",
      "           1       0.86      0.84      0.85      7681\n",
      "\n",
      "    accuracy                           0.85     14862\n",
      "   macro avg       0.85      0.85      0.85     14862\n",
      "weighted avg       0.85      0.85      0.85     14862\n",
      "\n"
     ]
    }
   ],
   "source": [
    "print(classification_report(rp2,ry2_te))"
   ]
  },
  {
   "cell_type": "markdown",
   "id": "d1023eed-c20c-49bc-b675-c2af5603ed9a",
   "metadata": {},
   "source": [
    "### XG boost"
   ]
  },
  {
   "cell_type": "code",
   "execution_count": 253,
   "id": "54c3addd-ef5a-44b8-9577-4cb874f4bbca",
   "metadata": {},
   "outputs": [
    {
     "data": {
      "text/html": [
       "<style>#sk-container-id-16 {color: black;background-color: white;}#sk-container-id-16 pre{padding: 0;}#sk-container-id-16 div.sk-toggleable {background-color: white;}#sk-container-id-16 label.sk-toggleable__label {cursor: pointer;display: block;width: 100%;margin-bottom: 0;padding: 0.3em;box-sizing: border-box;text-align: center;}#sk-container-id-16 label.sk-toggleable__label-arrow:before {content: \"▸\";float: left;margin-right: 0.25em;color: #696969;}#sk-container-id-16 label.sk-toggleable__label-arrow:hover:before {color: black;}#sk-container-id-16 div.sk-estimator:hover label.sk-toggleable__label-arrow:before {color: black;}#sk-container-id-16 div.sk-toggleable__content {max-height: 0;max-width: 0;overflow: hidden;text-align: left;background-color: #f0f8ff;}#sk-container-id-16 div.sk-toggleable__content pre {margin: 0.2em;color: black;border-radius: 0.25em;background-color: #f0f8ff;}#sk-container-id-16 input.sk-toggleable__control:checked~div.sk-toggleable__content {max-height: 200px;max-width: 100%;overflow: auto;}#sk-container-id-16 input.sk-toggleable__control:checked~label.sk-toggleable__label-arrow:before {content: \"▾\";}#sk-container-id-16 div.sk-estimator input.sk-toggleable__control:checked~label.sk-toggleable__label {background-color: #d4ebff;}#sk-container-id-16 div.sk-label input.sk-toggleable__control:checked~label.sk-toggleable__label {background-color: #d4ebff;}#sk-container-id-16 input.sk-hidden--visually {border: 0;clip: rect(1px 1px 1px 1px);clip: rect(1px, 1px, 1px, 1px);height: 1px;margin: -1px;overflow: hidden;padding: 0;position: absolute;width: 1px;}#sk-container-id-16 div.sk-estimator {font-family: monospace;background-color: #f0f8ff;border: 1px dotted black;border-radius: 0.25em;box-sizing: border-box;margin-bottom: 0.5em;}#sk-container-id-16 div.sk-estimator:hover {background-color: #d4ebff;}#sk-container-id-16 div.sk-parallel-item::after {content: \"\";width: 100%;border-bottom: 1px solid gray;flex-grow: 1;}#sk-container-id-16 div.sk-label:hover label.sk-toggleable__label {background-color: #d4ebff;}#sk-container-id-16 div.sk-serial::before {content: \"\";position: absolute;border-left: 1px solid gray;box-sizing: border-box;top: 0;bottom: 0;left: 50%;z-index: 0;}#sk-container-id-16 div.sk-serial {display: flex;flex-direction: column;align-items: center;background-color: white;padding-right: 0.2em;padding-left: 0.2em;position: relative;}#sk-container-id-16 div.sk-item {position: relative;z-index: 1;}#sk-container-id-16 div.sk-parallel {display: flex;align-items: stretch;justify-content: center;background-color: white;position: relative;}#sk-container-id-16 div.sk-item::before, #sk-container-id-16 div.sk-parallel-item::before {content: \"\";position: absolute;border-left: 1px solid gray;box-sizing: border-box;top: 0;bottom: 0;left: 50%;z-index: -1;}#sk-container-id-16 div.sk-parallel-item {display: flex;flex-direction: column;z-index: 1;position: relative;background-color: white;}#sk-container-id-16 div.sk-parallel-item:first-child::after {align-self: flex-end;width: 50%;}#sk-container-id-16 div.sk-parallel-item:last-child::after {align-self: flex-start;width: 50%;}#sk-container-id-16 div.sk-parallel-item:only-child::after {width: 0;}#sk-container-id-16 div.sk-dashed-wrapped {border: 1px dashed gray;margin: 0 0.4em 0.5em 0.4em;box-sizing: border-box;padding-bottom: 0.4em;background-color: white;}#sk-container-id-16 div.sk-label label {font-family: monospace;font-weight: bold;display: inline-block;line-height: 1.2em;}#sk-container-id-16 div.sk-label-container {text-align: center;}#sk-container-id-16 div.sk-container {/* jupyter's `normalize.less` sets `[hidden] { display: none; }` but bootstrap.min.css set `[hidden] { display: none !important; }` so we also need the `!important` here to be able to override the default hidden behavior on the sphinx rendered scikit-learn.org. See: https://github.com/scikit-learn/scikit-learn/issues/21755 */display: inline-block !important;position: relative;}#sk-container-id-16 div.sk-text-repr-fallback {display: none;}</style><div id=\"sk-container-id-16\" class=\"sk-top-container\"><div class=\"sk-text-repr-fallback\"><pre>XGBClassifier(base_score=None, booster=None, callbacks=None,\n",
       "              colsample_bylevel=None, colsample_bynode=None,\n",
       "              colsample_bytree=None, device=None, early_stopping_rounds=None,\n",
       "              enable_categorical=False, eval_metric=None, feature_types=None,\n",
       "              gamma=None, grow_policy=None, importance_type=None,\n",
       "              interaction_constraints=None, learning_rate=None, max_bin=None,\n",
       "              max_cat_threshold=None, max_cat_to_onehot=None,\n",
       "              max_delta_step=None, max_depth=None, max_leaves=None,\n",
       "              min_child_weight=None, missing=nan, monotone_constraints=None,\n",
       "              multi_strategy=None, n_estimators=None, n_jobs=None,\n",
       "              num_parallel_tree=None, random_state=None, ...)</pre><b>In a Jupyter environment, please rerun this cell to show the HTML representation or trust the notebook. <br />On GitHub, the HTML representation is unable to render, please try loading this page with nbviewer.org.</b></div><div class=\"sk-container\" hidden><div class=\"sk-item\"><div class=\"sk-estimator sk-toggleable\"><input class=\"sk-toggleable__control sk-hidden--visually\" id=\"sk-estimator-id-18\" type=\"checkbox\" checked><label for=\"sk-estimator-id-18\" class=\"sk-toggleable__label sk-toggleable__label-arrow\">XGBClassifier</label><div class=\"sk-toggleable__content\"><pre>XGBClassifier(base_score=None, booster=None, callbacks=None,\n",
       "              colsample_bylevel=None, colsample_bynode=None,\n",
       "              colsample_bytree=None, device=None, early_stopping_rounds=None,\n",
       "              enable_categorical=False, eval_metric=None, feature_types=None,\n",
       "              gamma=None, grow_policy=None, importance_type=None,\n",
       "              interaction_constraints=None, learning_rate=None, max_bin=None,\n",
       "              max_cat_threshold=None, max_cat_to_onehot=None,\n",
       "              max_delta_step=None, max_depth=None, max_leaves=None,\n",
       "              min_child_weight=None, missing=nan, monotone_constraints=None,\n",
       "              multi_strategy=None, n_estimators=None, n_jobs=None,\n",
       "              num_parallel_tree=None, random_state=None, ...)</pre></div></div></div></div></div>"
      ],
      "text/plain": [
       "XGBClassifier(base_score=None, booster=None, callbacks=None,\n",
       "              colsample_bylevel=None, colsample_bynode=None,\n",
       "              colsample_bytree=None, device=None, early_stopping_rounds=None,\n",
       "              enable_categorical=False, eval_metric=None, feature_types=None,\n",
       "              gamma=None, grow_policy=None, importance_type=None,\n",
       "              interaction_constraints=None, learning_rate=None, max_bin=None,\n",
       "              max_cat_threshold=None, max_cat_to_onehot=None,\n",
       "              max_delta_step=None, max_depth=None, max_leaves=None,\n",
       "              min_child_weight=None, missing=nan, monotone_constraints=None,\n",
       "              multi_strategy=None, n_estimators=None, n_jobs=None,\n",
       "              num_parallel_tree=None, random_state=None, ...)"
      ]
     },
     "execution_count": 253,
     "metadata": {},
     "output_type": "execute_result"
    }
   ],
   "source": [
    "xgb.fit(rx2_tr,ry2_tr)"
   ]
  },
  {
   "cell_type": "code",
   "execution_count": 254,
   "id": "7d18ff56-7b81-4500-a902-5595d122961d",
   "metadata": {},
   "outputs": [],
   "source": [
    "xgb_p1=xgb.predict(rx2_te)"
   ]
  },
  {
   "cell_type": "code",
   "execution_count": 255,
   "id": "d3621300-2147-4b86-be0a-de8ed2dc79e0",
   "metadata": {},
   "outputs": [
    {
     "data": {
      "text/plain": [
       "array([[6065,  855],\n",
       "       [1314, 6628]], dtype=int64)"
      ]
     },
     "execution_count": 255,
     "metadata": {},
     "output_type": "execute_result"
    }
   ],
   "source": [
    "xgb_cm=confusion_matrix(xgb_p1,ry2_te)\n",
    "xgb_cm"
   ]
  },
  {
   "cell_type": "code",
   "execution_count": 256,
   "id": "0fc38dc1-b229-4ac3-99aa-b857380ae4cf",
   "metadata": {},
   "outputs": [],
   "source": [
    "TN, FP, FN, TP = xgb_cm.ravel()"
   ]
  },
  {
   "cell_type": "code",
   "execution_count": 257,
   "id": "7dba5c12-0c31-410d-90ec-df31ec8012a0",
   "metadata": {},
   "outputs": [
    {
     "data": {
      "text/plain": [
       "0.8857410129627155"
      ]
     },
     "execution_count": 257,
     "metadata": {},
     "output_type": "execute_result"
    }
   ],
   "source": [
    "xgb_p2 = TP / (TP + FP)\n",
    "xgb_p2"
   ]
  },
  {
   "cell_type": "code",
   "execution_count": 258,
   "id": "479ab4a4-5c6d-445e-8d70-d68d9114222f",
   "metadata": {},
   "outputs": [
    {
     "data": {
      "text/plain": [
       "0.8345504910601863"
      ]
     },
     "execution_count": 258,
     "metadata": {},
     "output_type": "execute_result"
    }
   ],
   "source": [
    "xgb_r2 = TP / (TP + FN)\n",
    "xgb_r2"
   ]
  },
  {
   "cell_type": "code",
   "execution_count": 259,
   "id": "cb058980-7c3c-42ca-89c6-237b2e92df40",
   "metadata": {},
   "outputs": [
    {
     "data": {
      "text/plain": [
       "0.8593841166936791"
      ]
     },
     "execution_count": 259,
     "metadata": {},
     "output_type": "execute_result"
    }
   ],
   "source": [
    "xgb_f1_2 = 2 * (xgb_p2 * xgb_r2) / (xgb_p2 +xgb_r2)\n",
    "xgb_f1_2"
   ]
  },
  {
   "cell_type": "code",
   "execution_count": 260,
   "id": "42e9a13b-b7d6-49f2-85d4-cfe9fc059457",
   "metadata": {},
   "outputs": [
    {
     "data": {
      "text/plain": [
       "85.40573274121923"
      ]
     },
     "execution_count": 260,
     "metadata": {},
     "output_type": "execute_result"
    }
   ],
   "source": [
    "xgb_acc2=xgb_cm.diagonal().sum()/xgb_cm.sum()*100\n",
    "xgb_acc2"
   ]
  },
  {
   "cell_type": "code",
   "execution_count": 261,
   "id": "a5c430fe-4cb6-48d3-8832-fff5ae9c42ab",
   "metadata": {},
   "outputs": [
    {
     "name": "stdout",
     "output_type": "stream",
     "text": [
      "              precision    recall  f1-score   support\n",
      "\n",
      "           0       0.82      0.88      0.85      6920\n",
      "           1       0.89      0.83      0.86      7942\n",
      "\n",
      "    accuracy                           0.85     14862\n",
      "   macro avg       0.85      0.86      0.85     14862\n",
      "weighted avg       0.86      0.85      0.85     14862\n",
      "\n"
     ]
    }
   ],
   "source": [
    "print(classification_report(xgb_p1,ry2_te))"
   ]
  },
  {
   "cell_type": "code",
   "execution_count": 262,
   "id": "699b560c-00bb-41ec-bcbc-694ae8224b98",
   "metadata": {},
   "outputs": [],
   "source": [
    "list1=[\"RF\",  \"xgboost\" ] \n",
    "list2=[ r_ac2,  xgb_acc2 ] \n",
    "list3=[ r_p2,   xgb_p2 ]  \n",
    "list4=[ r_r2,   xgb_r2 ] \n",
    "list5=[ r_f1_2, xgb_f1_2 ]  "
   ]
  },
  {
   "cell_type": "code",
   "execution_count": 263,
   "id": "af9a3952-2db0-427e-80eb-5b2f3e5521ce",
   "metadata": {},
   "outputs": [
    {
     "data": {
      "text/html": [
       "<div>\n",
       "<style scoped>\n",
       "    .dataframe tbody tr th:only-of-type {\n",
       "        vertical-align: middle;\n",
       "    }\n",
       "\n",
       "    .dataframe tbody tr th {\n",
       "        vertical-align: top;\n",
       "    }\n",
       "\n",
       "    .dataframe thead th {\n",
       "        text-align: right;\n",
       "    }\n",
       "</style>\n",
       "<table border=\"1\" class=\"dataframe\">\n",
       "  <thead>\n",
       "    <tr style=\"text-align: right;\">\n",
       "      <th></th>\n",
       "      <th>model_name</th>\n",
       "      <th>Accuracy</th>\n",
       "      <th>Precision</th>\n",
       "      <th>Recall</th>\n",
       "      <th>F1-score</th>\n",
       "    </tr>\n",
       "  </thead>\n",
       "  <tbody>\n",
       "    <tr>\n",
       "      <th>0</th>\n",
       "      <td>RF</td>\n",
       "      <td>84.524290</td>\n",
       "      <td>0.859548</td>\n",
       "      <td>0.837391</td>\n",
       "      <td>0.848325</td>\n",
       "    </tr>\n",
       "    <tr>\n",
       "      <th>1</th>\n",
       "      <td>xgboost</td>\n",
       "      <td>85.405733</td>\n",
       "      <td>0.885741</td>\n",
       "      <td>0.834550</td>\n",
       "      <td>0.859384</td>\n",
       "    </tr>\n",
       "  </tbody>\n",
       "</table>\n",
       "</div>"
      ],
      "text/plain": [
       "  model_name   Accuracy  Precision    Recall  F1-score\n",
       "0         RF  84.524290   0.859548  0.837391  0.848325\n",
       "1    xgboost  85.405733   0.885741  0.834550  0.859384"
      ]
     },
     "execution_count": 263,
     "metadata": {},
     "output_type": "execute_result"
    }
   ],
   "source": [
    "result=pd.DataFrame({\"model_name\":list1,\"Accuracy\":list2,\"Precision\":list3,\"Recall\":list4,\"F1-score\":list5})\n",
    "resultFrom the above models xgboost is performing good."
   ]
  },
  {
   "cell_type": "markdown",
   "id": "e7119390-f516-4116-842b-7903114096ed",
   "metadata": {},
   "source": [
    "#### From the above models xgboost is performing good."
   ]
  },
  {
   "cell_type": "markdown",
   "id": "6ce2ec03-c7d1-41eb-945a-42e10af03adf",
   "metadata": {},
   "source": [
    "### Cross validation"
   ]
  },
  {
   "cell_type": "code",
   "execution_count": 264,
   "id": "2f896350-849e-4da5-ac0a-999f8175e243",
   "metadata": {},
   "outputs": [],
   "source": [
    "from sklearn.model_selection import cross_val_score"
   ]
  },
  {
   "cell_type": "code",
   "execution_count": 265,
   "id": "b0d699c9-92bb-46d8-874c-3cbe9016f66f",
   "metadata": {},
   "outputs": [],
   "source": [
    "scores= cross_val_score(rf,x1_tr,y1_tr,cv=5)"
   ]
  },
  {
   "cell_type": "code",
   "execution_count": 266,
   "id": "7f24c715-0c3d-4e05-9228-7a48269dffd7",
   "metadata": {},
   "outputs": [
    {
     "name": "stdout",
     "output_type": "stream",
     "text": [
      "cross-validation scores: [0.89529016 0.89680404 0.89478553 0.89208512 0.90167382]\n",
      "Mean cv accuracy : 0.90\n"
     ]
    }
   ],
   "source": [
    "print(f\"cross-validation scores: {scores}\")\n",
    "print(f\"Mean cv accuracy : {scores.mean():.2f}\")"
   ]
  },
  {
   "cell_type": "markdown",
   "id": "d704a90f-afd8-4aef-8cc2-9f6fbb20a17f",
   "metadata": {},
   "source": [
    "### Stratified K Fold"
   ]
  },
  {
   "cell_type": "code",
   "execution_count": 267,
   "id": "8834abd4-8a37-4c50-ae01-23b9a2f208f2",
   "metadata": {},
   "outputs": [],
   "source": [
    "from sklearn.model_selection import StratifiedKFold"
   ]
  },
  {
   "cell_type": "code",
   "execution_count": 268,
   "id": "796f44e3-f9f3-4fc2-a293-da9c80d489aa",
   "metadata": {},
   "outputs": [],
   "source": [
    "skf = StratifiedKFold(n_splits=5)"
   ]
  },
  {
   "cell_type": "code",
   "execution_count": 269,
   "id": "8ddb12b5-67a3-4ca3-be1a-0bde35e01d9b",
   "metadata": {},
   "outputs": [],
   "source": [
    "scores2= cross_val_score(rf,x1_tr,y1_tr,cv=skf)"
   ]
  },
  {
   "cell_type": "code",
   "execution_count": 270,
   "id": "fcefed58-0f0c-4563-84b8-34ffe6b0afb1",
   "metadata": {},
   "outputs": [
    {
     "name": "stdout",
     "output_type": "stream",
     "text": [
      "Stratified cv accuracy : 0.90\n"
     ]
    }
   ],
   "source": [
    "print(f\"Stratified cv accuracy : {scores.mean():.2f}\")"
   ]
  },
  {
   "cell_type": "code",
   "execution_count": 271,
   "id": "fd8db227-2d44-486b-a3fb-46f52678f847",
   "metadata": {},
   "outputs": [
    {
     "name": "stdout",
     "output_type": "stream",
     "text": [
      "Standard deviation of cv Scores:0.00\n"
     ]
    }
   ],
   "source": [
    "print(f\"Standard deviation of cv Scores:{scores2.std():.2f}\")"
   ]
  },
  {
   "attachments": {},
   "cell_type": "markdown",
   "id": "504b4fb2-272f-4ae2-a649-2a58aaae47a6",
   "metadata": {},
   "source": [
    "#### Stratified CV accuracy:0.90\r\n",
    "\n"
   ]
  },
  {
   "cell_type": "code",
   "execution_count": null,
   "id": "d6df9eee-6ab9-4edd-af53-81d59ab103af",
   "metadata": {},
   "outputs": [],
   "source": []
  }
 ],
 "metadata": {
  "kernelspec": {
   "display_name": "Python 3 (ipykernel)",
   "language": "python",
   "name": "python3"
  },
  "language_info": {
   "codemirror_mode": {
    "name": "ipython",
    "version": 3
   },
   "file_extension": ".py",
   "mimetype": "text/x-python",
   "name": "python",
   "nbconvert_exporter": "python",
   "pygments_lexer": "ipython3",
   "version": "3.11.7"
  }
 },
 "nbformat": 4,
 "nbformat_minor": 5
}
